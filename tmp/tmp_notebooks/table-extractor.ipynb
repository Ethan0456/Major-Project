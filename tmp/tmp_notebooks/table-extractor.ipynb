{
 "cells": [
  {
   "cell_type": "markdown",
   "metadata": {},
   "source": [
    "# Create CSV files from PDF files"
   ]
  },
  {
   "cell_type": "code",
   "execution_count": 5,
   "metadata": {},
   "outputs": [],
   "source": [
    "import tabula\n",
    "import pandas as pd\n",
    "import glob\n",
    "\n",
    "def extract_tables_from_pdf(pdf_path, pages):\n",
    "    # Use tabula to extract tables from specific pages\n",
    "    tables = tabula.read_pdf(pdf_path, pages=pages, multiple_tables=True)\n",
    "\n",
    "    # Assuming the last table on each page is the one you want to extract\n",
    "    extracted_tables = [table for table in tables]\n",
    "\n",
    "    return extracted_tables\n",
    "\n",
    "def save_tables_to_csv(tables, csv_path_prefix):\n",
    "    for i, table in enumerate(tables):\n",
    "        csv_path = f\"{csv_path_prefix}_page_{i + 1}.csv\"\n",
    "        table.to_csv(csv_path, index=False)\n",
    "        print(f\"Table from page {i + 1} saved to {csv_path}\")"
   ]
  },
  {
   "cell_type": "code",
   "execution_count": 6,
   "metadata": {},
   "outputs": [
    {
     "data": {
      "text/plain": [
       "['PDF/Gujarat_State_Year_Book_2014-15.pdf',\n",
       " 'PDF/Gujarat_State_Year_Book_2015-16.pdf',\n",
       " 'PDF/Gujarat_State_Year_Book_2016-17.pdf',\n",
       " 'PDF/Gujarat_State_Year_Book_2017-18.pdf',\n",
       " 'PDF/Gujarat_State_Year_Book_2018-19.pdf',\n",
       " 'PDF/Gujarat_State_Year_Book_2019-20.pdf',\n",
       " 'PDF/Gujarat_State_Year_Book_2020-21.pdf',\n",
       " 'PDF/Gujarat_State_Year_Book_2021-22.pdf']"
      ]
     },
     "execution_count": 6,
     "metadata": {},
     "output_type": "execute_result"
    }
   ],
   "source": [
    "files = glob.glob(\"PDF/*.pdf\")\n",
    "files.sort()\n",
    "files"
   ]
  },
  {
   "cell_type": "code",
   "execution_count": 7,
   "metadata": {},
   "outputs": [],
   "source": [
    "table_map = {\n",
    "    '14-15':(182,196),\n",
    "    '15-16':(191,209),\n",
    "    '16-17':(120,127),\n",
    "    '17-18':(155,173),\n",
    "    '18-19':(138,156),\n",
    "    '19-20':(140,154),\n",
    "    '20-21':(141,156),\n",
    "    '21-22':(136,150)\n",
    "}"
   ]
  },
  {
   "cell_type": "code",
   "execution_count": 8,
   "metadata": {},
   "outputs": [
    {
     "name": "stderr",
     "output_type": "stream",
     "text": [
      "Error importing jpype dependencies. Fallback to subprocess.\n",
      "No module named 'jpype'\n"
     ]
    },
    {
     "name": "stdout",
     "output_type": "stream",
     "text": [
      "Table from page 1 saved to table-data/output_table_Gujarat_State_Year_Book_2014-15_page_1.csv\n",
      "Table from page 2 saved to table-data/output_table_Gujarat_State_Year_Book_2014-15_page_2.csv\n",
      "Table from page 3 saved to table-data/output_table_Gujarat_State_Year_Book_2014-15_page_3.csv\n",
      "Table from page 4 saved to table-data/output_table_Gujarat_State_Year_Book_2014-15_page_4.csv\n",
      "Table from page 5 saved to table-data/output_table_Gujarat_State_Year_Book_2014-15_page_5.csv\n",
      "Table from page 6 saved to table-data/output_table_Gujarat_State_Year_Book_2014-15_page_6.csv\n",
      "Table from page 7 saved to table-data/output_table_Gujarat_State_Year_Book_2014-15_page_7.csv\n",
      "Table from page 8 saved to table-data/output_table_Gujarat_State_Year_Book_2014-15_page_8.csv\n",
      "Table from page 9 saved to table-data/output_table_Gujarat_State_Year_Book_2014-15_page_9.csv\n",
      "Table from page 10 saved to table-data/output_table_Gujarat_State_Year_Book_2014-15_page_10.csv\n",
      "Table from page 11 saved to table-data/output_table_Gujarat_State_Year_Book_2014-15_page_11.csv\n",
      "Table from page 12 saved to table-data/output_table_Gujarat_State_Year_Book_2014-15_page_12.csv\n",
      "Table from page 13 saved to table-data/output_table_Gujarat_State_Year_Book_2014-15_page_13.csv\n",
      "Table from page 14 saved to table-data/output_table_Gujarat_State_Year_Book_2014-15_page_14.csv\n",
      "Table from page 1 saved to table-data/output_table_Gujarat_State_Year_Book_2015-16_page_1.csv\n",
      "Table from page 2 saved to table-data/output_table_Gujarat_State_Year_Book_2015-16_page_2.csv\n",
      "Table from page 3 saved to table-data/output_table_Gujarat_State_Year_Book_2015-16_page_3.csv\n",
      "Table from page 4 saved to table-data/output_table_Gujarat_State_Year_Book_2015-16_page_4.csv\n",
      "Table from page 5 saved to table-data/output_table_Gujarat_State_Year_Book_2015-16_page_5.csv\n",
      "Table from page 6 saved to table-data/output_table_Gujarat_State_Year_Book_2015-16_page_6.csv\n",
      "Table from page 7 saved to table-data/output_table_Gujarat_State_Year_Book_2015-16_page_7.csv\n",
      "Table from page 8 saved to table-data/output_table_Gujarat_State_Year_Book_2015-16_page_8.csv\n",
      "Table from page 9 saved to table-data/output_table_Gujarat_State_Year_Book_2015-16_page_9.csv\n",
      "Table from page 10 saved to table-data/output_table_Gujarat_State_Year_Book_2015-16_page_10.csv\n",
      "Table from page 11 saved to table-data/output_table_Gujarat_State_Year_Book_2015-16_page_11.csv\n",
      "Table from page 12 saved to table-data/output_table_Gujarat_State_Year_Book_2015-16_page_12.csv\n",
      "Table from page 13 saved to table-data/output_table_Gujarat_State_Year_Book_2015-16_page_13.csv\n",
      "Table from page 14 saved to table-data/output_table_Gujarat_State_Year_Book_2015-16_page_14.csv\n",
      "Table from page 15 saved to table-data/output_table_Gujarat_State_Year_Book_2015-16_page_15.csv\n",
      "Table from page 16 saved to table-data/output_table_Gujarat_State_Year_Book_2015-16_page_16.csv\n",
      "Table from page 17 saved to table-data/output_table_Gujarat_State_Year_Book_2015-16_page_17.csv\n",
      "Table from page 18 saved to table-data/output_table_Gujarat_State_Year_Book_2015-16_page_18.csv\n",
      "Table from page 1 saved to table-data/output_table_Gujarat_State_Year_Book_2016-17_page_1.csv\n",
      "Table from page 2 saved to table-data/output_table_Gujarat_State_Year_Book_2016-17_page_2.csv\n",
      "Table from page 3 saved to table-data/output_table_Gujarat_State_Year_Book_2016-17_page_3.csv\n",
      "Table from page 4 saved to table-data/output_table_Gujarat_State_Year_Book_2016-17_page_4.csv\n",
      "Table from page 5 saved to table-data/output_table_Gujarat_State_Year_Book_2016-17_page_5.csv\n",
      "Table from page 6 saved to table-data/output_table_Gujarat_State_Year_Book_2016-17_page_6.csv\n",
      "Table from page 7 saved to table-data/output_table_Gujarat_State_Year_Book_2016-17_page_7.csv\n",
      "Table from page 1 saved to table-data/output_table_Gujarat_State_Year_Book_2017-18_page_1.csv\n",
      "Table from page 2 saved to table-data/output_table_Gujarat_State_Year_Book_2017-18_page_2.csv\n",
      "Table from page 3 saved to table-data/output_table_Gujarat_State_Year_Book_2017-18_page_3.csv\n",
      "Table from page 4 saved to table-data/output_table_Gujarat_State_Year_Book_2017-18_page_4.csv\n",
      "Table from page 5 saved to table-data/output_table_Gujarat_State_Year_Book_2017-18_page_5.csv\n",
      "Table from page 6 saved to table-data/output_table_Gujarat_State_Year_Book_2017-18_page_6.csv\n",
      "Table from page 7 saved to table-data/output_table_Gujarat_State_Year_Book_2017-18_page_7.csv\n",
      "Table from page 8 saved to table-data/output_table_Gujarat_State_Year_Book_2017-18_page_8.csv\n",
      "Table from page 9 saved to table-data/output_table_Gujarat_State_Year_Book_2017-18_page_9.csv\n",
      "Table from page 10 saved to table-data/output_table_Gujarat_State_Year_Book_2017-18_page_10.csv\n",
      "Table from page 11 saved to table-data/output_table_Gujarat_State_Year_Book_2017-18_page_11.csv\n",
      "Table from page 12 saved to table-data/output_table_Gujarat_State_Year_Book_2017-18_page_12.csv\n",
      "Table from page 13 saved to table-data/output_table_Gujarat_State_Year_Book_2017-18_page_13.csv\n",
      "Table from page 14 saved to table-data/output_table_Gujarat_State_Year_Book_2017-18_page_14.csv\n",
      "Table from page 15 saved to table-data/output_table_Gujarat_State_Year_Book_2017-18_page_15.csv\n",
      "Table from page 16 saved to table-data/output_table_Gujarat_State_Year_Book_2017-18_page_16.csv\n",
      "Table from page 17 saved to table-data/output_table_Gujarat_State_Year_Book_2017-18_page_17.csv\n",
      "Table from page 18 saved to table-data/output_table_Gujarat_State_Year_Book_2017-18_page_18.csv\n",
      "Table from page 1 saved to table-data/output_table_Gujarat_State_Year_Book_2018-19_page_1.csv\n",
      "Table from page 2 saved to table-data/output_table_Gujarat_State_Year_Book_2018-19_page_2.csv\n",
      "Table from page 3 saved to table-data/output_table_Gujarat_State_Year_Book_2018-19_page_3.csv\n",
      "Table from page 4 saved to table-data/output_table_Gujarat_State_Year_Book_2018-19_page_4.csv\n",
      "Table from page 5 saved to table-data/output_table_Gujarat_State_Year_Book_2018-19_page_5.csv\n",
      "Table from page 6 saved to table-data/output_table_Gujarat_State_Year_Book_2018-19_page_6.csv\n",
      "Table from page 7 saved to table-data/output_table_Gujarat_State_Year_Book_2018-19_page_7.csv\n",
      "Table from page 8 saved to table-data/output_table_Gujarat_State_Year_Book_2018-19_page_8.csv\n",
      "Table from page 9 saved to table-data/output_table_Gujarat_State_Year_Book_2018-19_page_9.csv\n",
      "Table from page 10 saved to table-data/output_table_Gujarat_State_Year_Book_2018-19_page_10.csv\n",
      "Table from page 11 saved to table-data/output_table_Gujarat_State_Year_Book_2018-19_page_11.csv\n",
      "Table from page 12 saved to table-data/output_table_Gujarat_State_Year_Book_2018-19_page_12.csv\n",
      "Table from page 13 saved to table-data/output_table_Gujarat_State_Year_Book_2018-19_page_13.csv\n",
      "Table from page 14 saved to table-data/output_table_Gujarat_State_Year_Book_2018-19_page_14.csv\n",
      "Table from page 15 saved to table-data/output_table_Gujarat_State_Year_Book_2018-19_page_15.csv\n",
      "Table from page 16 saved to table-data/output_table_Gujarat_State_Year_Book_2018-19_page_16.csv\n",
      "Table from page 17 saved to table-data/output_table_Gujarat_State_Year_Book_2018-19_page_17.csv\n",
      "Table from page 18 saved to table-data/output_table_Gujarat_State_Year_Book_2018-19_page_18.csv\n",
      "Table from page 1 saved to table-data/output_table_Gujarat_State_Year_Book_2019-20_page_1.csv\n",
      "Table from page 2 saved to table-data/output_table_Gujarat_State_Year_Book_2019-20_page_2.csv\n",
      "Table from page 3 saved to table-data/output_table_Gujarat_State_Year_Book_2019-20_page_3.csv\n",
      "Table from page 4 saved to table-data/output_table_Gujarat_State_Year_Book_2019-20_page_4.csv\n",
      "Table from page 5 saved to table-data/output_table_Gujarat_State_Year_Book_2019-20_page_5.csv\n",
      "Table from page 6 saved to table-data/output_table_Gujarat_State_Year_Book_2019-20_page_6.csv\n",
      "Table from page 7 saved to table-data/output_table_Gujarat_State_Year_Book_2019-20_page_7.csv\n",
      "Table from page 8 saved to table-data/output_table_Gujarat_State_Year_Book_2019-20_page_8.csv\n",
      "Table from page 9 saved to table-data/output_table_Gujarat_State_Year_Book_2019-20_page_9.csv\n",
      "Table from page 10 saved to table-data/output_table_Gujarat_State_Year_Book_2019-20_page_10.csv\n",
      "Table from page 11 saved to table-data/output_table_Gujarat_State_Year_Book_2019-20_page_11.csv\n",
      "Table from page 12 saved to table-data/output_table_Gujarat_State_Year_Book_2019-20_page_12.csv\n",
      "Table from page 13 saved to table-data/output_table_Gujarat_State_Year_Book_2019-20_page_13.csv\n",
      "Table from page 14 saved to table-data/output_table_Gujarat_State_Year_Book_2019-20_page_14.csv\n",
      "Table from page 1 saved to table-data/output_table_Gujarat_State_Year_Book_2020-21_page_1.csv\n",
      "Table from page 2 saved to table-data/output_table_Gujarat_State_Year_Book_2020-21_page_2.csv\n",
      "Table from page 3 saved to table-data/output_table_Gujarat_State_Year_Book_2020-21_page_3.csv\n",
      "Table from page 4 saved to table-data/output_table_Gujarat_State_Year_Book_2020-21_page_4.csv\n",
      "Table from page 5 saved to table-data/output_table_Gujarat_State_Year_Book_2020-21_page_5.csv\n",
      "Table from page 6 saved to table-data/output_table_Gujarat_State_Year_Book_2020-21_page_6.csv\n",
      "Table from page 7 saved to table-data/output_table_Gujarat_State_Year_Book_2020-21_page_7.csv\n",
      "Table from page 8 saved to table-data/output_table_Gujarat_State_Year_Book_2020-21_page_8.csv\n",
      "Table from page 9 saved to table-data/output_table_Gujarat_State_Year_Book_2020-21_page_9.csv\n",
      "Table from page 10 saved to table-data/output_table_Gujarat_State_Year_Book_2020-21_page_10.csv\n",
      "Table from page 11 saved to table-data/output_table_Gujarat_State_Year_Book_2020-21_page_11.csv\n",
      "Table from page 12 saved to table-data/output_table_Gujarat_State_Year_Book_2020-21_page_12.csv\n",
      "Table from page 13 saved to table-data/output_table_Gujarat_State_Year_Book_2020-21_page_13.csv\n",
      "Table from page 14 saved to table-data/output_table_Gujarat_State_Year_Book_2020-21_page_14.csv\n",
      "Table from page 15 saved to table-data/output_table_Gujarat_State_Year_Book_2020-21_page_15.csv\n",
      "Table from page 1 saved to table-data/output_table_Gujarat_State_Year_Book_2021-22_page_1.csv\n",
      "Table from page 2 saved to table-data/output_table_Gujarat_State_Year_Book_2021-22_page_2.csv\n",
      "Table from page 3 saved to table-data/output_table_Gujarat_State_Year_Book_2021-22_page_3.csv\n",
      "Table from page 4 saved to table-data/output_table_Gujarat_State_Year_Book_2021-22_page_4.csv\n",
      "Table from page 5 saved to table-data/output_table_Gujarat_State_Year_Book_2021-22_page_5.csv\n",
      "Table from page 6 saved to table-data/output_table_Gujarat_State_Year_Book_2021-22_page_6.csv\n",
      "Table from page 7 saved to table-data/output_table_Gujarat_State_Year_Book_2021-22_page_7.csv\n",
      "Table from page 8 saved to table-data/output_table_Gujarat_State_Year_Book_2021-22_page_8.csv\n",
      "Table from page 9 saved to table-data/output_table_Gujarat_State_Year_Book_2021-22_page_9.csv\n",
      "Table from page 10 saved to table-data/output_table_Gujarat_State_Year_Book_2021-22_page_10.csv\n",
      "Table from page 11 saved to table-data/output_table_Gujarat_State_Year_Book_2021-22_page_11.csv\n",
      "Table from page 12 saved to table-data/output_table_Gujarat_State_Year_Book_2021-22_page_12.csv\n",
      "Table from page 13 saved to table-data/output_table_Gujarat_State_Year_Book_2021-22_page_13.csv\n",
      "Table from page 14 saved to table-data/output_table_Gujarat_State_Year_Book_2021-22_page_14.csv\n"
     ]
    }
   ],
   "source": [
    "for file, pages in zip(files, table_map.values()):\n",
    "    extracted_tables = extract_tables_from_pdf(file, [i for i in range(pages[0],pages[1])])\n",
    "    file_year = file.split('/')[-1].split('.')[0]\n",
    "    save_tables_to_csv(extracted_tables, f\"table-data/output_table_{file_year}\")"
   ]
  },
  {
   "cell_type": "markdown",
   "metadata": {},
   "source": [
    "# Separate CSV files into separate directories"
   ]
  },
  {
   "cell_type": "code",
   "execution_count": 4,
   "metadata": {},
   "outputs": [],
   "source": [
    "import glob\n",
    "import os\n",
    "import shutil\n",
    "\n",
    "files = glob.glob(\"table-data/*.csv\")\n",
    "dir_ls = [2014,2015,2016,2017,2018,2019,2020,2021]\n",
    "\n",
    "for dir in dir_ls:\n",
    "    for file in files:\n",
    "        if (str(dir) in file):\n",
    "            os.makedirs(f\"table-data/{dir}\", exist_ok=True)\n",
    "            shutil.copyfile(file, f\"table-data/{dir}/{file.split('/')[-1]}\")"
   ]
  },
  {
   "cell_type": "code",
   "execution_count": null,
   "metadata": {},
   "outputs": [],
   "source": []
  }
 ],
 "metadata": {
  "kernelspec": {
   "display_name": "Python 3",
   "language": "python",
   "name": "python3"
  },
  "language_info": {
   "codemirror_mode": {
    "name": "ipython",
    "version": 3
   },
   "file_extension": ".py",
   "mimetype": "text/x-python",
   "name": "python",
   "nbconvert_exporter": "python",
   "pygments_lexer": "ipython3",
   "version": "3.11.2"
  }
 },
 "nbformat": 4,
 "nbformat_minor": 2
}
