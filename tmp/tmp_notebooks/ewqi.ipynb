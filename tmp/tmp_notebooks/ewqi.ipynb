{
 "cells": [
  {
   "cell_type": "code",
   "execution_count": 1,
   "metadata": {},
   "outputs": [],
   "source": [
    "import pandas as pd\n",
    "import warnings\n",
    "warnings.filterwarnings('ignore')\n",
    "\n",
    "df = pd.read_csv('refined-data/eval_data.csv')\n",
    "df"
   ]
  },
  {
   "cell_type": "code",
   "execution_count": null,
   "metadata": {},
   "outputs": [
    {
     "name": "stdout",
     "output_type": "stream",
     "text": [
      "<class 'pandas.core.frame.DataFrame'>\n",
      "RangeIndex: 2764 entries, 0 to 2763\n",
      "Data columns (total 19 columns):\n",
      " #   Column    Non-Null Count  Dtype  \n",
      "---  ------    --------------  -----  \n",
      " 0   DISTRICT  2764 non-null   object \n",
      " 1   LOCATION  2764 non-null   object \n",
      " 2   PH        2757 non-null   float64\n",
      " 3   EC        2759 non-null   float64\n",
      " 4   TDS       2757 non-null   float64\n",
      " 5   TH        2757 non-null   float64\n",
      " 6   CA        2757 non-null   float64\n",
      " 7   MG        2757 non-null   float64\n",
      " 8   NA        2757 non-null   float64\n",
      " 9   K         2757 non-null   float64\n",
      " 10  CO3       2757 non-null   float64\n",
      " 11  HCO3      2757 non-null   float64\n",
      " 12  CL        2757 non-null   float64\n",
      " 13  NO3       2757 non-null   float64\n",
      " 14  SO4       2757 non-null   float64\n",
      " 15  F         2757 non-null   float64\n",
      " 16  ALK       2757 non-null   float64\n",
      " 17  YEAR      2764 non-null   int64  \n",
      " 18  SAR       2183 non-null   float64\n",
      "dtypes: float64(16), int64(1), object(2)\n",
      "memory usage: 410.4+ KB\n"
     ]
    }
   ],
   "source": [
    "df.info()"
   ]
  },
  {
   "cell_type": "markdown",
   "metadata": {},
   "source": [
    "# Filling missing values with median"
   ]
  },
  {
   "cell_type": "code",
   "execution_count": 3,
   "metadata": {},
   "outputs": [],
   "source": [
    "# df = df.dropna()\n",
    "# df.columns\n",
    "\n",
    "import pandas as pd\n",
    "\n",
    "# Assuming df is your DataFrame with numerical columns containing null values\n",
    "# Replace 'numerical_columns' with the actual names of your numerical columns\n",
    "numerical_columns = ['PH','EC','TDS','ALK','TH', 'F','CL','NO3','SO4','CA','MG']  # List of numerical columns\n",
    "\n",
    "# Fill null values with the mean of each column\n",
    "for col in numerical_columns:\n",
    "    df[col].fillna(df[col].median(), inplace=True)"
   ]
  },
  {
   "cell_type": "markdown",
   "metadata": {},
   "source": [
    "### 1. Normalize the data"
   ]
  },
  {
   "cell_type": "code",
   "execution_count": 4,
   "metadata": {},
   "outputs": [
    {
     "data": {
      "text/html": [
       "<div>\n",
       "<style scoped>\n",
       "    .dataframe tbody tr th:only-of-type {\n",
       "        vertical-align: middle;\n",
       "    }\n",
       "\n",
       "    .dataframe tbody tr th {\n",
       "        vertical-align: top;\n",
       "    }\n",
       "\n",
       "    .dataframe thead th {\n",
       "        text-align: right;\n",
       "    }\n",
       "</style>\n",
       "<table border=\"1\" class=\"dataframe\">\n",
       "  <thead>\n",
       "    <tr style=\"text-align: right;\">\n",
       "      <th></th>\n",
       "      <th>PH</th>\n",
       "      <th>EC</th>\n",
       "      <th>TDS</th>\n",
       "      <th>TH</th>\n",
       "      <th>CA</th>\n",
       "      <th>MG</th>\n",
       "      <th>NA</th>\n",
       "      <th>K</th>\n",
       "      <th>CO3</th>\n",
       "      <th>HCO3</th>\n",
       "      <th>CL</th>\n",
       "      <th>NO3</th>\n",
       "      <th>SO4</th>\n",
       "      <th>F</th>\n",
       "      <th>ALK</th>\n",
       "      <th>SAR</th>\n",
       "    </tr>\n",
       "  </thead>\n",
       "  <tbody>\n",
       "    <tr>\n",
       "      <th>0</th>\n",
       "      <td>8.25</td>\n",
       "      <td>5090.0</td>\n",
       "      <td>3410.0</td>\n",
       "      <td>450.0</td>\n",
       "      <td>80.0</td>\n",
       "      <td>60.0</td>\n",
       "      <td>937.0</td>\n",
       "      <td>0.3</td>\n",
       "      <td>0.0</td>\n",
       "      <td>891.0</td>\n",
       "      <td>959.0</td>\n",
       "      <td>24.00</td>\n",
       "      <td>346.0</td>\n",
       "      <td>2.80</td>\n",
       "      <td>730.0</td>\n",
       "      <td>NaN</td>\n",
       "    </tr>\n",
       "    <tr>\n",
       "      <th>1</th>\n",
       "      <td>8.23</td>\n",
       "      <td>14210.0</td>\n",
       "      <td>9521.0</td>\n",
       "      <td>1300.0</td>\n",
       "      <td>180.0</td>\n",
       "      <td>207.0</td>\n",
       "      <td>3220.0</td>\n",
       "      <td>9.9</td>\n",
       "      <td>0.0</td>\n",
       "      <td>1013.0</td>\n",
       "      <td>3373.0</td>\n",
       "      <td>1600.00</td>\n",
       "      <td>1290.0</td>\n",
       "      <td>6.64</td>\n",
       "      <td>830.0</td>\n",
       "      <td>NaN</td>\n",
       "    </tr>\n",
       "    <tr>\n",
       "      <th>2</th>\n",
       "      <td>8.17</td>\n",
       "      <td>685.0</td>\n",
       "      <td>459.0</td>\n",
       "      <td>220.0</td>\n",
       "      <td>52.0</td>\n",
       "      <td>22.0</td>\n",
       "      <td>49.0</td>\n",
       "      <td>13.6</td>\n",
       "      <td>0.0</td>\n",
       "      <td>305.0</td>\n",
       "      <td>50.0</td>\n",
       "      <td>2.00</td>\n",
       "      <td>2.0</td>\n",
       "      <td>0.44</td>\n",
       "      <td>250.0</td>\n",
       "      <td>NaN</td>\n",
       "    </tr>\n",
       "    <tr>\n",
       "      <th>3</th>\n",
       "      <td>8.19</td>\n",
       "      <td>10660.0</td>\n",
       "      <td>7142.0</td>\n",
       "      <td>800.0</td>\n",
       "      <td>140.0</td>\n",
       "      <td>109.0</td>\n",
       "      <td>1875.0</td>\n",
       "      <td>7.2</td>\n",
       "      <td>0.0</td>\n",
       "      <td>988.0</td>\n",
       "      <td>2485.0</td>\n",
       "      <td>32.00</td>\n",
       "      <td>443.0</td>\n",
       "      <td>11.20</td>\n",
       "      <td>810.0</td>\n",
       "      <td>NaN</td>\n",
       "    </tr>\n",
       "    <tr>\n",
       "      <th>4</th>\n",
       "      <td>8.03</td>\n",
       "      <td>1300.0</td>\n",
       "      <td>871.0</td>\n",
       "      <td>280.0</td>\n",
       "      <td>64.0</td>\n",
       "      <td>29.0</td>\n",
       "      <td>210.0</td>\n",
       "      <td>3.7</td>\n",
       "      <td>0.0</td>\n",
       "      <td>305.0</td>\n",
       "      <td>85.0</td>\n",
       "      <td>230.00</td>\n",
       "      <td>171.0</td>\n",
       "      <td>0.50</td>\n",
       "      <td>250.0</td>\n",
       "      <td>NaN</td>\n",
       "    </tr>\n",
       "    <tr>\n",
       "      <th>...</th>\n",
       "      <td>...</td>\n",
       "      <td>...</td>\n",
       "      <td>...</td>\n",
       "      <td>...</td>\n",
       "      <td>...</td>\n",
       "      <td>...</td>\n",
       "      <td>...</td>\n",
       "      <td>...</td>\n",
       "      <td>...</td>\n",
       "      <td>...</td>\n",
       "      <td>...</td>\n",
       "      <td>...</td>\n",
       "      <td>...</td>\n",
       "      <td>...</td>\n",
       "      <td>...</td>\n",
       "      <td>...</td>\n",
       "    </tr>\n",
       "    <tr>\n",
       "      <th>2759</th>\n",
       "      <td>7.42</td>\n",
       "      <td>768.0</td>\n",
       "      <td>515.0</td>\n",
       "      <td>180.0</td>\n",
       "      <td>40.0</td>\n",
       "      <td>19.0</td>\n",
       "      <td>95.0</td>\n",
       "      <td>10.0</td>\n",
       "      <td>0.0</td>\n",
       "      <td>183.0</td>\n",
       "      <td>113.0</td>\n",
       "      <td>3.20</td>\n",
       "      <td>70.0</td>\n",
       "      <td>0.15</td>\n",
       "      <td>150.0</td>\n",
       "      <td>3.08</td>\n",
       "    </tr>\n",
       "    <tr>\n",
       "      <th>2760</th>\n",
       "      <td>7.73</td>\n",
       "      <td>4419.0</td>\n",
       "      <td>2961.0</td>\n",
       "      <td>701.0</td>\n",
       "      <td>96.0</td>\n",
       "      <td>112.0</td>\n",
       "      <td>712.0</td>\n",
       "      <td>17.0</td>\n",
       "      <td>0.0</td>\n",
       "      <td>403.0</td>\n",
       "      <td>1064.0</td>\n",
       "      <td>13.00</td>\n",
       "      <td>310.0</td>\n",
       "      <td>0.78</td>\n",
       "      <td>330.0</td>\n",
       "      <td>11.70</td>\n",
       "    </tr>\n",
       "    <tr>\n",
       "      <th>2761</th>\n",
       "      <td>7.60</td>\n",
       "      <td>2942.0</td>\n",
       "      <td>1971.0</td>\n",
       "      <td>400.0</td>\n",
       "      <td>132.0</td>\n",
       "      <td>17.0</td>\n",
       "      <td>552.0</td>\n",
       "      <td>26.0</td>\n",
       "      <td>0.0</td>\n",
       "      <td>281.0</td>\n",
       "      <td>567.0</td>\n",
       "      <td>33.00</td>\n",
       "      <td>538.0</td>\n",
       "      <td>0.93</td>\n",
       "      <td>230.0</td>\n",
       "      <td>12.00</td>\n",
       "    </tr>\n",
       "    <tr>\n",
       "      <th>2762</th>\n",
       "      <td>7.35</td>\n",
       "      <td>1464.0</td>\n",
       "      <td>981.0</td>\n",
       "      <td>410.0</td>\n",
       "      <td>104.0</td>\n",
       "      <td>36.0</td>\n",
       "      <td>125.0</td>\n",
       "      <td>18.0</td>\n",
       "      <td>0.0</td>\n",
       "      <td>610.0</td>\n",
       "      <td>142.0</td>\n",
       "      <td>0.31</td>\n",
       "      <td>25.0</td>\n",
       "      <td>1.04</td>\n",
       "      <td>500.0</td>\n",
       "      <td>2.68</td>\n",
       "    </tr>\n",
       "    <tr>\n",
       "      <th>2763</th>\n",
       "      <td>7.62</td>\n",
       "      <td>1304.0</td>\n",
       "      <td>874.0</td>\n",
       "      <td>400.0</td>\n",
       "      <td>68.0</td>\n",
       "      <td>56.0</td>\n",
       "      <td>105.0</td>\n",
       "      <td>4.2</td>\n",
       "      <td>0.0</td>\n",
       "      <td>281.0</td>\n",
       "      <td>241.0</td>\n",
       "      <td>1.50</td>\n",
       "      <td>77.0</td>\n",
       "      <td>0.33</td>\n",
       "      <td>230.0</td>\n",
       "      <td>2.28</td>\n",
       "    </tr>\n",
       "  </tbody>\n",
       "</table>\n",
       "<p>2764 rows × 16 columns</p>\n",
       "</div>"
      ],
      "text/plain": [
       "        PH       EC     TDS      TH     CA     MG      NA     K  CO3    HCO3  \\\n",
       "0     8.25   5090.0  3410.0   450.0   80.0   60.0   937.0   0.3  0.0   891.0   \n",
       "1     8.23  14210.0  9521.0  1300.0  180.0  207.0  3220.0   9.9  0.0  1013.0   \n",
       "2     8.17    685.0   459.0   220.0   52.0   22.0    49.0  13.6  0.0   305.0   \n",
       "3     8.19  10660.0  7142.0   800.0  140.0  109.0  1875.0   7.2  0.0   988.0   \n",
       "4     8.03   1300.0   871.0   280.0   64.0   29.0   210.0   3.7  0.0   305.0   \n",
       "...    ...      ...     ...     ...    ...    ...     ...   ...  ...     ...   \n",
       "2759  7.42    768.0   515.0   180.0   40.0   19.0    95.0  10.0  0.0   183.0   \n",
       "2760  7.73   4419.0  2961.0   701.0   96.0  112.0   712.0  17.0  0.0   403.0   \n",
       "2761  7.60   2942.0  1971.0   400.0  132.0   17.0   552.0  26.0  0.0   281.0   \n",
       "2762  7.35   1464.0   981.0   410.0  104.0   36.0   125.0  18.0  0.0   610.0   \n",
       "2763  7.62   1304.0   874.0   400.0   68.0   56.0   105.0   4.2  0.0   281.0   \n",
       "\n",
       "          CL      NO3     SO4      F    ALK    SAR  \n",
       "0      959.0    24.00   346.0   2.80  730.0    NaN  \n",
       "1     3373.0  1600.00  1290.0   6.64  830.0    NaN  \n",
       "2       50.0     2.00     2.0   0.44  250.0    NaN  \n",
       "3     2485.0    32.00   443.0  11.20  810.0    NaN  \n",
       "4       85.0   230.00   171.0   0.50  250.0    NaN  \n",
       "...      ...      ...     ...    ...    ...    ...  \n",
       "2759   113.0     3.20    70.0   0.15  150.0   3.08  \n",
       "2760  1064.0    13.00   310.0   0.78  330.0  11.70  \n",
       "2761   567.0    33.00   538.0   0.93  230.0  12.00  \n",
       "2762   142.0     0.31    25.0   1.04  500.0   2.68  \n",
       "2763   241.0     1.50    77.0   0.33  230.0   2.28  \n",
       "\n",
       "[2764 rows x 16 columns]"
      ]
     },
     "execution_count": 4,
     "metadata": {},
     "output_type": "execute_result"
    }
   ],
   "source": [
    "water_data = df.drop(['DISTRICT','YEAR','LOCATION'], axis=1).reset_index(drop=True)\n",
    "water_data"
   ]
  },
  {
   "cell_type": "code",
   "execution_count": 5,
   "metadata": {},
   "outputs": [
    {
     "data": {
      "text/html": [
       "<div>\n",
       "<style scoped>\n",
       "    .dataframe tbody tr th:only-of-type {\n",
       "        vertical-align: middle;\n",
       "    }\n",
       "\n",
       "    .dataframe tbody tr th {\n",
       "        vertical-align: top;\n",
       "    }\n",
       "\n",
       "    .dataframe thead th {\n",
       "        text-align: right;\n",
       "    }\n",
       "</style>\n",
       "<table border=\"1\" class=\"dataframe\">\n",
       "  <thead>\n",
       "    <tr style=\"text-align: right;\">\n",
       "      <th></th>\n",
       "      <th>PH</th>\n",
       "      <th>EC</th>\n",
       "      <th>TDS</th>\n",
       "      <th>TH</th>\n",
       "      <th>CA</th>\n",
       "      <th>MG</th>\n",
       "      <th>NA</th>\n",
       "      <th>K</th>\n",
       "      <th>CO3</th>\n",
       "      <th>HCO3</th>\n",
       "      <th>CL</th>\n",
       "      <th>NO3</th>\n",
       "      <th>SO4</th>\n",
       "      <th>F</th>\n",
       "      <th>ALK</th>\n",
       "      <th>SAR</th>\n",
       "    </tr>\n",
       "  </thead>\n",
       "  <tbody>\n",
       "    <tr>\n",
       "      <th>0</th>\n",
       "      <td>0.002561</td>\n",
       "      <td>0.191497</td>\n",
       "      <td>0.185135</td>\n",
       "      <td>0.070175</td>\n",
       "      <td>0.041394</td>\n",
       "      <td>0.046985</td>\n",
       "      <td>0.170403</td>\n",
       "      <td>0.000548</td>\n",
       "      <td>0.0</td>\n",
       "      <td>0.306252</td>\n",
       "      <td>0.103366</td>\n",
       "      <td>0.015000</td>\n",
       "      <td>0.138956</td>\n",
       "      <td>0.250000</td>\n",
       "      <td>0.289819</td>\n",
       "      <td>NaN</td>\n",
       "    </tr>\n",
       "    <tr>\n",
       "      <th>1</th>\n",
       "      <td>0.002535</td>\n",
       "      <td>0.534612</td>\n",
       "      <td>0.530977</td>\n",
       "      <td>0.219298</td>\n",
       "      <td>0.095861</td>\n",
       "      <td>0.162099</td>\n",
       "      <td>0.586477</td>\n",
       "      <td>0.018099</td>\n",
       "      <td>0.0</td>\n",
       "      <td>0.349347</td>\n",
       "      <td>0.365472</td>\n",
       "      <td>1.000000</td>\n",
       "      <td>0.518072</td>\n",
       "      <td>0.592857</td>\n",
       "      <td>0.330870</td>\n",
       "      <td>NaN</td>\n",
       "    </tr>\n",
       "    <tr>\n",
       "      <th>2</th>\n",
       "      <td>0.002460</td>\n",
       "      <td>0.025771</td>\n",
       "      <td>0.018127</td>\n",
       "      <td>0.029825</td>\n",
       "      <td>0.026144</td>\n",
       "      <td>0.017228</td>\n",
       "      <td>0.008566</td>\n",
       "      <td>0.024863</td>\n",
       "      <td>0.0</td>\n",
       "      <td>0.099258</td>\n",
       "      <td>0.004669</td>\n",
       "      <td>0.001250</td>\n",
       "      <td>0.000803</td>\n",
       "      <td>0.039286</td>\n",
       "      <td>0.092775</td>\n",
       "      <td>NaN</td>\n",
       "    </tr>\n",
       "    <tr>\n",
       "      <th>3</th>\n",
       "      <td>0.002485</td>\n",
       "      <td>0.401053</td>\n",
       "      <td>0.396341</td>\n",
       "      <td>0.131579</td>\n",
       "      <td>0.074074</td>\n",
       "      <td>0.085356</td>\n",
       "      <td>0.341352</td>\n",
       "      <td>0.013163</td>\n",
       "      <td>0.0</td>\n",
       "      <td>0.340516</td>\n",
       "      <td>0.269055</td>\n",
       "      <td>0.020000</td>\n",
       "      <td>0.177912</td>\n",
       "      <td>1.000000</td>\n",
       "      <td>0.322660</td>\n",
       "      <td>NaN</td>\n",
       "    </tr>\n",
       "    <tr>\n",
       "      <th>4</th>\n",
       "      <td>0.002283</td>\n",
       "      <td>0.048909</td>\n",
       "      <td>0.041444</td>\n",
       "      <td>0.040351</td>\n",
       "      <td>0.032680</td>\n",
       "      <td>0.022709</td>\n",
       "      <td>0.037908</td>\n",
       "      <td>0.006764</td>\n",
       "      <td>0.0</td>\n",
       "      <td>0.099258</td>\n",
       "      <td>0.008469</td>\n",
       "      <td>0.143750</td>\n",
       "      <td>0.068675</td>\n",
       "      <td>0.044643</td>\n",
       "      <td>0.092775</td>\n",
       "      <td>NaN</td>\n",
       "    </tr>\n",
       "    <tr>\n",
       "      <th>...</th>\n",
       "      <td>...</td>\n",
       "      <td>...</td>\n",
       "      <td>...</td>\n",
       "      <td>...</td>\n",
       "      <td>...</td>\n",
       "      <td>...</td>\n",
       "      <td>...</td>\n",
       "      <td>...</td>\n",
       "      <td>...</td>\n",
       "      <td>...</td>\n",
       "      <td>...</td>\n",
       "      <td>...</td>\n",
       "      <td>...</td>\n",
       "      <td>...</td>\n",
       "      <td>...</td>\n",
       "      <td>...</td>\n",
       "    </tr>\n",
       "    <tr>\n",
       "      <th>2759</th>\n",
       "      <td>0.001514</td>\n",
       "      <td>0.028894</td>\n",
       "      <td>0.021297</td>\n",
       "      <td>0.022807</td>\n",
       "      <td>0.019608</td>\n",
       "      <td>0.014879</td>\n",
       "      <td>0.016949</td>\n",
       "      <td>0.018282</td>\n",
       "      <td>0.0</td>\n",
       "      <td>0.056164</td>\n",
       "      <td>0.011509</td>\n",
       "      <td>0.002000</td>\n",
       "      <td>0.028112</td>\n",
       "      <td>0.013393</td>\n",
       "      <td>0.051724</td>\n",
       "      <td>0.036724</td>\n",
       "    </tr>\n",
       "    <tr>\n",
       "      <th>2760</th>\n",
       "      <td>0.001905</td>\n",
       "      <td>0.166253</td>\n",
       "      <td>0.159724</td>\n",
       "      <td>0.114211</td>\n",
       "      <td>0.050109</td>\n",
       "      <td>0.087706</td>\n",
       "      <td>0.129397</td>\n",
       "      <td>0.031079</td>\n",
       "      <td>0.0</td>\n",
       "      <td>0.133875</td>\n",
       "      <td>0.114767</td>\n",
       "      <td>0.008125</td>\n",
       "      <td>0.124498</td>\n",
       "      <td>0.069643</td>\n",
       "      <td>0.125616</td>\n",
       "      <td>0.139502</td>\n",
       "    </tr>\n",
       "    <tr>\n",
       "      <th>2761</th>\n",
       "      <td>0.001741</td>\n",
       "      <td>0.110685</td>\n",
       "      <td>0.103697</td>\n",
       "      <td>0.061404</td>\n",
       "      <td>0.069717</td>\n",
       "      <td>0.013312</td>\n",
       "      <td>0.100237</td>\n",
       "      <td>0.047532</td>\n",
       "      <td>0.0</td>\n",
       "      <td>0.090781</td>\n",
       "      <td>0.060803</td>\n",
       "      <td>0.020625</td>\n",
       "      <td>0.216064</td>\n",
       "      <td>0.083036</td>\n",
       "      <td>0.084565</td>\n",
       "      <td>0.143079</td>\n",
       "    </tr>\n",
       "    <tr>\n",
       "      <th>2762</th>\n",
       "      <td>0.001425</td>\n",
       "      <td>0.055079</td>\n",
       "      <td>0.047669</td>\n",
       "      <td>0.063158</td>\n",
       "      <td>0.054466</td>\n",
       "      <td>0.028191</td>\n",
       "      <td>0.022417</td>\n",
       "      <td>0.032907</td>\n",
       "      <td>0.0</td>\n",
       "      <td>0.206994</td>\n",
       "      <td>0.014658</td>\n",
       "      <td>0.000194</td>\n",
       "      <td>0.010040</td>\n",
       "      <td>0.092857</td>\n",
       "      <td>0.195402</td>\n",
       "      <td>0.031954</td>\n",
       "    </tr>\n",
       "    <tr>\n",
       "      <th>2763</th>\n",
       "      <td>0.001766</td>\n",
       "      <td>0.049059</td>\n",
       "      <td>0.041614</td>\n",
       "      <td>0.061404</td>\n",
       "      <td>0.034858</td>\n",
       "      <td>0.043853</td>\n",
       "      <td>0.018772</td>\n",
       "      <td>0.007678</td>\n",
       "      <td>0.0</td>\n",
       "      <td>0.090781</td>\n",
       "      <td>0.025407</td>\n",
       "      <td>0.000937</td>\n",
       "      <td>0.030924</td>\n",
       "      <td>0.029464</td>\n",
       "      <td>0.084565</td>\n",
       "      <td>0.027185</td>\n",
       "    </tr>\n",
       "  </tbody>\n",
       "</table>\n",
       "<p>2764 rows × 16 columns</p>\n",
       "</div>"
      ],
      "text/plain": [
       "            PH        EC       TDS        TH        CA        MG        NA  \\\n",
       "0     0.002561  0.191497  0.185135  0.070175  0.041394  0.046985  0.170403   \n",
       "1     0.002535  0.534612  0.530977  0.219298  0.095861  0.162099  0.586477   \n",
       "2     0.002460  0.025771  0.018127  0.029825  0.026144  0.017228  0.008566   \n",
       "3     0.002485  0.401053  0.396341  0.131579  0.074074  0.085356  0.341352   \n",
       "4     0.002283  0.048909  0.041444  0.040351  0.032680  0.022709  0.037908   \n",
       "...        ...       ...       ...       ...       ...       ...       ...   \n",
       "2759  0.001514  0.028894  0.021297  0.022807  0.019608  0.014879  0.016949   \n",
       "2760  0.001905  0.166253  0.159724  0.114211  0.050109  0.087706  0.129397   \n",
       "2761  0.001741  0.110685  0.103697  0.061404  0.069717  0.013312  0.100237   \n",
       "2762  0.001425  0.055079  0.047669  0.063158  0.054466  0.028191  0.022417   \n",
       "2763  0.001766  0.049059  0.041614  0.061404  0.034858  0.043853  0.018772   \n",
       "\n",
       "             K  CO3      HCO3        CL       NO3       SO4         F  \\\n",
       "0     0.000548  0.0  0.306252  0.103366  0.015000  0.138956  0.250000   \n",
       "1     0.018099  0.0  0.349347  0.365472  1.000000  0.518072  0.592857   \n",
       "2     0.024863  0.0  0.099258  0.004669  0.001250  0.000803  0.039286   \n",
       "3     0.013163  0.0  0.340516  0.269055  0.020000  0.177912  1.000000   \n",
       "4     0.006764  0.0  0.099258  0.008469  0.143750  0.068675  0.044643   \n",
       "...        ...  ...       ...       ...       ...       ...       ...   \n",
       "2759  0.018282  0.0  0.056164  0.011509  0.002000  0.028112  0.013393   \n",
       "2760  0.031079  0.0  0.133875  0.114767  0.008125  0.124498  0.069643   \n",
       "2761  0.047532  0.0  0.090781  0.060803  0.020625  0.216064  0.083036   \n",
       "2762  0.032907  0.0  0.206994  0.014658  0.000194  0.010040  0.092857   \n",
       "2763  0.007678  0.0  0.090781  0.025407  0.000937  0.030924  0.029464   \n",
       "\n",
       "           ALK       SAR  \n",
       "0     0.289819       NaN  \n",
       "1     0.330870       NaN  \n",
       "2     0.092775       NaN  \n",
       "3     0.322660       NaN  \n",
       "4     0.092775       NaN  \n",
       "...        ...       ...  \n",
       "2759  0.051724  0.036724  \n",
       "2760  0.125616  0.139502  \n",
       "2761  0.084565  0.143079  \n",
       "2762  0.195402  0.031954  \n",
       "2763  0.084565  0.027185  \n",
       "\n",
       "[2764 rows x 16 columns]"
      ]
     },
     "execution_count": 5,
     "metadata": {},
     "output_type": "execute_result"
    }
   ],
   "source": [
    "from sklearn.preprocessing import MinMaxScaler\n",
    "\n",
    "scaler = MinMaxScaler()\n",
    "scaler.fit(water_data)\n",
    "scaled_data = scaler.transform(water_data)\n",
    "scaled_data = pd.DataFrame(scaled_data, columns=water_data.columns)\n",
    "scaled_data"
   ]
  },
  {
   "cell_type": "code",
   "execution_count": 6,
   "metadata": {},
   "outputs": [],
   "source": [
    "wqi_df = pd.DataFrame({\n",
    "    'features':        ['PH','EC','TDS','ALK','TH', 'F','CL','NO3','SO4','CA','MG'],\n",
    "    'standard_values': [8.5 , 300, 1000,  120, 300, 1.5, 250,  45,  250,  75,  30],\n",
    "    'ideal_values':    [    7,  0,    0,    0,   0,   0,   0,   0,    0,   0,   0],\n",
    "})"
   ]
  },
  {
   "cell_type": "code",
   "execution_count": 7,
   "metadata": {},
   "outputs": [
    {
     "data": {
      "text/html": [
       "<div>\n",
       "<style scoped>\n",
       "    .dataframe tbody tr th:only-of-type {\n",
       "        vertical-align: middle;\n",
       "    }\n",
       "\n",
       "    .dataframe tbody tr th {\n",
       "        vertical-align: top;\n",
       "    }\n",
       "\n",
       "    .dataframe thead th {\n",
       "        text-align: right;\n",
       "    }\n",
       "</style>\n",
       "<table border=\"1\" class=\"dataframe\">\n",
       "  <thead>\n",
       "    <tr style=\"text-align: right;\">\n",
       "      <th></th>\n",
       "      <th>features</th>\n",
       "      <th>information_entropy</th>\n",
       "      <th>entropy_weights</th>\n",
       "    </tr>\n",
       "  </thead>\n",
       "  <tbody>\n",
       "    <tr>\n",
       "      <th>0</th>\n",
       "      <td>PH</td>\n",
       "      <td>0.902145</td>\n",
       "      <td>0.138012</td>\n",
       "    </tr>\n",
       "    <tr>\n",
       "      <th>1</th>\n",
       "      <td>EC</td>\n",
       "      <td>0.948779</td>\n",
       "      <td>0.072241</td>\n",
       "    </tr>\n",
       "    <tr>\n",
       "      <th>2</th>\n",
       "      <td>TDS</td>\n",
       "      <td>0.937270</td>\n",
       "      <td>0.088473</td>\n",
       "    </tr>\n",
       "    <tr>\n",
       "      <th>3</th>\n",
       "      <td>ALK</td>\n",
       "      <td>0.979344</td>\n",
       "      <td>0.029133</td>\n",
       "    </tr>\n",
       "    <tr>\n",
       "      <th>4</th>\n",
       "      <td>TH</td>\n",
       "      <td>0.948013</td>\n",
       "      <td>0.073322</td>\n",
       "    </tr>\n",
       "    <tr>\n",
       "      <th>5</th>\n",
       "      <td>F</td>\n",
       "      <td>0.953563</td>\n",
       "      <td>0.065494</td>\n",
       "    </tr>\n",
       "    <tr>\n",
       "      <th>6</th>\n",
       "      <td>CL</td>\n",
       "      <td>0.896256</td>\n",
       "      <td>0.146318</td>\n",
       "    </tr>\n",
       "    <tr>\n",
       "      <th>7</th>\n",
       "      <td>NO3</td>\n",
       "      <td>0.915268</td>\n",
       "      <td>0.119504</td>\n",
       "    </tr>\n",
       "    <tr>\n",
       "      <th>8</th>\n",
       "      <td>SO4</td>\n",
       "      <td>0.917961</td>\n",
       "      <td>0.115706</td>\n",
       "    </tr>\n",
       "    <tr>\n",
       "      <th>9</th>\n",
       "      <td>CA</td>\n",
       "      <td>0.951350</td>\n",
       "      <td>0.068615</td>\n",
       "    </tr>\n",
       "    <tr>\n",
       "      <th>10</th>\n",
       "      <td>MG</td>\n",
       "      <td>0.941021</td>\n",
       "      <td>0.083182</td>\n",
       "    </tr>\n",
       "  </tbody>\n",
       "</table>\n",
       "</div>"
      ],
      "text/plain": [
       "   features  information_entropy  entropy_weights\n",
       "0        PH             0.902145         0.138012\n",
       "1        EC             0.948779         0.072241\n",
       "2       TDS             0.937270         0.088473\n",
       "3       ALK             0.979344         0.029133\n",
       "4        TH             0.948013         0.073322\n",
       "5         F             0.953563         0.065494\n",
       "6        CL             0.896256         0.146318\n",
       "7       NO3             0.915268         0.119504\n",
       "8       SO4             0.917961         0.115706\n",
       "9        CA             0.951350         0.068615\n",
       "10       MG             0.941021         0.083182"
      ]
     },
     "execution_count": 7,
     "metadata": {},
     "output_type": "execute_result"
    }
   ],
   "source": [
    "import numpy as np\n",
    "\n",
    "# calculate entropy weight and information entropy for entropy water quality index\n",
    "def information_entropy(df):\n",
    "    # calculate information entropy\n",
    "    information_entropy_arr = {}\n",
    "    for i in range(len(df.columns)):\n",
    "        p = df.iloc[:,i]/df.iloc[:,i].sum()\n",
    "        entropy = - (p * np.log(p)/np.log(len(df))).sum()\n",
    "        information_entropy_arr[df.columns.to_list()[i]] = entropy\n",
    "    return information_entropy_arr\n",
    "\n",
    "def entropy_weight(df):\n",
    "    # calculate entropy weight\n",
    "    information_entropy_arr_res = information_entropy(df)\n",
    "    information_entropy_arr = np.array(list(information_entropy_arr_res.values()))\n",
    "    # print(information_entropy_arr_res)\n",
    "    information_entropy_arr_sum = np.sum(1 - information_entropy_arr)\n",
    "    information_entropy_arr_res_df = pd.DataFrame({\n",
    "        'features': list(information_entropy_arr_res.keys()),\n",
    "        'information_entropy': list(information_entropy_arr_res.values())\n",
    "    })\n",
    "    # print(information_entropy_arr_res_df)\n",
    "    information_entropy_arr_res_df['entropy_weights'] = (1 - information_entropy_arr_res_df['information_entropy'])/information_entropy_arr_sum\n",
    "    # print(information_entropy_arr_res_df)\n",
    "    return information_entropy_arr_res_df\n",
    "\n",
    "entropy_weight_arr = entropy_weight(scaled_data[wqi_df['features']])\n",
    "entropy_weight_arr"
   ]
  },
  {
   "cell_type": "code",
   "execution_count": 8,
   "metadata": {},
   "outputs": [
    {
     "data": {
      "text/html": [
       "<div>\n",
       "<style scoped>\n",
       "    .dataframe tbody tr th:only-of-type {\n",
       "        vertical-align: middle;\n",
       "    }\n",
       "\n",
       "    .dataframe tbody tr th {\n",
       "        vertical-align: top;\n",
       "    }\n",
       "\n",
       "    .dataframe thead th {\n",
       "        text-align: right;\n",
       "    }\n",
       "</style>\n",
       "<table border=\"1\" class=\"dataframe\">\n",
       "  <thead>\n",
       "    <tr style=\"text-align: right;\">\n",
       "      <th></th>\n",
       "      <th>features</th>\n",
       "      <th>standard_values</th>\n",
       "      <th>ideal_values</th>\n",
       "      <th>weights</th>\n",
       "    </tr>\n",
       "  </thead>\n",
       "  <tbody>\n",
       "    <tr>\n",
       "      <th>0</th>\n",
       "      <td>PH</td>\n",
       "      <td>8.5</td>\n",
       "      <td>7</td>\n",
       "      <td>0.138012</td>\n",
       "    </tr>\n",
       "    <tr>\n",
       "      <th>1</th>\n",
       "      <td>EC</td>\n",
       "      <td>300.0</td>\n",
       "      <td>0</td>\n",
       "      <td>0.072241</td>\n",
       "    </tr>\n",
       "    <tr>\n",
       "      <th>2</th>\n",
       "      <td>TDS</td>\n",
       "      <td>1000.0</td>\n",
       "      <td>0</td>\n",
       "      <td>0.088473</td>\n",
       "    </tr>\n",
       "    <tr>\n",
       "      <th>3</th>\n",
       "      <td>ALK</td>\n",
       "      <td>120.0</td>\n",
       "      <td>0</td>\n",
       "      <td>0.029133</td>\n",
       "    </tr>\n",
       "    <tr>\n",
       "      <th>4</th>\n",
       "      <td>TH</td>\n",
       "      <td>300.0</td>\n",
       "      <td>0</td>\n",
       "      <td>0.073322</td>\n",
       "    </tr>\n",
       "    <tr>\n",
       "      <th>5</th>\n",
       "      <td>F</td>\n",
       "      <td>1.5</td>\n",
       "      <td>0</td>\n",
       "      <td>0.065494</td>\n",
       "    </tr>\n",
       "    <tr>\n",
       "      <th>6</th>\n",
       "      <td>CL</td>\n",
       "      <td>250.0</td>\n",
       "      <td>0</td>\n",
       "      <td>0.146318</td>\n",
       "    </tr>\n",
       "    <tr>\n",
       "      <th>7</th>\n",
       "      <td>NO3</td>\n",
       "      <td>45.0</td>\n",
       "      <td>0</td>\n",
       "      <td>0.119504</td>\n",
       "    </tr>\n",
       "    <tr>\n",
       "      <th>8</th>\n",
       "      <td>SO4</td>\n",
       "      <td>250.0</td>\n",
       "      <td>0</td>\n",
       "      <td>0.115706</td>\n",
       "    </tr>\n",
       "    <tr>\n",
       "      <th>9</th>\n",
       "      <td>CA</td>\n",
       "      <td>75.0</td>\n",
       "      <td>0</td>\n",
       "      <td>0.068615</td>\n",
       "    </tr>\n",
       "    <tr>\n",
       "      <th>10</th>\n",
       "      <td>MG</td>\n",
       "      <td>30.0</td>\n",
       "      <td>0</td>\n",
       "      <td>0.083182</td>\n",
       "    </tr>\n",
       "  </tbody>\n",
       "</table>\n",
       "</div>"
      ],
      "text/plain": [
       "   features  standard_values  ideal_values   weights\n",
       "0        PH              8.5             7  0.138012\n",
       "1        EC            300.0             0  0.072241\n",
       "2       TDS           1000.0             0  0.088473\n",
       "3       ALK            120.0             0  0.029133\n",
       "4        TH            300.0             0  0.073322\n",
       "5         F              1.5             0  0.065494\n",
       "6        CL            250.0             0  0.146318\n",
       "7       NO3             45.0             0  0.119504\n",
       "8       SO4            250.0             0  0.115706\n",
       "9        CA             75.0             0  0.068615\n",
       "10       MG             30.0             0  0.083182"
      ]
     },
     "execution_count": 8,
     "metadata": {},
     "output_type": "execute_result"
    }
   ],
   "source": [
    "wqi_df['weights'] = entropy_weight_arr['entropy_weights'].to_list()\n",
    "wqi_df"
   ]
  },
  {
   "cell_type": "code",
   "execution_count": 9,
   "metadata": {},
   "outputs": [
    {
     "data": {
      "text/html": [
       "<div>\n",
       "<style scoped>\n",
       "    .dataframe tbody tr th:only-of-type {\n",
       "        vertical-align: middle;\n",
       "    }\n",
       "\n",
       "    .dataframe tbody tr th {\n",
       "        vertical-align: top;\n",
       "    }\n",
       "\n",
       "    .dataframe thead th {\n",
       "        text-align: right;\n",
       "    }\n",
       "</style>\n",
       "<table border=\"1\" class=\"dataframe\">\n",
       "  <thead>\n",
       "    <tr style=\"text-align: right;\">\n",
       "      <th></th>\n",
       "      <th>PH</th>\n",
       "      <th>EC</th>\n",
       "      <th>TDS</th>\n",
       "      <th>ALK</th>\n",
       "      <th>TH</th>\n",
       "      <th>F</th>\n",
       "      <th>CL</th>\n",
       "      <th>NO3</th>\n",
       "      <th>SO4</th>\n",
       "      <th>CA</th>\n",
       "      <th>MG</th>\n",
       "    </tr>\n",
       "  </thead>\n",
       "  <tbody>\n",
       "    <tr>\n",
       "      <th>0</th>\n",
       "      <td>83.333333</td>\n",
       "      <td>1696.666667</td>\n",
       "      <td>341.0</td>\n",
       "      <td>608.333333</td>\n",
       "      <td>150.000000</td>\n",
       "      <td>186.666667</td>\n",
       "      <td>383.6</td>\n",
       "      <td>53.333333</td>\n",
       "      <td>138.4</td>\n",
       "      <td>106.666667</td>\n",
       "      <td>200.000000</td>\n",
       "    </tr>\n",
       "    <tr>\n",
       "      <th>1</th>\n",
       "      <td>82.000000</td>\n",
       "      <td>4736.666667</td>\n",
       "      <td>952.1</td>\n",
       "      <td>691.666667</td>\n",
       "      <td>433.333333</td>\n",
       "      <td>442.666667</td>\n",
       "      <td>1349.2</td>\n",
       "      <td>3555.555556</td>\n",
       "      <td>516.0</td>\n",
       "      <td>240.000000</td>\n",
       "      <td>690.000000</td>\n",
       "    </tr>\n",
       "    <tr>\n",
       "      <th>2</th>\n",
       "      <td>78.000000</td>\n",
       "      <td>228.333333</td>\n",
       "      <td>45.9</td>\n",
       "      <td>208.333333</td>\n",
       "      <td>73.333333</td>\n",
       "      <td>29.333333</td>\n",
       "      <td>20.0</td>\n",
       "      <td>4.444444</td>\n",
       "      <td>0.8</td>\n",
       "      <td>69.333333</td>\n",
       "      <td>73.333333</td>\n",
       "    </tr>\n",
       "    <tr>\n",
       "      <th>3</th>\n",
       "      <td>79.333333</td>\n",
       "      <td>3553.333333</td>\n",
       "      <td>714.2</td>\n",
       "      <td>675.000000</td>\n",
       "      <td>266.666667</td>\n",
       "      <td>746.666667</td>\n",
       "      <td>994.0</td>\n",
       "      <td>71.111111</td>\n",
       "      <td>177.2</td>\n",
       "      <td>186.666667</td>\n",
       "      <td>363.333333</td>\n",
       "    </tr>\n",
       "    <tr>\n",
       "      <th>4</th>\n",
       "      <td>68.666667</td>\n",
       "      <td>433.333333</td>\n",
       "      <td>87.1</td>\n",
       "      <td>208.333333</td>\n",
       "      <td>93.333333</td>\n",
       "      <td>33.333333</td>\n",
       "      <td>34.0</td>\n",
       "      <td>511.111111</td>\n",
       "      <td>68.4</td>\n",
       "      <td>85.333333</td>\n",
       "      <td>96.666667</td>\n",
       "    </tr>\n",
       "    <tr>\n",
       "      <th>...</th>\n",
       "      <td>...</td>\n",
       "      <td>...</td>\n",
       "      <td>...</td>\n",
       "      <td>...</td>\n",
       "      <td>...</td>\n",
       "      <td>...</td>\n",
       "      <td>...</td>\n",
       "      <td>...</td>\n",
       "      <td>...</td>\n",
       "      <td>...</td>\n",
       "      <td>...</td>\n",
       "    </tr>\n",
       "    <tr>\n",
       "      <th>2759</th>\n",
       "      <td>28.000000</td>\n",
       "      <td>256.000000</td>\n",
       "      <td>51.5</td>\n",
       "      <td>125.000000</td>\n",
       "      <td>60.000000</td>\n",
       "      <td>10.000000</td>\n",
       "      <td>45.2</td>\n",
       "      <td>7.111111</td>\n",
       "      <td>28.0</td>\n",
       "      <td>53.333333</td>\n",
       "      <td>63.333333</td>\n",
       "    </tr>\n",
       "    <tr>\n",
       "      <th>2760</th>\n",
       "      <td>48.666667</td>\n",
       "      <td>1473.000000</td>\n",
       "      <td>296.1</td>\n",
       "      <td>275.000000</td>\n",
       "      <td>233.666667</td>\n",
       "      <td>52.000000</td>\n",
       "      <td>425.6</td>\n",
       "      <td>28.888889</td>\n",
       "      <td>124.0</td>\n",
       "      <td>128.000000</td>\n",
       "      <td>373.333333</td>\n",
       "    </tr>\n",
       "    <tr>\n",
       "      <th>2761</th>\n",
       "      <td>40.000000</td>\n",
       "      <td>980.666667</td>\n",
       "      <td>197.1</td>\n",
       "      <td>191.666667</td>\n",
       "      <td>133.333333</td>\n",
       "      <td>62.000000</td>\n",
       "      <td>226.8</td>\n",
       "      <td>73.333333</td>\n",
       "      <td>215.2</td>\n",
       "      <td>176.000000</td>\n",
       "      <td>56.666667</td>\n",
       "    </tr>\n",
       "    <tr>\n",
       "      <th>2762</th>\n",
       "      <td>23.333333</td>\n",
       "      <td>488.000000</td>\n",
       "      <td>98.1</td>\n",
       "      <td>416.666667</td>\n",
       "      <td>136.666667</td>\n",
       "      <td>69.333333</td>\n",
       "      <td>56.8</td>\n",
       "      <td>0.688889</td>\n",
       "      <td>10.0</td>\n",
       "      <td>138.666667</td>\n",
       "      <td>120.000000</td>\n",
       "    </tr>\n",
       "    <tr>\n",
       "      <th>2763</th>\n",
       "      <td>41.333333</td>\n",
       "      <td>434.666667</td>\n",
       "      <td>87.4</td>\n",
       "      <td>191.666667</td>\n",
       "      <td>133.333333</td>\n",
       "      <td>22.000000</td>\n",
       "      <td>96.4</td>\n",
       "      <td>3.333333</td>\n",
       "      <td>30.8</td>\n",
       "      <td>90.666667</td>\n",
       "      <td>186.666667</td>\n",
       "    </tr>\n",
       "  </tbody>\n",
       "</table>\n",
       "<p>2764 rows × 11 columns</p>\n",
       "</div>"
      ],
      "text/plain": [
       "             PH           EC    TDS         ALK          TH           F  \\\n",
       "0     83.333333  1696.666667  341.0  608.333333  150.000000  186.666667   \n",
       "1     82.000000  4736.666667  952.1  691.666667  433.333333  442.666667   \n",
       "2     78.000000   228.333333   45.9  208.333333   73.333333   29.333333   \n",
       "3     79.333333  3553.333333  714.2  675.000000  266.666667  746.666667   \n",
       "4     68.666667   433.333333   87.1  208.333333   93.333333   33.333333   \n",
       "...         ...          ...    ...         ...         ...         ...   \n",
       "2759  28.000000   256.000000   51.5  125.000000   60.000000   10.000000   \n",
       "2760  48.666667  1473.000000  296.1  275.000000  233.666667   52.000000   \n",
       "2761  40.000000   980.666667  197.1  191.666667  133.333333   62.000000   \n",
       "2762  23.333333   488.000000   98.1  416.666667  136.666667   69.333333   \n",
       "2763  41.333333   434.666667   87.4  191.666667  133.333333   22.000000   \n",
       "\n",
       "          CL          NO3    SO4          CA          MG  \n",
       "0      383.6    53.333333  138.4  106.666667  200.000000  \n",
       "1     1349.2  3555.555556  516.0  240.000000  690.000000  \n",
       "2       20.0     4.444444    0.8   69.333333   73.333333  \n",
       "3      994.0    71.111111  177.2  186.666667  363.333333  \n",
       "4       34.0   511.111111   68.4   85.333333   96.666667  \n",
       "...      ...          ...    ...         ...         ...  \n",
       "2759    45.2     7.111111   28.0   53.333333   63.333333  \n",
       "2760   425.6    28.888889  124.0  128.000000  373.333333  \n",
       "2761   226.8    73.333333  215.2  176.000000   56.666667  \n",
       "2762    56.8     0.688889   10.0  138.666667  120.000000  \n",
       "2763    96.4     3.333333   30.8   90.666667  186.666667  \n",
       "\n",
       "[2764 rows x 11 columns]"
      ]
     },
     "execution_count": 9,
     "metadata": {},
     "output_type": "execute_result"
    }
   ],
   "source": [
    "import numpy as np\n",
    "\n",
    "qe = pd.DataFrame()\n",
    "qi_wi = []\n",
    "\n",
    "for col in wqi_df['features']:\n",
    "    # print('col = ', col)\n",
    "    v_ideal = wqi_df[wqi_df['features'] == col]['ideal_values'].values[0]\n",
    "    s_value = wqi_df[wqi_df['features'] == col]['standard_values'].values[0]\n",
    "    # print(v_ideal, s_value)\n",
    "    qe[col] = 100 * (water_data[col] - v_ideal) / (s_value - v_ideal)\n",
    "\n",
    "for row in qe.iterrows():\n",
    "    qi_wi.append((np.array(row[1])*wqi_df['weights']).sum())\n",
    "\n",
    "qe"
   ]
  },
  {
   "cell_type": "code",
   "execution_count": 10,
   "metadata": {},
   "outputs": [
    {
     "data": {
      "text/html": [
       "<div>\n",
       "<style scoped>\n",
       "    .dataframe tbody tr th:only-of-type {\n",
       "        vertical-align: middle;\n",
       "    }\n",
       "\n",
       "    .dataframe tbody tr th {\n",
       "        vertical-align: top;\n",
       "    }\n",
       "\n",
       "    .dataframe thead th {\n",
       "        text-align: right;\n",
       "    }\n",
       "</style>\n",
       "<table border=\"1\" class=\"dataframe\">\n",
       "  <thead>\n",
       "    <tr style=\"text-align: right;\">\n",
       "      <th></th>\n",
       "      <th>PH</th>\n",
       "      <th>EC</th>\n",
       "      <th>TDS</th>\n",
       "      <th>ALK</th>\n",
       "      <th>TH</th>\n",
       "      <th>F</th>\n",
       "      <th>CL</th>\n",
       "      <th>NO3</th>\n",
       "      <th>SO4</th>\n",
       "      <th>CA</th>\n",
       "      <th>MG</th>\n",
       "      <th>qi_wi</th>\n",
       "      <th>EWQI</th>\n",
       "    </tr>\n",
       "  </thead>\n",
       "  <tbody>\n",
       "    <tr>\n",
       "      <th>0</th>\n",
       "      <td>83.333333</td>\n",
       "      <td>1696.666667</td>\n",
       "      <td>341.0</td>\n",
       "      <td>608.333333</td>\n",
       "      <td>150.000000</td>\n",
       "      <td>186.666667</td>\n",
       "      <td>383.6</td>\n",
       "      <td>53.333333</td>\n",
       "      <td>138.4</td>\n",
       "      <td>106.666667</td>\n",
       "      <td>200.000000</td>\n",
       "      <td>307.655924</td>\n",
       "      <td>307.655924</td>\n",
       "    </tr>\n",
       "    <tr>\n",
       "      <th>1</th>\n",
       "      <td>82.000000</td>\n",
       "      <td>4736.666667</td>\n",
       "      <td>952.1</td>\n",
       "      <td>691.666667</td>\n",
       "      <td>433.333333</td>\n",
       "      <td>442.666667</td>\n",
       "      <td>1349.2</td>\n",
       "      <td>3555.555556</td>\n",
       "      <td>516.0</td>\n",
       "      <td>240.000000</td>\n",
       "      <td>690.000000</td>\n",
       "      <td>1274.533598</td>\n",
       "      <td>1274.533598</td>\n",
       "    </tr>\n",
       "    <tr>\n",
       "      <th>2</th>\n",
       "      <td>78.000000</td>\n",
       "      <td>228.333333</td>\n",
       "      <td>45.9</td>\n",
       "      <td>208.333333</td>\n",
       "      <td>73.333333</td>\n",
       "      <td>29.333333</td>\n",
       "      <td>20.0</td>\n",
       "      <td>4.444444</td>\n",
       "      <td>0.8</td>\n",
       "      <td>69.333333</td>\n",
       "      <td>73.333333</td>\n",
       "      <td>59.095708</td>\n",
       "      <td>59.095708</td>\n",
       "    </tr>\n",
       "    <tr>\n",
       "      <th>3</th>\n",
       "      <td>79.333333</td>\n",
       "      <td>3553.333333</td>\n",
       "      <td>714.2</td>\n",
       "      <td>675.000000</td>\n",
       "      <td>266.666667</td>\n",
       "      <td>746.666667</td>\n",
       "      <td>994.0</td>\n",
       "      <td>71.111111</td>\n",
       "      <td>177.2</td>\n",
       "      <td>186.666667</td>\n",
       "      <td>363.333333</td>\n",
       "      <td>636.424848</td>\n",
       "      <td>636.424848</td>\n",
       "    </tr>\n",
       "    <tr>\n",
       "      <th>4</th>\n",
       "      <td>68.666667</td>\n",
       "      <td>433.333333</td>\n",
       "      <td>87.1</td>\n",
       "      <td>208.333333</td>\n",
       "      <td>93.333333</td>\n",
       "      <td>33.333333</td>\n",
       "      <td>34.0</td>\n",
       "      <td>511.111111</td>\n",
       "      <td>68.4</td>\n",
       "      <td>85.333333</td>\n",
       "      <td>96.666667</td>\n",
       "      <td>151.448314</td>\n",
       "      <td>151.448314</td>\n",
       "    </tr>\n",
       "    <tr>\n",
       "      <th>...</th>\n",
       "      <td>...</td>\n",
       "      <td>...</td>\n",
       "      <td>...</td>\n",
       "      <td>...</td>\n",
       "      <td>...</td>\n",
       "      <td>...</td>\n",
       "      <td>...</td>\n",
       "      <td>...</td>\n",
       "      <td>...</td>\n",
       "      <td>...</td>\n",
       "      <td>...</td>\n",
       "      <td>...</td>\n",
       "      <td>...</td>\n",
       "    </tr>\n",
       "    <tr>\n",
       "      <th>2759</th>\n",
       "      <td>28.000000</td>\n",
       "      <td>256.000000</td>\n",
       "      <td>51.5</td>\n",
       "      <td>125.000000</td>\n",
       "      <td>60.000000</td>\n",
       "      <td>10.000000</td>\n",
       "      <td>45.2</td>\n",
       "      <td>7.111111</td>\n",
       "      <td>28.0</td>\n",
       "      <td>53.333333</td>\n",
       "      <td>63.333333</td>\n",
       "      <td>55.241104</td>\n",
       "      <td>55.241104</td>\n",
       "    </tr>\n",
       "    <tr>\n",
       "      <th>2760</th>\n",
       "      <td>48.666667</td>\n",
       "      <td>1473.000000</td>\n",
       "      <td>296.1</td>\n",
       "      <td>275.000000</td>\n",
       "      <td>233.666667</td>\n",
       "      <td>52.000000</td>\n",
       "      <td>425.6</td>\n",
       "      <td>28.888889</td>\n",
       "      <td>124.0</td>\n",
       "      <td>128.000000</td>\n",
       "      <td>373.333333</td>\n",
       "      <td>287.785086</td>\n",
       "      <td>287.785086</td>\n",
       "    </tr>\n",
       "    <tr>\n",
       "      <th>2761</th>\n",
       "      <td>40.000000</td>\n",
       "      <td>980.666667</td>\n",
       "      <td>197.1</td>\n",
       "      <td>191.666667</td>\n",
       "      <td>133.333333</td>\n",
       "      <td>62.000000</td>\n",
       "      <td>226.8</td>\n",
       "      <td>73.333333</td>\n",
       "      <td>215.2</td>\n",
       "      <td>176.000000</td>\n",
       "      <td>56.666667</td>\n",
       "      <td>196.862044</td>\n",
       "      <td>196.862044</td>\n",
       "    </tr>\n",
       "    <tr>\n",
       "      <th>2762</th>\n",
       "      <td>23.333333</td>\n",
       "      <td>488.000000</td>\n",
       "      <td>98.1</td>\n",
       "      <td>416.666667</td>\n",
       "      <td>136.666667</td>\n",
       "      <td>69.333333</td>\n",
       "      <td>56.8</td>\n",
       "      <td>0.688889</td>\n",
       "      <td>10.0</td>\n",
       "      <td>138.666667</td>\n",
       "      <td>120.000000</td>\n",
       "      <td>102.900091</td>\n",
       "      <td>102.900091</td>\n",
       "    </tr>\n",
       "    <tr>\n",
       "      <th>2763</th>\n",
       "      <td>41.333333</td>\n",
       "      <td>434.666667</td>\n",
       "      <td>87.4</td>\n",
       "      <td>191.666667</td>\n",
       "      <td>133.333333</td>\n",
       "      <td>22.000000</td>\n",
       "      <td>96.4</td>\n",
       "      <td>3.333333</td>\n",
       "      <td>30.8</td>\n",
       "      <td>90.666667</td>\n",
       "      <td>186.666667</td>\n",
       "      <td>101.454366</td>\n",
       "      <td>101.454366</td>\n",
       "    </tr>\n",
       "  </tbody>\n",
       "</table>\n",
       "<p>2764 rows × 13 columns</p>\n",
       "</div>"
      ],
      "text/plain": [
       "             PH           EC    TDS         ALK          TH           F  \\\n",
       "0     83.333333  1696.666667  341.0  608.333333  150.000000  186.666667   \n",
       "1     82.000000  4736.666667  952.1  691.666667  433.333333  442.666667   \n",
       "2     78.000000   228.333333   45.9  208.333333   73.333333   29.333333   \n",
       "3     79.333333  3553.333333  714.2  675.000000  266.666667  746.666667   \n",
       "4     68.666667   433.333333   87.1  208.333333   93.333333   33.333333   \n",
       "...         ...          ...    ...         ...         ...         ...   \n",
       "2759  28.000000   256.000000   51.5  125.000000   60.000000   10.000000   \n",
       "2760  48.666667  1473.000000  296.1  275.000000  233.666667   52.000000   \n",
       "2761  40.000000   980.666667  197.1  191.666667  133.333333   62.000000   \n",
       "2762  23.333333   488.000000   98.1  416.666667  136.666667   69.333333   \n",
       "2763  41.333333   434.666667   87.4  191.666667  133.333333   22.000000   \n",
       "\n",
       "          CL          NO3    SO4          CA          MG        qi_wi  \\\n",
       "0      383.6    53.333333  138.4  106.666667  200.000000   307.655924   \n",
       "1     1349.2  3555.555556  516.0  240.000000  690.000000  1274.533598   \n",
       "2       20.0     4.444444    0.8   69.333333   73.333333    59.095708   \n",
       "3      994.0    71.111111  177.2  186.666667  363.333333   636.424848   \n",
       "4       34.0   511.111111   68.4   85.333333   96.666667   151.448314   \n",
       "...      ...          ...    ...         ...         ...          ...   \n",
       "2759    45.2     7.111111   28.0   53.333333   63.333333    55.241104   \n",
       "2760   425.6    28.888889  124.0  128.000000  373.333333   287.785086   \n",
       "2761   226.8    73.333333  215.2  176.000000   56.666667   196.862044   \n",
       "2762    56.8     0.688889   10.0  138.666667  120.000000   102.900091   \n",
       "2763    96.4     3.333333   30.8   90.666667  186.666667   101.454366   \n",
       "\n",
       "             EWQI  \n",
       "0      307.655924  \n",
       "1     1274.533598  \n",
       "2       59.095708  \n",
       "3      636.424848  \n",
       "4      151.448314  \n",
       "...           ...  \n",
       "2759    55.241104  \n",
       "2760   287.785086  \n",
       "2761   196.862044  \n",
       "2762   102.900091  \n",
       "2763   101.454366  \n",
       "\n",
       "[2764 rows x 13 columns]"
      ]
     },
     "execution_count": 10,
     "metadata": {},
     "output_type": "execute_result"
    }
   ],
   "source": [
    "qe['qi_wi'] = qi_wi\n",
    "qe['EWQI'] = qe['qi_wi'] / wqi_df['weights'].sum()\n",
    "qe"
   ]
  },
  {
   "cell_type": "code",
   "execution_count": 11,
   "metadata": {},
   "outputs": [],
   "source": [
    "qe['EWQI_CLASSIF'] = qe['EWQI'].apply(lambda x: 'Excellent' if x <= 25 else 'Good' if x <= 50 else 'Poor' if x <= 75 else 'Very Poor' if x <= 100 else 'Unsuitable')"
   ]
  },
  {
   "cell_type": "code",
   "execution_count": 12,
   "metadata": {},
   "outputs": [],
   "source": [
    "qe.to_csv('quality_estimate_and_entropy_wqi.csv', index=False)"
   ]
  },
  {
   "cell_type": "markdown",
   "metadata": {},
   "source": [
    "# AWQI v/s EWQI"
   ]
  },
  {
   "cell_type": "code",
   "execution_count": 13,
   "metadata": {},
   "outputs": [
    {
     "data": {
      "text/plain": [
       "(             WQI WQI_CLASSIF\n",
       " 0     179.179174  Unsuitable\n",
       " 1     503.168402  Unsuitable\n",
       " 2      39.979871        Good\n",
       " 3     623.628660  Unsuitable\n",
       " 4      57.007405        Poor\n",
       " ...          ...         ...\n",
       " 2759   17.533385   Excellent\n",
       " 2760   74.851919        Poor\n",
       " 2761   67.464524        Poor\n",
       " 2762   69.255678        Poor\n",
       " 2763   35.477952        Good\n",
       " \n",
       " [2764 rows x 2 columns],\n",
       "              EWQI EWQI_CLASSIF\n",
       " 0      307.655924   Unsuitable\n",
       " 1     1274.533598   Unsuitable\n",
       " 2       59.095708         Poor\n",
       " 3      636.424848   Unsuitable\n",
       " 4      151.448314   Unsuitable\n",
       " ...           ...          ...\n",
       " 2759    55.241104         Poor\n",
       " 2760   287.785086   Unsuitable\n",
       " 2761   196.862044   Unsuitable\n",
       " 2762   102.900091   Unsuitable\n",
       " 2763   101.454366   Unsuitable\n",
       " \n",
       " [2764 rows x 2 columns])"
      ]
     },
     "execution_count": 13,
     "metadata": {},
     "output_type": "execute_result"
    }
   ],
   "source": [
    "awqi = pd.read_csv('quality_estimate_and_wqi.csv')[['WQI','WQI_CLASSIF']]\n",
    "ewqi = pd.read_csv('quality_estimate_and_entropy_wqi.csv')[['EWQI','EWQI_CLASSIF']]\n",
    "\n",
    "wqi = pd.concat([awqi, ewqi], axis=1)\n",
    "\n",
    "awqi, ewqi"
   ]
  },
  {
   "cell_type": "code",
   "execution_count": 14,
   "metadata": {},
   "outputs": [],
   "source": [
    "import seaborn as sns\n",
    "\n",
    "sns.set()\n",
    "sns.set_palette('bright')"
   ]
  },
  {
   "cell_type": "code",
   "execution_count": 15,
   "metadata": {},
   "outputs": [
    {
     "data": {
      "text/plain": [
       "<Axes: ylabel='Count'>"
      ]
     },
     "execution_count": 15,
     "metadata": {},
     "output_type": "execute_result"
    },
    {
     "data": {
      "image/png": "[encoded data removed]",
      "text/plain": [
       "<Figure size 640x480 with 1 Axes>"
      ]
     },
     "metadata": {},
     "output_type": "display_data"
    }
   ],
   "source": [
    "import matplotlib.pyplot as plt\n",
    "\n",
    "sns.histplot([awqi['WQI'], ewqi['EWQI']], kde=True)"
   ]
  },
  {
   "cell_type": "code",
   "execution_count": 16,
   "metadata": {},
   "outputs": [
    {
     "data": {
      "image/png": "[encoded data removed]",
      "text/plain": [
       "<Figure size 640x480 with 1 Axes>"
      ]
     },
     "metadata": {},
     "output_type": "display_data"
    }
   ],
   "source": [
    "sns.histplot([awqi['WQI'], ewqi['EWQI']], kde=True)\n",
    "plt.xlim(0, 1000)\n",
    "plt.show()"
   ]
  },
  {
   "cell_type": "code",
   "execution_count": null,
   "metadata": {},
   "outputs": [],
   "source": []
  },
  {
   "cell_type": "code",
   "execution_count": null,
   "metadata": {},
   "outputs": [],
   "source": []
  },
  {
   "cell_type": "code",
   "execution_count": null,
   "metadata": {},
   "outputs": [],
   "source": []
  },
  {
   "cell_type": "code",
   "execution_count": null,
   "metadata": {},
   "outputs": [],
   "source": []
  },
  {
   "cell_type": "code",
   "execution_count": null,
   "metadata": {},
   "outputs": [],
   "source": []
  },
  {
   "cell_type": "code",
   "execution_count": null,
   "metadata": {},
   "outputs": [],
   "source": []
  },
  {
   "cell_type": "markdown",
   "metadata": {},
   "source": [
    "# Bland-Altman Plot to measure the agreement between two methods"
   ]
  },
  {
   "cell_type": "code",
   "execution_count": 17,
   "metadata": {},
   "outputs": [
    {
     "data": {
      "application/vnd.plotly.v1+json": {
       "config": {
        "plotlyServerURL": "https://plot.ly"
       },
       "data": [
        {
         "customdata": [
          [
           0
          ],
          [
           1
          ],
          [
           2
          ],
          [
           3
          ],
          [
           4
          ],
          [
           5
          ],
          [
           6
          ],
          [
           7
          ],
          [
           8
          ],
          [
           9
          ],
          [
           10
          ],
          [
           11
          ],
          [
           12
          ],
          [
           13
          ],
          [
           14
          ],
          [
           15
          ],
          [
           16
          ],
          [
           17
          ],
          [
           18
          ],
          [
           19
          ],
          [
           20
          ],
          [
           21
          ],
          [
           22
          ],
          [
           23
          ],
          [
           24
          ],
          [
           25
          ],
          [
           26
          ],
          [
           27
          ],
          [
           28
          ],
          [
           29
          ],
          [
           30
          ],
          [
           31
          ],
          [
           32
          ],
          [
           33
          ],
          [
           34
          ],
          [
           35
          ],
          [
           36
          ],
          [
           37
          ],
          [
           38
          ],
          [
           39
          ],
          [
           40
          ],
          [
           41
          ],
          [
           42
          ],
          [
           43
          ],
          [
           44
          ],
          [
           45
          ],
          [
           46
          ],
          [
           47
          ],
          [
           48
          ],
          [
           49
          ],
          [
           50
          ],
          [
           51
          ],
          [
           52
          ],
          [
           53
          ],
          [
           54
          ],
          [
           55
          ],
          [
           56
          ],
          [
           57
          ],
          [
           58
          ],
          [
           59
          ],
          [
           60
          ],
          [
           61
          ],
          [
           62
          ],
          [
           63
          ],
          [
           64
          ],
          [
           65
          ],
          [
           66
          ],
          [
           67
          ],
          [
           68
          ],
          [
           69
          ],
          [
           70
          ],
          [
           71
          ],
          [
           72
          ],
          [
           73
          ],
          [
           74
          ],
          [
           75
          ],
          [
           76
          ],
          [
           77
          ],
          [
           78
          ],
          [
           79
          ],
          [
           80
          ],
          [
           81
          ],
          [
           82
          ],
          [
           83
          ],
          [
           84
          ],
          [
           85
          ],
          [
           86
          ],
          [
           87
          ],
          [
           88
          ],
          [
           89
          ],
          [
           90
          ],
          [
           91
          ],
          [
           92
          ],
          [
           93
          ],
          [
           94
          ],
          [
           95
          ],
          [
           96
          ],
          [
           97
          ],
          [
           98
          ],
          [
           99
          ],
          [
           100
          ],
          [
           101
          ],
          [
           102
          ],
          [
           103
          ],
          [
           104
          ],
          [
           105
          ],
          [
           106
          ],
          [
           107
          ],
          [
           108
          ],
          [
           109
          ],
          [
           110
          ],
          [
           111
          ],
          [
           112
          ],
          [
           113
          ],
          [
           114
          ],
          [
           115
          ],
          [
           116
          ],
          [
           117
          ],
          [
           118
          ],
          [
           119
          ],
          [
           120
          ],
          [
           121
          ],
          [
           122
          ],
          [
           123
          ],
          [
           124
          ],
          [
           125
          ],
          [
           126
          ],
          [
           127
          ],
          [
           128
          ],
          [
           129
          ],
          [
           130
          ],
          [
           131
          ],
          [
           132
          ],
          [
           133
          ],
          [
           134
          ],
          [
           135
          ],
          [
           136
          ],
          [
           137
          ],
          [
           138
          ],
          [
           139
          ],
          [
           140
          ],
          [
           141
          ],
          [
           142
          ],
          [
           143
          ],
          [
           144
          ],
          [
           145
          ],
          [
           146
          ],
          [
           147
          ],
          [
           148
          ],
          [
           149
          ],
          [
           150
          ],
          [
           151
          ],
          [
           152
          ],
          [
           153
          ],
          [
           154
          ],
          [
           155
          ],
          [
           156
          ],
          [
           157
          ],
          [
           158
          ],
          [
           159
          ],
          [
           160
          ],
          [
           161
          ],
          [
           162
          ],
          [
           163
          ],
          [
           164
          ],
          [
           165
          ],
          [
           166
          ],
          [
           167
          ],
          [
           168
          ],
          [
           169
          ],
          [
           170
          ],
          [
           171
          ],
          [
           172
          ],
          [
           173
          ],
          [
           174
          ],
          [
           175
          ],
          [
           176
          ],
          [
           177
          ],
          [
           178
          ],
          [
           179
          ],
          [
           180
          ],
          [
           181
          ],
          [
           182
          ],
          [
           183
          ],
          [
           184
          ],
          [
           185
          ],
          [
           186
          ],
          [
           187
          ],
          [
           188
          ],
          [
           189
          ],
          [
           190
          ],
          [
           191
          ],
          [
           192
          ],
          [
           193
          ],
          [
           194
          ],
          [
           195
          ],
          [
           196
          ],
          [
           197
          ],
          [
           198
          ],
          [
           199
          ],
          [
           200
          ],
          [
           201
          ],
          [
           202
          ],
          [
           203
          ],
          [
           204
          ],
          [
           205
          ],
          [
           206
          ],
          [
           207
          ],
          [
           208
          ],
          [
           209
          ],
          [
           210
          ],
          [
           211
          ],
          [
           212
          ],
          [
           213
          ],
          [
           214
          ],
          [
           215
          ],
          [
           216
          ],
          [
           217
          ],
          [
           218
          ],
          [
           219
          ],
          [
           220
          ],
          [
           221
          ],
          [
           222
          ],
          [
           223
          ],
          [
           224
          ],
          [
           225
          ],
          [
           226
          ],
          [
           227
          ],
          [
           228
          ],
          [
           229
          ],
          [
           230
          ],
          [
           231
          ],
          [
           232
          ],
          [
           233
          ],
          [
           234
          ],
          [
           235
          ],
          [
           236
          ],
          [
           237
          ],
          [
           238
          ],
          [
           239
          ],
          [
           240
          ],
          [
           241
          ],
          [
           242
          ],
          [
           243
          ],
          [
           244
          ],
          [
           245
          ],
          [
           246
          ],
          [
           247
          ],
          [
           248
          ],
          [
           249
          ],
          [
           250
          ],
          [
           251
          ],
          [
           252
          ],
          [
           253
          ],
          [
           254
          ],
          [
           255
          ],
          [
           256
          ],
          [
           257
          ],
          [
           258
          ],
          [
           259
          ],
          [
           260
          ],
          [
           261
          ],
          [
           262
          ],
          [
           263
          ],
          [
           264
          ],
          [
           265
          ],
          [
           266
          ],
          [
           267
          ],
          [
           268
          ],
          [
           269
          ],
          [
           270
          ],
          [
           271
          ],
          [
           272
          ],
          [
           273
          ],
          [
           274
          ],
          [
           275
          ],
          [
           276
          ],
          [
           277
          ],
          [
           278
          ],
          [
           279
          ],
          [
           280
          ],
          [
           281
          ],
          [
           282
          ],
          [
           283
          ],
          [
           284
          ],
          [
           285
          ],
          [
           286
          ],
          [
           287
          ],
          [
           288
          ],
          [
           289
          ],
          [
           290
          ],
          [
           291
          ],
          [
           292
          ],
          [
           293
          ],
          [
           294
          ],
          [
           295
          ],
          [
           296
          ],
          [
           297
          ],
          [
           298
          ],
          [
           299
          ],
          [
           300
          ],
          [
           301
          ],
          [
           302
          ],
          [
           303
          ],
          [
           304
          ],
          [
           305
          ],
          [
           306
          ],
          [
           307
          ],
          [
           308
          ],
          [
           309
          ],
          [
           310
          ],
          [
           311
          ],
          [
           312
          ],
          [
           313
          ],
          [
           314
          ],
          [
           315
          ],
          [
           316
          ],
          [
           317
          ],
          [
           318
          ],
          [
           319
          ],
          [
           320
          ],
          [
           321
          ],
          [
           322
          ],
          [
           323
          ],
          [
           324
          ],
          [
           325
          ],
          [
           326
          ],
          [
           327
          ],
          [
           328
          ],
          [
           329
          ],
          [
           330
          ],
          [
           331
          ],
          [
           332
          ],
          [
           333
          ],
          [
           334
          ],
          [
           335
          ],
          [
           336
          ],
          [
           337
          ],
          [
           338
          ],
          [
           339
          ],
          [
           340
          ],
          [
           341
          ],
          [
           342
          ],
          [
           343
          ],
          [
           344
          ],
          [
           345
          ],
          [
           346
          ],
          [
           347
          ],
          [
           348
          ],
          [
           349
          ],
          [
           350
          ],
          [
           351
          ],
          [
           352
          ],
          [
           353
          ],
          [
           354
          ],
          [
           355
          ],
          [
           356
          ],
          [
           357
          ],
          [
           358
          ],
          [
           359
          ],
          [
           360
          ],
          [
           361
          ],
          [
           362
          ],
          [
           363
          ],
          [
           364
          ],
          [
           365
          ],
          [
           366
          ],
          [
           367
          ],
          [
           368
          ],
          [
           369
          ],
          [
           370
          ],
          [
           371
          ],
          [
           372
          ],
          [
           373
          ],
          [
           374
          ],
          [
           375
          ],
          [
           376
          ],
          [
           377
          ],
          [
           378
          ],
          [
           379
          ],
          [
           380
          ],
          [
           381
          ],
          [
           382
          ],
          [
           383
          ],
          [
           384
          ],
          [
           385
          ],
          [
           386
          ],
          [
           387
          ],
          [
           388
          ],
          [
           389
          ],
          [
           390
          ],
          [
           391
          ],
          [
           392
          ],
          [
           393
          ],
          [
           394
          ],
          [
           395
          ],
          [
           396
          ],
          [
           397
          ],
          [
           398
          ],
          [
           399
          ],
          [
           400
          ],
          [
           401
          ],
          [
           402
          ],
          [
           403
          ],
          [
           404
          ],
          [
           405
          ],
          [
           406
          ],
          [
           407
          ],
          [
           408
          ],
          [
           409
          ],
          [
           410
          ],
          [
           411
          ],
          [
           412
          ],
          [
           413
          ],
          [
           414
          ],
          [
           415
          ],
          [
           416
          ],
          [
           417
          ],
          [
           418
          ],
          [
           419
          ],
          [
           420
          ],
          [
           421
          ],
          [
           422
          ],
          [
           423
          ],
          [
           424
          ],
          [
           425
          ],
          [
           426
          ],
          [
           427
          ],
          [
           428
          ],
          [
           429
          ],
          [
           430
          ],
          [
           431
          ],
          [
           432
          ],
          [
           433
          ],
          [
           434
          ],
          [
           435
          ],
          [
           436
          ],
          [
           437
          ],
          [
           438
          ],
          [
           439
          ],
          [
           440
          ],
          [
           441
          ],
          [
           442
          ],
          [
           443
          ],
          [
           444
          ],
          [
           445
          ],
          [
           446
          ],
          [
           447
          ],
          [
           448
          ],
          [
           449
          ],
          [
           450
          ],
          [
           451
          ],
          [
           452
          ],
          [
           453
          ],
          [
           454
          ],
          [
           455
          ],
          [
           456
          ],
          [
           457
          ],
          [
           458
          ],
          [
           459
          ],
          [
           460
          ],
          [
           461
          ],
          [
           462
          ],
          [
           463
          ],
          [
           464
          ],
          [
           465
          ],
          [
           466
          ],
          [
           467
          ],
          [
           468
          ],
          [
           469
          ],
          [
           470
          ],
          [
           471
          ],
          [
           472
          ],
          [
           473
          ],
          [
           474
          ],
          [
           475
          ],
          [
           476
          ],
          [
           477
          ],
          [
           478
          ],
          [
           479
          ],
          [
           480
          ],
          [
           481
          ],
          [
           482
          ],
          [
           483
          ],
          [
           484
          ],
          [
           485
          ],
          [
           486
          ],
          [
           487
          ],
          [
           488
          ],
          [
           489
          ],
          [
           490
          ],
          [
           491
          ],
          [
           492
          ],
          [
           493
          ],
          [
           494
          ],
          [
           495
          ],
          [
           496
          ],
          [
           497
          ],
          [
           498
          ],
          [
           499
          ],
          [
           500
          ],
          [
           501
          ],
          [
           502
          ],
          [
           503
          ],
          [
           504
          ],
          [
           505
          ],
          [
           506
          ],
          [
           507
          ],
          [
           508
          ],
          [
           509
          ],
          [
           510
          ],
          [
           511
          ],
          [
           512
          ],
          [
           513
          ],
          [
           514
          ],
          [
           515
          ],
          [
           516
          ],
          [
           517
          ],
          [
           518
          ],
          [
           519
          ],
          [
           520
          ],
          [
           521
          ],
          [
           522
          ],
          [
           523
          ],
          [
           524
          ],
          [
           525
          ],
          [
           526
          ],
          [
           527
          ],
          [
           528
          ],
          [
           529
          ],
          [
           530
          ],
          [
           531
          ],
          [
           532
          ],
          [
           533
          ],
          [
           534
          ],
          [
           535
          ],
          [
           536
          ],
          [
           537
          ],
          [
           538
          ],
          [
           539
          ],
          [
           540
          ],
          [
           541
          ],
          [
           542
          ],
          [
           543
          ],
          [
           544
          ],
          [
           545
          ],
          [
           546
          ],
          [
           547
          ],
          [
           548
          ],
          [
           549
          ],
          [
           550
          ],
          [
           551
          ],
          [
           552
          ],
          [
           553
          ],
          [
           554
          ],
          [
           555
          ],
          [
           556
          ],
          [
           557
          ],
          [
           558
          ],
          [
           559
          ],
          [
           560
          ],
          [
           561
          ],
          [
           562
          ],
          [
           563
          ],
          [
           564
          ],
          [
           565
          ],
          [
           566
          ],
          [
           567
          ],
          [
           568
          ],
          [
           569
          ],
          [
           570
          ],
          [
           571
          ],
          [
           572
          ],
          [
           573
          ],
          [
           574
          ],
          [
           575
          ],
          [
           576
          ],
          [
           577
          ],
          [
           578
          ],
          [
           579
          ],
          [
           580
          ],
          [
           581
          ],
          [
           582
          ],
          [
           583
          ],
          [
           584
          ],
          [
           585
          ],
          [
           586
          ],
          [
           587
          ],
          [
           588
          ],
          [
           589
          ],
          [
           590
          ],
          [
           591
          ],
          [
           592
          ],
          [
           593
          ],
          [
           594
          ],
          [
           595
          ],
          [
           596
          ],
          [
           597
          ],
          [
           598
          ],
          [
           599
          ],
          [
           600
          ],
          [
           601
          ],
          [
           602
          ],
          [
           603
          ],
          [
           604
          ],
          [
           605
          ],
          [
           606
          ],
          [
           607
          ],
          [
           608
          ],
          [
           609
          ],
          [
           610
          ],
          [
           611
          ],
          [
           612
          ],
          [
           613
          ],
          [
           614
          ],
          [
           615
          ],
          [
           616
          ],
          [
           617
          ],
          [
           618
          ],
          [
           619
          ],
          [
           620
          ],
          [
           621
          ],
          [
           622
          ],
          [
           623
          ],
          [
           624
          ],
          [
           625
          ],
          [
           626
          ],
          [
           627
          ],
          [
           628
          ],
          [
           629
          ],
          [
           630
          ],
          [
           631
          ],
          [
           632
          ],
          [
           633
          ],
          [
           634
          ],
          [
           635
          ],
          [
           636
          ],
          [
           637
          ],
          [
           638
          ],
          [
           639
          ],
          [
           640
          ],
          [
           641
          ],
          [
           642
          ],
          [
           643
          ],
          [
           644
          ],
          [
           645
          ],
          [
           646
          ],
          [
           647
          ],
          [
           648
          ],
          [
           649
          ],
          [
           650
          ],
          [
           651
          ],
          [
           652
          ],
          [
           653
          ],
          [
           654
          ],
          [
           655
          ],
          [
           656
          ],
          [
           657
          ],
          [
           658
          ],
          [
           659
          ],
          [
           660
          ],
          [
           661
          ],
          [
           662
          ],
          [
           663
          ],
          [
           664
          ],
          [
           665
          ],
          [
           666
          ],
          [
           667
          ],
          [
           668
          ],
          [
           669
          ],
          [
           670
          ],
          [
           671
          ],
          [
           672
          ],
          [
           673
          ],
          [
           674
          ],
          [
           675
          ],
          [
           676
          ],
          [
           677
          ],
          [
           678
          ],
          [
           679
          ],
          [
           680
          ],
          [
           681
          ],
          [
           682
          ],
          [
           683
          ],
          [
           684
          ],
          [
           685
          ],
          [
           686
          ],
          [
           687
          ],
          [
           688
          ],
          [
           689
          ],
          [
           690
          ],
          [
           691
          ],
          [
           692
          ],
          [
           693
          ],
          [
           694
          ],
          [
           695
          ],
          [
           696
          ],
          [
           697
          ],
          [
           698
          ],
          [
           699
          ],
          [
           700
          ],
          [
           701
          ],
          [
           702
          ],
          [
           703
          ],
          [
           704
          ],
          [
           705
          ],
          [
           706
          ],
          [
           707
          ],
          [
           708
          ],
          [
           709
          ],
          [
           710
          ],
          [
           711
          ],
          [
           712
          ],
          [
           713
          ],
          [
           714
          ],
          [
           715
          ],
          [
           716
          ],
          [
           717
          ],
          [
           718
          ],
          [
           719
          ],
          [
           720
          ],
          [
           721
          ],
          [
           722
          ],
          [
           723
          ],
          [
           724
          ],
          [
           725
          ],
          [
           726
          ],
          [
           727
          ],
          [
           728
          ],
          [
           729
          ],
          [
           730
          ],
          [
           731
          ],
          [
           732
          ],
          [
           733
          ],
          [
           734
          ],
          [
           735
          ],
          [
           736
          ],
          [
           737
          ],
          [
           738
          ],
          [
           739
          ],
          [
           740
          ],
          [
           741
          ],
          [
           742
          ],
          [
           743
          ],
          [
           744
          ],
          [
           745
          ],
          [
           746
          ],
          [
           747
          ],
          [
           748
          ],
          [
           749
          ],
          [
           750
          ],
          [
           751
          ],
          [
           752
          ],
          [
           753
          ],
          [
           754
          ],
          [
           755
          ],
          [
           756
          ],
          [
           757
          ],
          [
           758
          ],
          [
           759
          ],
          [
           760
          ],
          [
           761
          ],
          [
           762
          ],
          [
           763
          ],
          [
           764
          ],
          [
           765
          ],
          [
           766
          ],
          [
           767
          ],
          [
           768
          ],
          [
           769
          ],
          [
           770
          ],
          [
           771
          ],
          [
           772
          ],
          [
           773
          ],
          [
           774
          ],
          [
           775
          ],
          [
           776
          ],
          [
           777
          ],
          [
           778
          ],
          [
           779
          ],
          [
           780
          ],
          [
           781
          ],
          [
           782
          ],
          [
           783
          ],
          [
           784
          ],
          [
           785
          ],
          [
           786
          ],
          [
           787
          ],
          [
           788
          ],
          [
           789
          ],
          [
           790
          ],
          [
           791
          ],
          [
           792
          ],
          [
           793
          ],
          [
           794
          ],
          [
           795
          ],
          [
           796
          ],
          [
           797
          ],
          [
           798
          ],
          [
           799
          ],
          [
           800
          ],
          [
           801
          ],
          [
           802
          ],
          [
           803
          ],
          [
           804
          ],
          [
           805
          ],
          [
           806
          ],
          [
           807
          ],
          [
           808
          ],
          [
           809
          ],
          [
           810
          ],
          [
           811
          ],
          [
           812
          ],
          [
           813
          ],
          [
           814
          ],
          [
           815
          ],
          [
           816
          ],
          [
           817
          ],
          [
           818
          ],
          [
           819
          ],
          [
           820
          ],
          [
           821
          ],
          [
           822
          ],
          [
           823
          ],
          [
           824
          ],
          [
           825
          ],
          [
           826
          ],
          [
           827
          ],
          [
           828
          ],
          [
           829
          ],
          [
           830
          ],
          [
           831
          ],
          [
           832
          ],
          [
           833
          ],
          [
           834
          ],
          [
           835
          ],
          [
           836
          ],
          [
           837
          ],
          [
           838
          ],
          [
           839
          ],
          [
           840
          ],
          [
           841
          ],
          [
           842
          ],
          [
           843
          ],
          [
           844
          ],
          [
           845
          ],
          [
           846
          ],
          [
           847
          ],
          [
           848
          ],
          [
           849
          ],
          [
           850
          ],
          [
           851
          ],
          [
           852
          ],
          [
           853
          ],
          [
           854
          ],
          [
           855
          ],
          [
           856
          ],
          [
           857
          ],
          [
           858
          ],
          [
           859
          ],
          [
           860
          ],
          [
           861
          ],
          [
           862
          ],
          [
           863
          ],
          [
           864
          ],
          [
           865
          ],
          [
           866
          ],
          [
           867
          ],
          [
           868
          ],
          [
           869
          ],
          [
           870
          ],
          [
           871
          ],
          [
           872
          ],
          [
           873
          ],
          [
           874
          ],
          [
           875
          ],
          [
           876
          ],
          [
           877
          ],
          [
           878
          ],
          [
           879
          ],
          [
           880
          ],
          [
           881
          ],
          [
           882
          ],
          [
           883
          ],
          [
           884
          ],
          [
           885
          ],
          [
           886
          ],
          [
           887
          ],
          [
           888
          ],
          [
           889
          ],
          [
           890
          ],
          [
           891
          ],
          [
           892
          ],
          [
           893
          ],
          [
           894
          ],
          [
           895
          ],
          [
           896
          ],
          [
           897
          ],
          [
           898
          ],
          [
           899
          ],
          [
           900
          ],
          [
           901
          ],
          [
           902
          ],
          [
           903
          ],
          [
           904
          ],
          [
           905
          ],
          [
           906
          ],
          [
           907
          ],
          [
           908
          ],
          [
           909
          ],
          [
           910
          ],
          [
           911
          ],
          [
           912
          ],
          [
           913
          ],
          [
           914
          ],
          [
           915
          ],
          [
           916
          ],
          [
           917
          ],
          [
           918
          ],
          [
           919
          ],
          [
           920
          ],
          [
           921
          ],
          [
           922
          ],
          [
           923
          ],
          [
           924
          ],
          [
           925
          ],
          [
           926
          ],
          [
           927
          ],
          [
           928
          ],
          [
           929
          ],
          [
           930
          ],
          [
           931
          ],
          [
           932
          ],
          [
           933
          ],
          [
           934
          ],
          [
           935
          ],
          [
           936
          ],
          [
           937
          ],
          [
           938
          ],
          [
           939
          ],
          [
           940
          ],
          [
           941
          ],
          [
           942
          ],
          [
           943
          ],
          [
           944
          ],
          [
           945
          ],
          [
           946
          ],
          [
           947
          ],
          [
           948
          ],
          [
           949
          ],
          [
           950
          ],
          [
           951
          ],
          [
           952
          ],
          [
           953
          ],
          [
           954
          ],
          [
           955
          ],
          [
           956
          ],
          [
           957
          ],
          [
           958
          ],
          [
           959
          ],
          [
           960
          ],
          [
           961
          ],
          [
           962
          ],
          [
           963
          ],
          [
           964
          ],
          [
           965
          ],
          [
           966
          ],
          [
           967
          ],
          [
           968
          ],
          [
           969
          ],
          [
           970
          ],
          [
           971
          ],
          [
           972
          ],
          [
           973
          ],
          [
           974
          ],
          [
           975
          ],
          [
           976
          ],
          [
           977
          ],
          [
           978
          ],
          [
           979
          ],
          [
           980
          ],
          [
           981
          ],
          [
           982
          ],
          [
           983
          ],
          [
           984
          ],
          [
           985
          ],
          [
           986
          ],
          [
           987
          ],
          [
           988
          ],
          [
           989
          ],
          [
           990
          ],
          [
           991
          ],
          [
           992
          ],
          [
           993
          ],
          [
           994
          ],
          [
           995
          ],
          [
           996
          ],
          [
           997
          ],
          [
           998
          ],
          [
           999
          ],
          [
           1000
          ],
          [
           1001
          ],
          [
           1002
          ],
          [
           1003
          ],
          [
           1004
          ],
          [
           1005
          ],
          [
           1006
          ],
          [
           1007
          ],
          [
           1008
          ],
          [
           1009
          ],
          [
           1010
          ],
          [
           1011
          ],
          [
           1012
          ],
          [
           1013
          ],
          [
           1014
          ],
          [
           1015
          ],
          [
           1016
          ],
          [
           1017
          ],
          [
           1018
          ],
          [
           1019
          ],
          [
           1020
          ],
          [
           1021
          ],
          [
           1022
          ],
          [
           1023
          ],
          [
           1024
          ],
          [
           1025
          ],
          [
           1026
          ],
          [
           1027
          ],
          [
           1028
          ],
          [
           1029
          ],
          [
           1030
          ],
          [
           1031
          ],
          [
           1032
          ],
          [
           1033
          ],
          [
           1034
          ],
          [
           1035
          ],
          [
           1036
          ],
          [
           1037
          ],
          [
           1038
          ],
          [
           1039
          ],
          [
           1040
          ],
          [
           1041
          ],
          [
           1042
          ],
          [
           1043
          ],
          [
           1044
          ],
          [
           1045
          ],
          [
           1046
          ],
          [
           1047
          ],
          [
           1048
          ],
          [
           1049
          ],
          [
           1050
          ],
          [
           1051
          ],
          [
           1052
          ],
          [
           1053
          ],
          [
           1054
          ],
          [
           1055
          ],
          [
           1056
          ],
          [
           1057
          ],
          [
           1058
          ],
          [
           1059
          ],
          [
           1060
          ],
          [
           1061
          ],
          [
           1062
          ],
          [
           1063
          ],
          [
           1064
          ],
          [
           1065
          ],
          [
           1066
          ],
          [
           1067
          ],
          [
           1068
          ],
          [
           1069
          ],
          [
           1070
          ],
          [
           1071
          ],
          [
           1072
          ],
          [
           1073
          ],
          [
           1074
          ],
          [
           1075
          ],
          [
           1076
          ],
          [
           1077
          ],
          [
           1078
          ],
          [
           1079
          ],
          [
           1080
          ],
          [
           1081
          ],
          [
           1082
          ],
          [
           1083
          ],
          [
           1084
          ],
          [
           1085
          ],
          [
           1086
          ],
          [
           1087
          ],
          [
           1088
          ],
          [
           1089
          ],
          [
           1090
          ],
          [
           1091
          ],
          [
           1092
          ],
          [
           1093
          ],
          [
           1094
          ],
          [
           1095
          ],
          [
           1096
          ],
          [
           1097
          ],
          [
           1098
          ],
          [
           1099
          ],
          [
           1100
          ],
          [
           1101
          ],
          [
           1102
          ],
          [
           1103
          ],
          [
           1104
          ],
          [
           1105
          ],
          [
           1106
          ],
          [
           1107
          ],
          [
           1108
          ],
          [
           1109
          ],
          [
           1110
          ],
          [
           1111
          ],
          [
           1112
          ],
          [
           1113
          ],
          [
           1114
          ],
          [
           1115
          ],
          [
           1116
          ],
          [
           1117
          ],
          [
           1118
          ],
          [
           1119
          ],
          [
           1120
          ],
          [
           1121
          ],
          [
           1122
          ],
          [
           1123
          ],
          [
           1124
          ],
          [
           1125
          ],
          [
           1126
          ],
          [
           1127
          ],
          [
           1128
          ],
          [
           1129
          ],
          [
           1130
          ],
          [
           1131
          ],
          [
           1132
          ],
          [
           1133
          ],
          [
           1134
          ],
          [
           1135
          ],
          [
           1136
          ],
          [
           1137
          ],
          [
           1138
          ],
          [
           1139
          ],
          [
           1140
          ],
          [
           1141
          ],
          [
           1142
          ],
          [
           1143
          ],
          [
           1144
          ],
          [
           1145
          ],
          [
           1146
          ],
          [
           1147
          ],
          [
           1148
          ],
          [
           1149
          ],
          [
           1150
          ],
          [
           1151
          ],
          [
           1152
          ],
          [
           1153
          ],
          [
           1154
          ],
          [
           1155
          ],
          [
           1156
          ],
          [
           1157
          ],
          [
           1158
          ],
          [
           1159
          ],
          [
           1160
          ],
          [
           1161
          ],
          [
           1162
          ],
          [
           1163
          ],
          [
           1164
          ],
          [
           1165
          ],
          [
           1166
          ],
          [
           1167
          ],
          [
           1168
          ],
          [
           1169
          ],
          [
           1170
          ],
          [
           1171
          ],
          [
           1172
          ],
          [
           1173
          ],
          [
           1174
          ],
          [
           1175
          ],
          [
           1176
          ],
          [
           1177
          ],
          [
           1178
          ],
          [
           1179
          ],
          [
           1180
          ],
          [
           1181
          ],
          [
           1182
          ],
          [
           1183
          ],
          [
           1184
          ],
          [
           1185
          ],
          [
           1186
          ],
          [
           1187
          ],
          [
           1188
          ],
          [
           1189
          ],
          [
           1190
          ],
          [
           1191
          ],
          [
           1192
          ],
          [
           1193
          ],
          [
           1194
          ],
          [
           1195
          ],
          [
           1196
          ],
          [
           1197
          ],
          [
           1198
          ],
          [
           1199
          ],
          [
           1200
          ],
          [
           1201
          ],
          [
           1202
          ],
          [
           1203
          ],
          [
           1204
          ],
          [
           1205
          ],
          [
           1206
          ],
          [
           1207
          ],
          [
           1208
          ],
          [
           1209
          ],
          [
           1210
          ],
          [
           1211
          ],
          [
           1212
          ],
          [
           1213
          ],
          [
           1214
          ],
          [
           1215
          ],
          [
           1216
          ],
          [
           1217
          ],
          [
           1218
          ],
          [
           1219
          ],
          [
           1220
          ],
          [
           1221
          ],
          [
           1222
          ],
          [
           1223
          ],
          [
           1224
          ],
          [
           1225
          ],
          [
           1226
          ],
          [
           1227
          ],
          [
           1228
          ],
          [
           1229
          ],
          [
           1230
          ],
          [
           1231
          ],
          [
           1232
          ],
          [
           1233
          ],
          [
           1234
          ],
          [
           1235
          ],
          [
           1236
          ],
          [
           1237
          ],
          [
           1238
          ],
          [
           1239
          ],
          [
           1240
          ],
          [
           1241
          ],
          [
           1242
          ],
          [
           1243
          ],
          [
           1244
          ],
          [
           1245
          ],
          [
           1246
          ],
          [
           1247
          ],
          [
           1248
          ],
          [
           1249
          ],
          [
           1250
          ],
          [
           1251
          ],
          [
           1252
          ],
          [
           1253
          ],
          [
           1254
          ],
          [
           1255
          ],
          [
           1256
          ],
          [
           1257
          ],
          [
           1258
          ],
          [
           1259
          ],
          [
           1260
          ],
          [
           1261
          ],
          [
           1262
          ],
          [
           1263
          ],
          [
           1264
          ],
          [
           1265
          ],
          [
           1266
          ],
          [
           1267
          ],
          [
           1268
          ],
          [
           1269
          ],
          [
           1270
          ],
          [
           1271
          ],
          [
           1272
          ],
          [
           1273
          ],
          [
           1274
          ],
          [
           1275
          ],
          [
           1276
          ],
          [
           1277
          ],
          [
           1278
          ],
          [
           1279
          ],
          [
           1280
          ],
          [
           1281
          ],
          [
           1282
          ],
          [
           1283
          ],
          [
           1284
          ],
          [
           1285
          ],
          [
           1286
          ],
          [
           1287
          ],
          [
           1288
          ],
          [
           1289
          ],
          [
           1290
          ],
          [
           1291
          ],
          [
           1292
          ],
          [
           1293
          ],
          [
           1294
          ],
          [
           1295
          ],
          [
           1296
          ],
          [
           1297
          ],
          [
           1298
          ],
          [
           1299
          ],
          [
           1300
          ],
          [
           1301
          ],
          [
           1302
          ],
          [
           1303
          ],
          [
           1304
          ],
          [
           1305
          ],
          [
           1306
          ],
          [
           1307
          ],
          [
           1308
          ],
          [
           1309
          ],
          [
           1310
          ],
          [
           1311
          ],
          [
           1312
          ],
          [
           1313
          ],
          [
           1314
          ],
          [
           1315
          ],
          [
           1316
          ],
          [
           1317
          ],
          [
           1318
          ],
          [
           1319
          ],
          [
           1320
          ],
          [
           1321
          ],
          [
           1322
          ],
          [
           1323
          ],
          [
           1324
          ],
          [
           1325
          ],
          [
           1326
          ],
          [
           1327
          ],
          [
           1328
          ],
          [
           1329
          ],
          [
           1330
          ],
          [
           1331
          ],
          [
           1332
          ],
          [
           1333
          ],
          [
           1334
          ],
          [
           1335
          ],
          [
           1336
          ],
          [
           1337
          ],
          [
           1338
          ],
          [
           1339
          ],
          [
           1340
          ],
          [
           1341
          ],
          [
           1342
          ],
          [
           1343
          ],
          [
           1344
          ],
          [
           1345
          ],
          [
           1346
          ],
          [
           1347
          ],
          [
           1348
          ],
          [
           1349
          ],
          [
           1350
          ],
          [
           1351
          ],
          [
           1352
          ],
          [
           1353
          ],
          [
           1354
          ],
          [
           1355
          ],
          [
           1356
          ],
          [
           1357
          ],
          [
           1358
          ],
          [
           1359
          ],
          [
           1360
          ],
          [
           1361
          ],
          [
           1362
          ],
          [
           1363
          ],
          [
           1364
          ],
          [
           1365
          ],
          [
           1366
          ],
          [
           1367
          ],
          [
           1368
          ],
          [
           1369
          ],
          [
           1370
          ],
          [
           1371
          ],
          [
           1372
          ],
          [
           1373
          ],
          [
           1374
          ],
          [
           1375
          ],
          [
           1376
          ],
          [
           1377
          ],
          [
           1378
          ],
          [
           1379
          ],
          [
           1380
          ],
          [
           1381
          ],
          [
           1382
          ],
          [
           1383
          ],
          [
           1384
          ],
          [
           1385
          ],
          [
           1386
          ],
          [
           1387
          ],
          [
           1388
          ],
          [
           1389
          ],
          [
           1390
          ],
          [
           1391
          ],
          [
           1392
          ],
          [
           1393
          ],
          [
           1394
          ],
          [
           1395
          ],
          [
           1396
          ],
          [
           1397
          ],
          [
           1398
          ],
          [
           1399
          ],
          [
           1400
          ],
          [
           1401
          ],
          [
           1402
          ],
          [
           1403
          ],
          [
           1404
          ],
          [
           1405
          ],
          [
           1406
          ],
          [
           1407
          ],
          [
           1408
          ],
          [
           1409
          ],
          [
           1410
          ],
          [
           1411
          ],
          [
           1412
          ],
          [
           1413
          ],
          [
           1414
          ],
          [
           1415
          ],
          [
           1416
          ],
          [
           1417
          ],
          [
           1418
          ],
          [
           1419
          ],
          [
           1420
          ],
          [
           1421
          ],
          [
           1422
          ],
          [
           1423
          ],
          [
           1424
          ],
          [
           1425
          ],
          [
           1426
          ],
          [
           1427
          ],
          [
           1428
          ],
          [
           1429
          ],
          [
           1430
          ],
          [
           1431
          ],
          [
           1432
          ],
          [
           1433
          ],
          [
           1434
          ],
          [
           1435
          ],
          [
           1436
          ],
          [
           1437
          ],
          [
           1438
          ],
          [
           1439
          ],
          [
           1440
          ],
          [
           1441
          ],
          [
           1442
          ],
          [
           1443
          ],
          [
           1444
          ],
          [
           1445
          ],
          [
           1446
          ],
          [
           1447
          ],
          [
           1448
          ],
          [
           1449
          ],
          [
           1450
          ],
          [
           1451
          ],
          [
           1452
          ],
          [
           1453
          ],
          [
           1454
          ],
          [
           1455
          ],
          [
           1456
          ],
          [
           1457
          ],
          [
           1458
          ],
          [
           1459
          ],
          [
           1460
          ],
          [
           1461
          ],
          [
           1462
          ],
          [
           1463
          ],
          [
           1464
          ],
          [
           1465
          ],
          [
           1466
          ],
          [
           1467
          ],
          [
           1468
          ],
          [
           1469
          ],
          [
           1470
          ],
          [
           1471
          ],
          [
           1472
          ],
          [
           1473
          ],
          [
           1474
          ],
          [
           1475
          ],
          [
           1476
          ],
          [
           1477
          ],
          [
           1478
          ],
          [
           1479
          ],
          [
           1480
          ],
          [
           1481
          ],
          [
           1482
          ],
          [
           1483
          ],
          [
           1484
          ],
          [
           1485
          ],
          [
           1486
          ],
          [
           1487
          ],
          [
           1488
          ],
          [
           1489
          ],
          [
           1490
          ],
          [
           1491
          ],
          [
           1492
          ],
          [
           1493
          ],
          [
           1494
          ],
          [
           1495
          ],
          [
           1496
          ],
          [
           1497
          ],
          [
           1498
          ],
          [
           1499
          ],
          [
           1500
          ],
          [
           1501
          ],
          [
           1502
          ],
          [
           1503
          ],
          [
           1504
          ],
          [
           1505
          ],
          [
           1506
          ],
          [
           1507
          ],
          [
           1508
          ],
          [
           1509
          ],
          [
           1510
          ],
          [
           1511
          ],
          [
           1512
          ],
          [
           1513
          ],
          [
           1514
          ],
          [
           1515
          ],
          [
           1516
          ],
          [
           1517
          ],
          [
           1518
          ],
          [
           1519
          ],
          [
           1520
          ],
          [
           1521
          ],
          [
           1522
          ],
          [
           1523
          ],
          [
           1524
          ],
          [
           1525
          ],
          [
           1526
          ],
          [
           1527
          ],
          [
           1528
          ],
          [
           1529
          ],
          [
           1530
          ],
          [
           1531
          ],
          [
           1532
          ],
          [
           1533
          ],
          [
           1534
          ],
          [
           1535
          ],
          [
           1536
          ],
          [
           1537
          ],
          [
           1538
          ],
          [
           1539
          ],
          [
           1540
          ],
          [
           1541
          ],
          [
           1542
          ],
          [
           1543
          ],
          [
           1544
          ],
          [
           1545
          ],
          [
           1546
          ],
          [
           1547
          ],
          [
           1548
          ],
          [
           1549
          ],
          [
           1550
          ],
          [
           1551
          ],
          [
           1552
          ],
          [
           1553
          ],
          [
           1554
          ],
          [
           1555
          ],
          [
           1556
          ],
          [
           1557
          ],
          [
           1558
          ],
          [
           1559
          ],
          [
           1560
          ],
          [
           1561
          ],
          [
           1562
          ],
          [
           1563
          ],
          [
           1564
          ],
          [
           1565
          ],
          [
           1566
          ],
          [
           1567
          ],
          [
           1568
          ],
          [
           1569
          ],
          [
           1570
          ],
          [
           1571
          ],
          [
           1572
          ],
          [
           1573
          ],
          [
           1574
          ],
          [
           1575
          ],
          [
           1576
          ],
          [
           1577
          ],
          [
           1578
          ],
          [
           1579
          ],
          [
           1580
          ],
          [
           1581
          ],
          [
           1582
          ],
          [
           1583
          ],
          [
           1584
          ],
          [
           1585
          ],
          [
           1586
          ],
          [
           1587
          ],
          [
           1588
          ],
          [
           1589
          ],
          [
           1590
          ],
          [
           1591
          ],
          [
           1592
          ],
          [
           1593
          ],
          [
           1594
          ],
          [
           1595
          ],
          [
           1596
          ],
          [
           1597
          ],
          [
           1598
          ],
          [
           1599
          ],
          [
           1600
          ],
          [
           1601
          ],
          [
           1602
          ],
          [
           1603
          ],
          [
           1604
          ],
          [
           1605
          ],
          [
           1606
          ],
          [
           1607
          ],
          [
           1608
          ],
          [
           1609
          ],
          [
           1610
          ],
          [
           1611
          ],
          [
           1612
          ],
          [
           1613
          ],
          [
           1614
          ],
          [
           1615
          ],
          [
           1616
          ],
          [
           1617
          ],
          [
           1618
          ],
          [
           1619
          ],
          [
           1620
          ],
          [
           1621
          ],
          [
           1622
          ],
          [
           1623
          ],
          [
           1624
          ],
          [
           1625
          ],
          [
           1626
          ],
          [
           1627
          ],
          [
           1628
          ],
          [
           1629
          ],
          [
           1630
          ],
          [
           1631
          ],
          [
           1632
          ],
          [
           1633
          ],
          [
           1634
          ],
          [
           1635
          ],
          [
           1636
          ],
          [
           1637
          ],
          [
           1638
          ],
          [
           1639
          ],
          [
           1640
          ],
          [
           1641
          ],
          [
           1642
          ],
          [
           1643
          ],
          [
           1644
          ],
          [
           1645
          ],
          [
           1646
          ],
          [
           1647
          ],
          [
           1648
          ],
          [
           1649
          ],
          [
           1650
          ],
          [
           1651
          ],
          [
           1652
          ],
          [
           1653
          ],
          [
           1654
          ],
          [
           1655
          ],
          [
           1656
          ],
          [
           1657
          ],
          [
           1658
          ],
          [
           1659
          ],
          [
           1660
          ],
          [
           1661
          ],
          [
           1662
          ],
          [
           1663
          ],
          [
           1664
          ],
          [
           1665
          ],
          [
           1666
          ],
          [
           1667
          ],
          [
           1668
          ],
          [
           1669
          ],
          [
           1670
          ],
          [
           1671
          ],
          [
           1672
          ],
          [
           1673
          ],
          [
           1674
          ],
          [
           1675
          ],
          [
           1676
          ],
          [
           1677
          ],
          [
           1678
          ],
          [
           1679
          ],
          [
           1680
          ],
          [
           1681
          ],
          [
           1682
          ],
          [
           1683
          ],
          [
           1684
          ],
          [
           1685
          ],
          [
           1686
          ],
          [
           1687
          ],
          [
           1688
          ],
          [
           1689
          ],
          [
           1690
          ],
          [
           1691
          ],
          [
           1692
          ],
          [
           1693
          ],
          [
           1694
          ],
          [
           1695
          ],
          [
           1696
          ],
          [
           1697
          ],
          [
           1698
          ],
          [
           1699
          ],
          [
           1700
          ],
          [
           1701
          ],
          [
           1702
          ],
          [
           1703
          ],
          [
           1704
          ],
          [
           1705
          ],
          [
           1706
          ],
          [
           1707
          ],
          [
           1708
          ],
          [
           1709
          ],
          [
           1710
          ],
          [
           1711
          ],
          [
           1712
          ],
          [
           1713
          ],
          [
           1714
          ],
          [
           1715
          ],
          [
           1716
          ],
          [
           1717
          ],
          [
           1718
          ],
          [
           1719
          ],
          [
           1720
          ],
          [
           1721
          ],
          [
           1722
          ],
          [
           1723
          ],
          [
           1724
          ],
          [
           1725
          ],
          [
           1726
          ],
          [
           1727
          ],
          [
           1728
          ],
          [
           1729
          ],
          [
           1730
          ],
          [
           1731
          ],
          [
           1732
          ],
          [
           1733
          ],
          [
           1734
          ],
          [
           1735
          ],
          [
           1736
          ],
          [
           1737
          ],
          [
           1738
          ],
          [
           1739
          ],
          [
           1740
          ],
          [
           1741
          ],
          [
           1742
          ],
          [
           1743
          ],
          [
           1744
          ],
          [
           1745
          ],
          [
           1746
          ],
          [
           1747
          ],
          [
           1748
          ],
          [
           1749
          ],
          [
           1750
          ],
          [
           1751
          ],
          [
           1752
          ],
          [
           1753
          ],
          [
           1754
          ],
          [
           1755
          ],
          [
           1756
          ],
          [
           1757
          ],
          [
           1758
          ],
          [
           1759
          ],
          [
           1760
          ],
          [
           1761
          ],
          [
           1762
          ],
          [
           1763
          ],
          [
           1764
          ],
          [
           1765
          ],
          [
           1766
          ],
          [
           1767
          ],
          [
           1768
          ],
          [
           1769
          ],
          [
           1770
          ],
          [
           1771
          ],
          [
           1772
          ],
          [
           1773
          ],
          [
           1774
          ],
          [
           1775
          ],
          [
           1776
          ],
          [
           1777
          ],
          [
           1778
          ],
          [
           1779
          ],
          [
           1780
          ],
          [
           1781
          ],
          [
           1782
          ],
          [
           1783
          ],
          [
           1784
          ],
          [
           1785
          ],
          [
           1786
          ],
          [
           1787
          ],
          [
           1788
          ],
          [
           1789
          ],
          [
           1790
          ],
          [
           1791
          ],
          [
           1792
          ],
          [
           1793
          ],
          [
           1794
          ],
          [
           1795
          ],
          [
           1796
          ],
          [
           1797
          ],
          [
           1798
          ],
          [
           1799
          ],
          [
           1800
          ],
          [
           1801
          ],
          [
           1802
          ],
          [
           1803
          ],
          [
           1804
          ],
          [
           1805
          ],
          [
           1806
          ],
          [
           1807
          ],
          [
           1808
          ],
          [
           1809
          ],
          [
           1810
          ],
          [
           1811
          ],
          [
           1812
          ],
          [
           1813
          ],
          [
           1814
          ],
          [
           1815
          ],
          [
           1816
          ],
          [
           1817
          ],
          [
           1818
          ],
          [
           1819
          ],
          [
           1820
          ],
          [
           1821
          ],
          [
           1822
          ],
          [
           1823
          ],
          [
           1824
          ],
          [
           1825
          ],
          [
           1826
          ],
          [
           1827
          ],
          [
           1828
          ],
          [
           1829
          ],
          [
           1830
          ],
          [
           1831
          ],
          [
           1832
          ],
          [
           1833
          ],
          [
           1834
          ],
          [
           1835
          ],
          [
           1836
          ],
          [
           1837
          ],
          [
           1838
          ],
          [
           1839
          ],
          [
           1840
          ],
          [
           1841
          ],
          [
           1842
          ],
          [
           1843
          ],
          [
           1844
          ],
          [
           1845
          ],
          [
           1846
          ],
          [
           1847
          ],
          [
           1848
          ],
          [
           1849
          ],
          [
           1850
          ],
          [
           1851
          ],
          [
           1852
          ],
          [
           1853
          ],
          [
           1854
          ],
          [
           1855
          ],
          [
           1856
          ],
          [
           1857
          ],
          [
           1858
          ],
          [
           1859
          ],
          [
           1860
          ],
          [
           1861
          ],
          [
           1862
          ],
          [
           1863
          ],
          [
           1864
          ],
          [
           1865
          ],
          [
           1866
          ],
          [
           1867
          ],
          [
           1868
          ],
          [
           1869
          ],
          [
           1870
          ],
          [
           1871
          ],
          [
           1872
          ],
          [
           1873
          ],
          [
           1874
          ],
          [
           1875
          ],
          [
           1876
          ],
          [
           1877
          ],
          [
           1878
          ],
          [
           1879
          ],
          [
           1880
          ],
          [
           1881
          ],
          [
           1882
          ],
          [
           1883
          ],
          [
           1884
          ],
          [
           1885
          ],
          [
           1886
          ],
          [
           1887
          ],
          [
           1888
          ],
          [
           1889
          ],
          [
           1890
          ],
          [
           1891
          ],
          [
           1892
          ],
          [
           1893
          ],
          [
           1894
          ],
          [
           1895
          ],
          [
           1896
          ],
          [
           1897
          ],
          [
           1898
          ],
          [
           1899
          ],
          [
           1900
          ],
          [
           1901
          ],
          [
           1902
          ],
          [
           1903
          ],
          [
           1904
          ],
          [
           1905
          ],
          [
           1906
          ],
          [
           1907
          ],
          [
           1908
          ],
          [
           1909
          ],
          [
           1910
          ],
          [
           1911
          ],
          [
           1912
          ],
          [
           1913
          ],
          [
           1914
          ],
          [
           1915
          ],
          [
           1916
          ],
          [
           1917
          ],
          [
           1918
          ],
          [
           1919
          ],
          [
           1920
          ],
          [
           1921
          ],
          [
           1922
          ],
          [
           1923
          ],
          [
           1924
          ],
          [
           1925
          ],
          [
           1926
          ],
          [
           1927
          ],
          [
           1928
          ],
          [
           1929
          ],
          [
           1930
          ],
          [
           1931
          ],
          [
           1932
          ],
          [
           1933
          ],
          [
           1934
          ],
          [
           1935
          ],
          [
           1936
          ],
          [
           1937
          ],
          [
           1938
          ],
          [
           1939
          ],
          [
           1940
          ],
          [
           1941
          ],
          [
           1942
          ],
          [
           1943
          ],
          [
           1944
          ],
          [
           1945
          ],
          [
           1946
          ],
          [
           1947
          ],
          [
           1948
          ],
          [
           1949
          ],
          [
           1950
          ],
          [
           1951
          ],
          [
           1952
          ],
          [
           1953
          ],
          [
           1954
          ],
          [
           1955
          ],
          [
           1956
          ],
          [
           1957
          ],
          [
           1958
          ],
          [
           1959
          ],
          [
           1960
          ],
          [
           1961
          ],
          [
           1962
          ],
          [
           1963
          ],
          [
           1964
          ],
          [
           1965
          ],
          [
           1966
          ],
          [
           1967
          ],
          [
           1968
          ],
          [
           1969
          ],
          [
           1970
          ],
          [
           1971
          ],
          [
           1972
          ],
          [
           1973
          ],
          [
           1974
          ],
          [
           1975
          ],
          [
           1976
          ],
          [
           1977
          ],
          [
           1978
          ],
          [
           1979
          ],
          [
           1980
          ],
          [
           1981
          ],
          [
           1982
          ],
          [
           1983
          ],
          [
           1984
          ],
          [
           1985
          ],
          [
           1986
          ],
          [
           1987
          ],
          [
           1988
          ],
          [
           1989
          ],
          [
           1990
          ],
          [
           1991
          ],
          [
           1992
          ],
          [
           1993
          ],
          [
           1994
          ],
          [
           1995
          ],
          [
           1996
          ],
          [
           1997
          ],
          [
           1998
          ],
          [
           1999
          ],
          [
           2000
          ],
          [
           2001
          ],
          [
           2002
          ],
          [
           2003
          ],
          [
           2004
          ],
          [
           2005
          ],
          [
           2006
          ],
          [
           2007
          ],
          [
           2008
          ],
          [
           2009
          ],
          [
           2010
          ],
          [
           2011
          ],
          [
           2012
          ],
          [
           2013
          ],
          [
           2014
          ],
          [
           2015
          ],
          [
           2016
          ],
          [
           2017
          ],
          [
           2018
          ],
          [
           2019
          ],
          [
           2020
          ],
          [
           2021
          ],
          [
           2022
          ],
          [
           2023
          ],
          [
           2024
          ],
          [
           2025
          ],
          [
           2026
          ],
          [
           2027
          ],
          [
           2028
          ],
          [
           2029
          ],
          [
           2030
          ],
          [
           2031
          ],
          [
           2032
          ],
          [
           2033
          ],
          [
           2034
          ],
          [
           2035
          ],
          [
           2036
          ],
          [
           2037
          ],
          [
           2038
          ],
          [
           2039
          ],
          [
           2040
          ],
          [
           2041
          ],
          [
           2042
          ],
          [
           2043
          ],
          [
           2044
          ],
          [
           2045
          ],
          [
           2046
          ],
          [
           2047
          ],
          [
           2048
          ],
          [
           2049
          ],
          [
           2050
          ],
          [
           2051
          ],
          [
           2052
          ],
          [
           2053
          ],
          [
           2054
          ],
          [
           2055
          ],
          [
           2056
          ],
          [
           2057
          ],
          [
           2058
          ],
          [
           2059
          ],
          [
           2060
          ],
          [
           2061
          ],
          [
           2062
          ],
          [
           2063
          ],
          [
           2064
          ],
          [
           2065
          ],
          [
           2066
          ],
          [
           2067
          ],
          [
           2068
          ],
          [
           2069
          ],
          [
           2070
          ],
          [
           2071
          ],
          [
           2072
          ],
          [
           2073
          ],
          [
           2074
          ],
          [
           2075
          ],
          [
           2076
          ],
          [
           2077
          ],
          [
           2078
          ],
          [
           2079
          ],
          [
           2080
          ],
          [
           2081
          ],
          [
           2082
          ],
          [
           2083
          ],
          [
           2084
          ],
          [
           2085
          ],
          [
           2086
          ],
          [
           2087
          ],
          [
           2088
          ],
          [
           2089
          ],
          [
           2090
          ],
          [
           2091
          ],
          [
           2092
          ],
          [
           2093
          ],
          [
           2094
          ],
          [
           2095
          ],
          [
           2096
          ],
          [
           2097
          ],
          [
           2098
          ],
          [
           2099
          ],
          [
           2100
          ],
          [
           2101
          ],
          [
           2102
          ],
          [
           2103
          ],
          [
           2104
          ],
          [
           2105
          ],
          [
           2106
          ],
          [
           2107
          ],
          [
           2108
          ],
          [
           2109
          ],
          [
           2110
          ],
          [
           2111
          ],
          [
           2112
          ],
          [
           2113
          ],
          [
           2114
          ],
          [
           2115
          ],
          [
           2116
          ],
          [
           2117
          ],
          [
           2118
          ],
          [
           2119
          ],
          [
           2120
          ],
          [
           2121
          ],
          [
           2122
          ],
          [
           2123
          ],
          [
           2124
          ],
          [
           2125
          ],
          [
           2126
          ],
          [
           2127
          ],
          [
           2128
          ],
          [
           2129
          ],
          [
           2130
          ],
          [
           2131
          ],
          [
           2132
          ],
          [
           2133
          ],
          [
           2134
          ],
          [
           2135
          ],
          [
           2136
          ],
          [
           2137
          ],
          [
           2138
          ],
          [
           2139
          ],
          [
           2140
          ],
          [
           2141
          ],
          [
           2142
          ],
          [
           2143
          ],
          [
           2144
          ],
          [
           2145
          ],
          [
           2146
          ],
          [
           2147
          ],
          [
           2148
          ],
          [
           2149
          ],
          [
           2150
          ],
          [
           2151
          ],
          [
           2152
          ],
          [
           2153
          ],
          [
           2154
          ],
          [
           2155
          ],
          [
           2156
          ],
          [
           2157
          ],
          [
           2158
          ],
          [
           2159
          ],
          [
           2160
          ],
          [
           2161
          ],
          [
           2162
          ],
          [
           2163
          ],
          [
           2164
          ],
          [
           2165
          ],
          [
           2166
          ],
          [
           2167
          ],
          [
           2168
          ],
          [
           2169
          ],
          [
           2170
          ],
          [
           2171
          ],
          [
           2172
          ],
          [
           2173
          ],
          [
           2174
          ],
          [
           2175
          ],
          [
           2176
          ],
          [
           2177
          ],
          [
           2178
          ],
          [
           2179
          ],
          [
           2180
          ],
          [
           2181
          ],
          [
           2182
          ],
          [
           2183
          ],
          [
           2184
          ],
          [
           2185
          ],
          [
           2186
          ],
          [
           2187
          ],
          [
           2188
          ],
          [
           2189
          ],
          [
           2190
          ],
          [
           2191
          ],
          [
           2192
          ],
          [
           2193
          ],
          [
           2194
          ],
          [
           2195
          ],
          [
           2196
          ],
          [
           2197
          ],
          [
           2198
          ],
          [
           2199
          ],
          [
           2200
          ],
          [
           2201
          ],
          [
           2202
          ],
          [
           2203
          ],
          [
           2204
          ],
          [
           2205
          ],
          [
           2206
          ],
          [
           2207
          ],
          [
           2208
          ],
          [
           2209
          ],
          [
           2210
          ],
          [
           2211
          ],
          [
           2212
          ],
          [
           2213
          ],
          [
           2214
          ],
          [
           2215
          ],
          [
           2216
          ],
          [
           2217
          ],
          [
           2218
          ],
          [
           2219
          ],
          [
           2220
          ],
          [
           2221
          ],
          [
           2222
          ],
          [
           2223
          ],
          [
           2224
          ],
          [
           2225
          ],
          [
           2226
          ],
          [
           2227
          ],
          [
           2228
          ],
          [
           2229
          ],
          [
           2230
          ],
          [
           2231
          ],
          [
           2232
          ],
          [
           2233
          ],
          [
           2234
          ],
          [
           2235
          ],
          [
           2236
          ],
          [
           2237
          ],
          [
           2238
          ],
          [
           2239
          ],
          [
           2240
          ],
          [
           2241
          ],
          [
           2242
          ],
          [
           2243
          ],
          [
           2244
          ],
          [
           2245
          ],
          [
           2246
          ],
          [
           2247
          ],
          [
           2248
          ],
          [
           2249
          ],
          [
           2250
          ],
          [
           2251
          ],
          [
           2252
          ],
          [
           2253
          ],
          [
           2254
          ],
          [
           2255
          ],
          [
           2256
          ],
          [
           2257
          ],
          [
           2258
          ],
          [
           2259
          ],
          [
           2260
          ],
          [
           2261
          ],
          [
           2262
          ],
          [
           2263
          ],
          [
           2264
          ],
          [
           2265
          ],
          [
           2266
          ],
          [
           2267
          ],
          [
           2268
          ],
          [
           2269
          ],
          [
           2270
          ],
          [
           2271
          ],
          [
           2272
          ],
          [
           2273
          ],
          [
           2274
          ],
          [
           2275
          ],
          [
           2276
          ],
          [
           2277
          ],
          [
           2278
          ],
          [
           2279
          ],
          [
           2280
          ],
          [
           2281
          ],
          [
           2282
          ],
          [
           2283
          ],
          [
           2284
          ],
          [
           2285
          ],
          [
           2286
          ],
          [
           2287
          ],
          [
           2288
          ],
          [
           2289
          ],
          [
           2290
          ],
          [
           2291
          ],
          [
           2292
          ],
          [
           2293
          ],
          [
           2294
          ],
          [
           2295
          ],
          [
           2296
          ],
          [
           2297
          ],
          [
           2298
          ],
          [
           2299
          ],
          [
           2300
          ],
          [
           2301
          ],
          [
           2302
          ],
          [
           2303
          ],
          [
           2304
          ],
          [
           2305
          ],
          [
           2306
          ],
          [
           2307
          ],
          [
           2308
          ],
          [
           2309
          ],
          [
           2310
          ],
          [
           2311
          ],
          [
           2312
          ],
          [
           2313
          ],
          [
           2314
          ],
          [
           2315
          ],
          [
           2316
          ],
          [
           2317
          ],
          [
           2318
          ],
          [
           2319
          ],
          [
           2320
          ],
          [
           2321
          ],
          [
           2322
          ],
          [
           2323
          ],
          [
           2324
          ],
          [
           2325
          ],
          [
           2326
          ],
          [
           2327
          ],
          [
           2328
          ],
          [
           2329
          ],
          [
           2330
          ],
          [
           2331
          ],
          [
           2332
          ],
          [
           2333
          ],
          [
           2334
          ],
          [
           2335
          ],
          [
           2336
          ],
          [
           2337
          ],
          [
           2338
          ],
          [
           2339
          ],
          [
           2340
          ],
          [
           2341
          ],
          [
           2342
          ],
          [
           2343
          ],
          [
           2344
          ],
          [
           2345
          ],
          [
           2346
          ],
          [
           2347
          ],
          [
           2348
          ],
          [
           2349
          ],
          [
           2350
          ],
          [
           2351
          ],
          [
           2352
          ],
          [
           2353
          ],
          [
           2354
          ],
          [
           2355
          ],
          [
           2356
          ],
          [
           2357
          ],
          [
           2358
          ],
          [
           2359
          ],
          [
           2360
          ],
          [
           2361
          ],
          [
           2362
          ],
          [
           2363
          ],
          [
           2364
          ],
          [
           2365
          ],
          [
           2366
          ],
          [
           2367
          ],
          [
           2368
          ],
          [
           2369
          ],
          [
           2370
          ],
          [
           2371
          ],
          [
           2372
          ],
          [
           2373
          ],
          [
           2374
          ],
          [
           2375
          ],
          [
           2376
          ],
          [
           2377
          ],
          [
           2378
          ],
          [
           2379
          ],
          [
           2380
          ],
          [
           2381
          ],
          [
           2382
          ],
          [
           2383
          ],
          [
           2384
          ],
          [
           2385
          ],
          [
           2386
          ],
          [
           2387
          ],
          [
           2388
          ],
          [
           2389
          ],
          [
           2390
          ],
          [
           2391
          ],
          [
           2392
          ],
          [
           2393
          ],
          [
           2394
          ],
          [
           2395
          ],
          [
           2396
          ],
          [
           2397
          ],
          [
           2398
          ],
          [
           2399
          ],
          [
           2400
          ],
          [
           2401
          ],
          [
           2402
          ],
          [
           2403
          ],
          [
           2404
          ],
          [
           2405
          ],
          [
           2406
          ],
          [
           2407
          ],
          [
           2408
          ],
          [
           2409
          ],
          [
           2410
          ],
          [
           2411
          ],
          [
           2412
          ],
          [
           2413
          ],
          [
           2414
          ],
          [
           2415
          ],
          [
           2416
          ],
          [
           2417
          ],
          [
           2418
          ],
          [
           2419
          ],
          [
           2420
          ],
          [
           2421
          ],
          [
           2422
          ],
          [
           2423
          ],
          [
           2424
          ],
          [
           2425
          ],
          [
           2426
          ],
          [
           2427
          ],
          [
           2428
          ],
          [
           2429
          ],
          [
           2430
          ],
          [
           2431
          ],
          [
           2432
          ],
          [
           2433
          ],
          [
           2434
          ],
          [
           2435
          ],
          [
           2436
          ],
          [
           2437
          ],
          [
           2438
          ],
          [
           2439
          ],
          [
           2440
          ],
          [
           2441
          ],
          [
           2442
          ],
          [
           2443
          ],
          [
           2444
          ],
          [
           2445
          ],
          [
           2446
          ],
          [
           2447
          ],
          [
           2448
          ],
          [
           2449
          ],
          [
           2450
          ],
          [
           2451
          ],
          [
           2452
          ],
          [
           2453
          ],
          [
           2454
          ],
          [
           2455
          ],
          [
           2456
          ],
          [
           2457
          ],
          [
           2458
          ],
          [
           2459
          ],
          [
           2460
          ],
          [
           2461
          ],
          [
           2462
          ],
          [
           2463
          ],
          [
           2464
          ],
          [
           2465
          ],
          [
           2466
          ],
          [
           2467
          ],
          [
           2468
          ],
          [
           2469
          ],
          [
           2470
          ],
          [
           2471
          ],
          [
           2472
          ],
          [
           2473
          ],
          [
           2474
          ],
          [
           2475
          ],
          [
           2476
          ],
          [
           2477
          ],
          [
           2478
          ],
          [
           2479
          ],
          [
           2480
          ],
          [
           2481
          ],
          [
           2482
          ],
          [
           2483
          ],
          [
           2484
          ],
          [
           2485
          ],
          [
           2486
          ],
          [
           2487
          ],
          [
           2488
          ],
          [
           2489
          ],
          [
           2490
          ],
          [
           2491
          ],
          [
           2492
          ],
          [
           2493
          ],
          [
           2494
          ],
          [
           2495
          ],
          [
           2496
          ],
          [
           2497
          ],
          [
           2498
          ],
          [
           2499
          ],
          [
           2500
          ],
          [
           2501
          ],
          [
           2502
          ],
          [
           2503
          ],
          [
           2504
          ],
          [
           2505
          ],
          [
           2506
          ],
          [
           2507
          ],
          [
           2508
          ],
          [
           2509
          ],
          [
           2510
          ],
          [
           2511
          ],
          [
           2512
          ],
          [
           2513
          ],
          [
           2514
          ],
          [
           2515
          ],
          [
           2516
          ],
          [
           2517
          ],
          [
           2518
          ],
          [
           2519
          ],
          [
           2520
          ],
          [
           2521
          ],
          [
           2522
          ],
          [
           2523
          ],
          [
           2524
          ],
          [
           2525
          ],
          [
           2526
          ],
          [
           2527
          ],
          [
           2528
          ],
          [
           2529
          ],
          [
           2530
          ],
          [
           2531
          ],
          [
           2532
          ],
          [
           2533
          ],
          [
           2534
          ],
          [
           2535
          ],
          [
           2536
          ],
          [
           2537
          ],
          [
           2538
          ],
          [
           2539
          ],
          [
           2540
          ],
          [
           2541
          ],
          [
           2542
          ],
          [
           2543
          ],
          [
           2544
          ],
          [
           2545
          ],
          [
           2546
          ],
          [
           2547
          ],
          [
           2548
          ],
          [
           2549
          ],
          [
           2550
          ],
          [
           2551
          ],
          [
           2552
          ],
          [
           2553
          ],
          [
           2554
          ],
          [
           2555
          ],
          [
           2556
          ],
          [
           2557
          ],
          [
           2558
          ],
          [
           2559
          ],
          [
           2560
          ],
          [
           2561
          ],
          [
           2562
          ],
          [
           2563
          ],
          [
           2564
          ],
          [
           2565
          ],
          [
           2566
          ],
          [
           2567
          ],
          [
           2568
          ],
          [
           2569
          ],
          [
           2570
          ],
          [
           2571
          ],
          [
           2572
          ],
          [
           2573
          ],
          [
           2574
          ],
          [
           2575
          ],
          [
           2576
          ],
          [
           2577
          ],
          [
           2578
          ],
          [
           2579
          ],
          [
           2580
          ],
          [
           2581
          ],
          [
           2582
          ],
          [
           2583
          ],
          [
           2584
          ],
          [
           2585
          ],
          [
           2586
          ],
          [
           2587
          ],
          [
           2588
          ],
          [
           2589
          ],
          [
           2590
          ],
          [
           2591
          ],
          [
           2592
          ],
          [
           2593
          ],
          [
           2594
          ],
          [
           2595
          ],
          [
           2596
          ],
          [
           2597
          ],
          [
           2598
          ],
          [
           2599
          ],
          [
           2600
          ],
          [
           2601
          ],
          [
           2602
          ],
          [
           2603
          ],
          [
           2604
          ],
          [
           2605
          ],
          [
           2606
          ],
          [
           2607
          ],
          [
           2608
          ],
          [
           2609
          ],
          [
           2610
          ],
          [
           2611
          ],
          [
           2612
          ],
          [
           2613
          ],
          [
           2614
          ],
          [
           2615
          ],
          [
           2616
          ],
          [
           2617
          ],
          [
           2618
          ],
          [
           2619
          ],
          [
           2620
          ],
          [
           2621
          ],
          [
           2622
          ],
          [
           2623
          ],
          [
           2624
          ],
          [
           2625
          ],
          [
           2626
          ],
          [
           2627
          ],
          [
           2628
          ],
          [
           2629
          ],
          [
           2630
          ],
          [
           2631
          ],
          [
           2632
          ],
          [
           2633
          ],
          [
           2634
          ],
          [
           2635
          ],
          [
           2636
          ],
          [
           2637
          ],
          [
           2638
          ],
          [
           2639
          ],
          [
           2640
          ],
          [
           2641
          ],
          [
           2642
          ],
          [
           2643
          ],
          [
           2644
          ],
          [
           2645
          ],
          [
           2646
          ],
          [
           2647
          ],
          [
           2648
          ],
          [
           2649
          ],
          [
           2650
          ],
          [
           2651
          ],
          [
           2652
          ],
          [
           2653
          ],
          [
           2654
          ],
          [
           2655
          ],
          [
           2656
          ],
          [
           2657
          ],
          [
           2658
          ],
          [
           2659
          ],
          [
           2660
          ],
          [
           2661
          ],
          [
           2662
          ],
          [
           2663
          ],
          [
           2664
          ],
          [
           2665
          ],
          [
           2666
          ],
          [
           2667
          ],
          [
           2668
          ],
          [
           2669
          ],
          [
           2670
          ],
          [
           2671
          ],
          [
           2672
          ],
          [
           2673
          ],
          [
           2674
          ],
          [
           2675
          ],
          [
           2676
          ],
          [
           2677
          ],
          [
           2678
          ],
          [
           2679
          ],
          [
           2680
          ],
          [
           2681
          ],
          [
           2682
          ],
          [
           2683
          ],
          [
           2684
          ],
          [
           2685
          ],
          [
           2686
          ],
          [
           2687
          ],
          [
           2688
          ],
          [
           2689
          ],
          [
           2690
          ],
          [
           2691
          ],
          [
           2692
          ],
          [
           2693
          ],
          [
           2694
          ],
          [
           2695
          ],
          [
           2696
          ],
          [
           2697
          ],
          [
           2698
          ],
          [
           2699
          ],
          [
           2700
          ],
          [
           2701
          ],
          [
           2702
          ],
          [
           2703
          ],
          [
           2704
          ],
          [
           2705
          ],
          [
           2706
          ],
          [
           2707
          ],
          [
           2708
          ],
          [
           2709
          ],
          [
           2710
          ],
          [
           2711
          ],
          [
           2712
          ],
          [
           2713
          ],
          [
           2714
          ],
          [
           2715
          ],
          [
           2716
          ],
          [
           2717
          ],
          [
           2718
          ],
          [
           2719
          ],
          [
           2720
          ],
          [
           2721
          ],
          [
           2722
          ],
          [
           2723
          ],
          [
           2724
          ],
          [
           2725
          ],
          [
           2726
          ],
          [
           2727
          ],
          [
           2728
          ],
          [
           2729
          ],
          [
           2730
          ],
          [
           2731
          ],
          [
           2732
          ],
          [
           2733
          ],
          [
           2734
          ],
          [
           2735
          ],
          [
           2736
          ],
          [
           2737
          ],
          [
           2738
          ],
          [
           2739
          ],
          [
           2740
          ],
          [
           2741
          ],
          [
           2742
          ],
          [
           2743
          ],
          [
           2744
          ],
          [
           2745
          ],
          [
           2746
          ],
          [
           2747
          ],
          [
           2748
          ],
          [
           2749
          ],
          [
           2750
          ],
          [
           2751
          ],
          [
           2752
          ],
          [
           2753
          ],
          [
           2754
          ],
          [
           2755
          ],
          [
           2756
          ],
          [
           2757
          ],
          [
           2758
          ],
          [
           2759
          ],
          [
           2760
          ],
          [
           2761
          ],
          [
           2762
          ],
          [
           2763
          ]
         ],
         "hovertemplate": "Mean of Methods=%{x}<br>Difference (Method1 - Method2)=%{y}<br>hover_data_0=%{customdata[0]}<extra></extra>",
         "legendgroup": "",
         "marker": {
          "color": "#636efa",
          "size": 8,
          "symbol": "circle"
         },
         "mode": "markers",
         "name": "",
         "showlegend": false,
         "type": "scattergl",
         "x": [
          243.41754912727805,
          888.8509998270674,
          49.537789401035695,
          630.026754331738,
          104.22785948328395,
          160.32463294637876,
          117.40796104272644,
          241.48174380386303,
          138.6641567658045,
          116.27831398266358,
          75.70989302208349,
          66.2880289067545,
          84.59049790639028,
          142.69166601429703,
          60.28665264472684,
          150.65211074278275,
          445.73220955723997,
          225.28152931629714,
          110.79192684971382,
          45.795446146319655,
          101.3892337801541,
          104.0591918032274,
          171.07200253929207,
          101.40415755584345,
          78.11720048677941,
          65.47620352435794,
          33.02780098908933,
          145.89321830089554,
          69.44159943832484,
          116.8862931504188,
          105.50387244133984,
          159.73695182617757,
          50.97068797377854,
          193.8379241046975,
          83.65794950357255,
          74.93998779872123,
          30.992654453882256,
          121.2684917819243,
          57.44594582566453,
          90.48767593750951,
          101.70439933364476,
          68.30881017344238,
          99.71189799777034,
          74.37158944049686,
          123.71256921964522,
          184.1785898873926,
          176.7617623243801,
          144.43927579587773,
          50.307570763715134,
          326.96960233368213,
          102.48637160414263,
          118.36918449765655,
          93.18622625087691,
          46.6219992391439,
          70.48013325273553,
          200.98432469206958,
          153.8206122382123,
          90.49905611217028,
          184.4788838955664,
          226.38120204618207,
          90.44047318108323,
          135.08626193624886,
          57.64219260637621,
          141.4892216590071,
          46.55929892425444,
          50.26031217830938,
          117.17338016007722,
          185.00863518048456,
          55.01296602936441,
          100.3579868848086,
          110.76265717138247,
          128.67539636790022,
          93.57814630136237,
          85.35140112013295,
          122.75370230061642,
          48.88755790174267,
          72.90229253192098,
          46.327041234914205,
          60.002532965901835,
          104.17062157705838,
          78.92529651676612,
          39.13341722062746,
          41.7638433135941,
          89.96203624667278,
          101.22074251859618,
          137.2702974059415,
          43.68508480798505,
          167.90072660490188,
          124.53953098803908,
          119.65449073526658,
          59.673161648309936,
          140.33598742745323,
          58.526834353065674,
          50.18374046016581,
          286.26143717779837,
          145.57528968826267,
          108.97731076218724,
          84.40973921890537,
          66.3567918182931,
          163.96688117471678,
          58.09836384929132,
          69.38543375949882,
          43.83636207173234,
          267.31109795897,
          60.03722904647629,
          234.28750418197038,
          116.033251709855,
          175.45926189656996,
          35.74524321725994,
          114.59786178746373,
          51.567426467863186,
          116.09207547754366,
          195.44442886850058,
          82.95265997267941,
          35.22597181517741,
          47.516988548297235,
          133.2347182180274,
          81.9095688397481,
          68.95078339757121,
          64.09908371169911,
          147.2503243276681,
          82.92594839964038,
          47.593724317501,
          131.11204766439374,
          89.80557361754796,
          110.71783793809689,
          637.9937645970913,
          32.56469925778493,
          97.44198515600263,
          45.58974074986534,
          65.02631042446106,
          68.54191299032065,
          44.21147635482154,
          62.10139522326085,
          70.61731081127672,
          101.2317896905383,
          132.3648797020779,
          159.79107535759437,
          510.146080345817,
          648.6755478895138,
          291.54274865815955,
          114.61938918180775,
          128.6305492752034,
          84.77556193711291,
          98.83173910043061,
          171.4394397276779,
          133.488844788474,
          149.85814125821292,
          71.51495062606793,
          276.65327521139324,
          56.77569687656578,
          66.2138955326387,
          130.39651110013568,
          117.22620363939012,
          82.07381326693098,
          84.75417609977482,
          62.28555690473681,
          75.2438986695245,
          66.33363007779225,
          77.52013832780125,
          80.99903097555963,
          149.92439165681606,
          294.9485593557563,
          44.451042809414645,
          135.4613366455724,
          566.5517609082312,
          79.93609604673043,
          230.96727361716756,
          57.181682749824,
          288.3498414465682,
          76.8092917658898,
          82.2185987650216,
          88.6770237884026,
          73.14297874129355,
          404.4135122414779,
          98.78337130495778,
          130.03009036161853,
          81.5457822308522,
          59.51630086616082,
          93.00139511376338,
          84.4320807154685,
          76.2972811270575,
          191.28905796040712,
          228.8170748479627,
          59.15411023007512,
          146.4871831466328,
          162.94654562024186,
          63.285140664071136,
          59.359936329055955,
          56.47444143119606,
          156.3510292192727,
          132.6995876716858,
          81.44311468056081,
          90.21244159760577,
          82.62997546266067,
          121.23175199456057,
          67.72914829439796,
          290.3392335403373,
          58.89379283845266,
          82.19093479201639,
          47.198334798263616,
          33.46055823316157,
          134.91072823549922,
          445.59580821380723,
          258.9053138108956,
          145.16601855456054,
          61.81240228447339,
          127.14520732523212,
          97.10098137794338,
          100.30157032161158,
          482.0976748460866,
          37.46967948281091,
          46.053758518598244,
          40.34520916492054,
          91.6658494413916,
          27.280784896056446,
          40.886290483431566,
          33.65494719714598,
          35.067362681268136,
          72.5890823665586,
          55.56663251190256,
          273.6110348718937,
          45.652831458263435,
          85.52679924937163,
          124.9021468732974,
          91.80746685026668,
          200.93115292127231,
          96.39609641218271,
          123.89996277540126,
          90.60281355719763,
          136.64126193744482,
          319.85012139145067,
          98.17634272800485,
          60.751746877290486,
          62.77590521393638,
          51.35905031103228,
          68.15852828322167,
          73.68120640044218,
          35.96761371495474,
          79.52467275607296,
          69.15062989387349,
          456.4758174028185,
          67.31965694161033,
          51.371989535781935,
          135.94199468010578,
          60.24163958658475,
          201.6547995641301,
          116.20388335388796,
          67.80222771710132,
          180.23120607463213,
          99.74701500914789,
          174.0291733114845,
          92.77770663917397,
          94.12181363820285,
          95.85984259202135,
          341.6808950706444,
          136.89879400483971,
          84.74663208400275,
          214.25985776684757,
          142.41950866302358,
          214.25046603718152,
          182.26970132490536,
          145.07645862589064,
          130.22165927831205,
          89.93727172518348,
          383.23776175141876,
          215.01047434668922,
          106.268700653704,
          68.35396307245081,
          40.785809577838215,
          106.11147177134598,
          186.6444258570462,
          224.43791352502976,
          238.52091325805668,
          52.992439244724444,
          201.76172082899586,
          355.4610863885027,
          69.85742737128803,
          357.5062696357049,
          363.9336029489141,
          227.61578744154326,
          69.19609323409402,
          164.73380796576166,
          75.10263131307174,
          62.277751641118556,
          195.47148743437654,
          61.76622232636443,
          119.54855844136613,
          94.02419946727264,
          105.52835689152334,
          293.4503556154667,
          109.36907118156259,
          122.31374073133097,
          448.0396742886195,
          83.46364211714467,
          138.3547913058293,
          61.246065742052615,
          114.8283926277908,
          133.64892408663493,
          169.03695006276084,
          136.19564563212577,
          244.47539341412508,
          207.72979584697288,
          67.27941570987427,
          60.23526291274604,
          46.454328712984704,
          159.10981390045364,
          187.72663573375712,
          96.88010850955636,
          87.51241426013546,
          61.02582838994317,
          47.119653549981656,
          55.21894964798407,
          45.57905820511511,
          60.51314387076347,
          214.53251576116793,
          50.13459582640749,
          112.27320055283775,
          45.78179448392357,
          58.43586490423698,
          140.98695706315158,
          67.85693826343996,
          108.99604026327843,
          83.84711536507322,
          77.28895061217787,
          59.37140218245996,
          44.423676464399996,
          65.26547674393737,
          269.5035280873128,
          76.77981770948708,
          35.44501989128183,
          75.61344126261228,
          58.05380802967356,
          66.02514358513545,
          75.85357212457914,
          161.93337654278227,
          77.51728692382947,
          86.09307058062036,
          88.99995072355875,
          33.727846196073045,
          48.49173626502264,
          90.22852996300777,
          89.26752482200504,
          74.93242751349166,
          118.84981695061173,
          62.63874291968581,
          123.77551248212578,
          77.23054856138921,
          72.07875480204923,
          61.52971880574073,
          93.63268219809933,
          65.55833989258846,
          167.50159132935465,
          70.69143710445478,
          70.58894781950548,
          95.21919312252244,
          77.96247124905054,
          54.36301497197304,
          131.95738808117852,
          62.64516327535274,
          72.77299882233808,
          939.4160537853718,
          134.7983184597761,
          317.10076893961707,
          212.67648761862466,
          47.45934965309135,
          86.04431454885177,
          67.75569619817813,
          106.6744416975684,
          90.88542701251599,
          108.79136857365846,
          258.14478313992316,
          368.98909474444724,
          449.96299204621323,
          208.02249308395784,
          89.07741624663788,
          133.16113505971185,
          246.6698501690432,
          170.4994119425938,
          150.81137212938776,
          71.85518980732735,
          360.2928973389373,
          351.9450161708626,
          73.02856593574225,
          83.50956302454496,
          180.3052279798693,
          157.7089442247147,
          36.898907814369025,
          59.37881520946049,
          253.69895001582185,
          518.8819336974116,
          59.27233711199996,
          97.83457825228136,
          194.90202383244895,
          36.93979325429756,
          149.1446549858395,
          62.22229883139073,
          107.58300308593542,
          185.95404916704274,
          26.840087814026845,
          96.85030420092997,
          78.08127228825329,
          100.51679399856087,
          31.92843257592652,
          78.46626888066196,
          107.78816991990084,
          320.80581234691954,
          260.7909795977745,
          154.25840441446013,
          114.00658496052665,
          64.52093943813811,
          138.51765037076834,
          76.92832040316046,
          730.018715703944,
          115.53599502972197,
          99.01282255889521,
          208.40609794389917,
          37.58101377536268,
          145.7780475318136,
          118.91398354627763,
          57.980923408989945,
          66.04893449511141,
          90.61968683759629,
          51.75779157151145,
          54.28574889903368,
          141.39114248889297,
          59.27245117368322,
          70.74653820283933,
          83.32788934390956,
          68.69477234252533,
          90.6816548481133,
          154.6996091058046,
          116.38213822704986,
          103.36964875693022,
          168.45936876527054,
          98.32296069688853,
          134.21666393298622,
          178.00249993671474,
          103.38873826834623,
          162.29585001333817,
          71.277538722896,
          110.4687180569185,
          158.10368138864237,
          214.86339523180382,
          92.3621188697433,
          90.3038133981625,
          175.56066086841724,
          90.05950894681482,
          48.44664463712482,
          85.1893766364294,
          143.4881816501713,
          54.663866433682074,
          192.21245528274284,
          148.8425980173717,
          93.53139825752379,
          116.37493390682461,
          99.45607057871993,
          265.160011299395,
          112.11075995447698,
          117.7389607381684,
          66.40167724027079,
          67.73620634004547,
          173.68545143659136,
          75.70989302208349,
          133.62922089310192,
          54.227877859200035,
          99.31721376387267,
          66.19490058029896,
          36.327894139339904,
          74.51871978707706,
          81.70563349446996,
          46.323254088173556,
          40.464985937758726,
          42.28234201839701,
          80.11508062539268,
          35.21672917283442,
          44.88763002329949,
          71.53656899098257,
          132.73331799229172,
          37.786911744315226,
          51.37665626119219,
          79.49317535930858,
          57.49159020043304,
          104.17807835518636,
          50.38793717343036,
          83.31863053049067,
          78.01771608251542,
          67.5788820956428,
          99.60959202932551,
          48.54323033152126,
          58.0703678691073,
          50.440430844695946,
          51.10909940466939,
          38.840826283912314,
          29.76902431430689,
          75.86185695801079,
          325.4985678373947,
          84.60975323530408,
          60.00612445493827,
          121.05824972024814,
          89.4352027527927,
          64.70047764733361,
          32.740194143376186,
          71.52215714508375,
          80.09674177434313,
          65.41203232395486,
          74.99770848855337,
          155.95522040396273,
          386.95275351259875,
          204.22670551562643,
          49.54180910337907,
          92.5484191585763,
          172.83538276957142,
          95.56538572850643,
          63.24451778156821,
          184.71511597888136,
          169.24156924599689,
          119.44362005137403,
          73.96640689595588,
          27.173292012600943,
          48.506295883052225,
          35.05944944196415,
          39.10196827767239,
          35.8137687908214,
          29.00900778818042,
          45.41944104217632,
          27.67944714374824,
          29.376762923683508,
          47.50434658504706,
          61.72620518323392,
          33.30692879202097,
          42.37479229777123,
          30.39879825704267,
          33.21212530366884,
          30.646040787167628,
          29.537139923900458,
          32.608011639061004,
          112.2516477268471,
          147.82073424424874,
          90.54034857861944,
          64.05796902653084,
          137.08340259088664,
          119.51966469679667,
          82.24618675881536,
          49.051898006289306,
          119.23182933986176,
          116.83246043741087,
          99.46835386156665,
          65.05145175147265,
          104.97218243640162,
          133.39494937981056,
          99.19672986376588,
          164.04273866760835,
          75.60903218390085,
          84.01789505969475,
          142.86054283497896,
          114.96288545645416,
          170.44962698733937,
          154.73962862741874,
          61.3664670510807,
          96.33673852817665,
          107.44361387829673,
          70.53843598988774,
          211.0653665000874,
          31.44538610808751,
          36.67828976940184,
          36.643829488535914,
          45.89148251857073,
          44.933934625332206,
          43.81469715383166,
          63.20186528256205,
          30.61621657335758,
          96.77050906629333,
          66.35820264137872,
          71.19968378646178,
          62.49887238153268,
          56.1986878022393,
          43.236012776879925,
          43.144019039383664,
          122.5972265402764,
          252.77275215395096,
          66.61208253493405,
          122.0471682017103,
          64.65597238775885,
          211.860043949546,
          105.40745514596324,
          98.09169672576853,
          90.08916466801071,
          96.06050231157778,
          114.68701493319881,
          81.523690832996,
          221.07829402562237,
          132.71398054823783,
          59.457414395590305,
          113.53660503688144,
          100.59097788703599,
          126.64132558161882,
          84.34847395588177,
          107.60458182155544,
          111.71069052158776,
          74.95412327144732,
          145.06801816525922,
          101.72789061649343,
          99.76839538773646,
          140.90180977229622,
          46.40648182740989,
          159.00135476873515,
          82.91959770849625,
          67.27715615723076,
          99.53454601973667,
          59.76610870277642,
          169.2205089728719,
          68.01889789281351,
          73.82678217756315,
          103.3780193260168,
          139.1044803759611,
          141.22470047999104,
          89.70346694291834,
          80.70086736123119,
          203.59248928939988,
          133.77127778907735,
          237.35844167293462,
          149.6985931820007,
          85.07597731738866,
          103.4732248319603,
          82.57797790226525,
          136.78588536529057,
          192.71839102962278,
          81.06204542382252,
          177.53175004317748,
          45.748007918494295,
          65.61091393038008,
          124.15786861441764,
          174.82644004050184,
          94.33537545152359,
          103.9450866187133,
          90.18721007754397,
          111.85637670054979,
          99.85011284313413,
          96.18540469084633,
          128.6188237499495,
          92.89604451737509,
          89.88847097418815,
          72.94753034574784,
          79.76916896151609,
          99.69393103242444,
          85.78637944453499,
          77.30391072816258,
          129.43345296136584,
          101.88341680634542,
          65.83032059290076,
          67.22566007043912,
          144.74105861430303,
          113.76932147214627,
          112.74907043088231,
          69.05991062404394,
          69.9598835502923,
          252.91330418045055,
          75.57497491844084,
          105.11795674448547,
          126.10581416659961,
          159.2162886786391,
          75.70989302208349,
          183.85956655721026,
          65.13312953112288,
          144.89496692259604,
          125.76469159982052,
          87.98407932088799,
          92.79999353523505,
          300.61517648325247,
          157.17297406422097,
          82.84187335440191,
          55.427770338115664,
          54.162537310326,
          152.2367402240589,
          107.05316480596464,
          100.96287654132306,
          99.15302895269195,
          141.88027980807945,
          73.75049359742988,
          94.63943427846561,
          94.20440878854905,
          310.3203240483346,
          648.6920336892607,
          50.30851903346136,
          327.37280730363295,
          120.98237233818324,
          122.7911354121147,
          90.05074948494044,
          115.27526217133013,
          110.59154779740398,
          168.86769318372865,
          97.08077030226141,
          123.73921712920631,
          112.97523402725642,
          323.5324089043347,
          72.95143642124616,
          112.4734122557256,
          89.30234383921358,
          95.66262642017514,
          70.02184022330371,
          76.22340444398745,
          81.36321933458677,
          84.83687500984209,
          96.14446431051059,
          120.18919203650879,
          224.29915316179412,
          101.13684094649297,
          79.90038910249271,
          74.21158537828761,
          155.21957221807259,
          187.377681855774,
          67.70730716851386,
          153.69225301449669,
          65.6083286821744,
          52.04477732430338,
          193.89350550732757,
          66.19227123972927,
          95.57963046544681,
          49.05569507173112,
          93.74434084664016,
          180.04438173490354,
          81.4736692687905,
          285.5558123423055,
          81.85815147561152,
          76.02245300524403,
          340.8773500397546,
          236.70311014278147,
          102.91314992375665,
          90.86690229184697,
          924.9929071878192,
          100.20213265186015,
          77.09253760042061,
          47.34538166739648,
          70.83377124783726,
          328.63978611598895,
          60.74764811557307,
          123.06193210512505,
          104.54077198838299,
          61.3957289814687,
          52.797825359189794,
          105.50672359852175,
          60.39082291412308,
          380.12277754918216,
          432.32727176970644,
          102.4084422902284,
          76.74283770443252,
          74.33000924478624,
          100.26972998317336,
          56.12881993968712,
          71.58348323887392,
          63.57495956440396,
          62.253219154267086,
          57.45486131576767,
          65.72571460518833,
          73.16924410404926,
          55.22730324385935,
          41.18972383598306,
          108.26325739996054,
          53.713962991129264,
          75.26060758041963,
          177.7372557096042,
          60.062076525457265,
          69.73968981342719,
          142.80403284927655,
          73.02739997709666,
          83.345238756053,
          84.48775029525257,
          50.29165795340268,
          83.9174422241133,
          147.7943518189747,
          97.52926725182162,
          98.68833007481417,
          77.02512798626752,
          377.6665799766336,
          48.024216742808726,
          328.2464719193258,
          75.58744607170999,
          166.25630116038678,
          276.87763334254396,
          136.85850852522844,
          65.26659557690195,
          233.4810192092987,
          186.43820282699937,
          89.32076370977879,
          141.96564357854058,
          106.59135761231843,
          67.45172525341634,
          72.81653617016988,
          152.48790092707142,
          144.56727800969162,
          177.72185468364148,
          136.96790635785356,
          137.5848154311667,
          98.33743307260804,
          91.96178333086296,
          275.3451795928557,
          205.2900617955958,
          137.80496947393374,
          73.75500199813965,
          113.50621983335725,
          47.291605497678816,
          86.26824902436366,
          171.63893987355237,
          107.54872570786725,
          192.66940038363478,
          59.18933077081884,
          228.171270777485,
          424.4540193841605,
          145.3430441402365,
          245.2994491703082,
          150.8959386938174,
          62.29117517808109,
          516.1625183925332,
          141.546025379673,
          68.40250898905593,
          189.69166149907375,
          100.4767547533362,
          152.10100009734012,
          99.62065900789423,
          153.27853550659563,
          58.89196810127507,
          81.44255557520023,
          37.04810845202302,
          69.66625047656915,
          103.58424195078985,
          86.60373104403851,
          121.33294803235003,
          194.02921366941266,
          80.32740772742477,
          259.8351280543634,
          54.28274718205359,
          43.270183522555776,
          130.16253538356642,
          66.15460091611014,
          167.3621230138806,
          72.57990431931375,
          35.00278151261441,
          69.36612127819268,
          62.01721315666195,
          71.23579421883291,
          42.58682042406626,
          67.34969978007165,
          231.10182006904864,
          58.57272376372097,
          54.15111318579298,
          53.09760531463276,
          72.39079014849574,
          59.52420201870135,
          48.00276111165333,
          153.7183824704577,
          57.574777933739725,
          110.77452103500548,
          78.94996843410145,
          77.22974704254909,
          46.18634464767498,
          43.064542252201385,
          54.792587982909005,
          59.021726671339906,
          299.2967359845119,
          80.27734776830474,
          75.06076623538536,
          92.51073142548009,
          67.26358974384698,
          109.9756397536026,
          62.03775676203243,
          94.03033037745007,
          170.7156777728113,
          58.88725830298318,
          89.98517392033023,
          132.49170811228686,
          107.58385397350233,
          77.41344430421003,
          111.7354559754408,
          79.15515892167389,
          104.8083173166433,
          75.9151442350223,
          90.2166384024062,
          76.3698276574455,
          87.32826431457437,
          84.83091537394165,
          168.09973448338775,
          76.83271720013286,
          82.89513482267418,
          97.7431431747317,
          78.23645530147871,
          64.9659537107444,
          67.51275532750427,
          131.4894497594424,
          86.85645611485205,
          65.08418291267574,
          69.01050059589072,
          396.2786602968609,
          164.5942189750391,
          317.33210956409107,
          52.680745279433665,
          84.06193114333934,
          62.3270686526172,
          61.8004587573092,
          82.27806438167651,
          108.6946512111525,
          306.58201518253895,
          363.7048750286117,
          202.66503434421983,
          89.45520517266843,
          122.03702655068315,
          216.73193210836791,
          253.6144102879726,
          71.93684814350172,
          249.84721622210316,
          40.09679104573472,
          362.94994592805034,
          279.3298225079232,
          90.14282884432514,
          81.63891979831462,
          59.87493230809234,
          188.39901067611902,
          152.14562394695528,
          158.05400022679385,
          584.438260403176,
          89.87154955015693,
          83.71303713545583,
          63.51408966128798,
          65.74045517739961,
          75.25215749633995,
          103.00549131920913,
          317.4509584450247,
          119.36661397001839,
          124.56419251195672,
          140.17099830783079,
          84.21382885014216,
          69.54091558250376,
          164.72636817648063,
          175.0131896734412,
          254.05353785643803,
          54.178279899065316,
          127.10843795300843,
          52.76084722704257,
          133.30031979620722,
          106.11335649036326,
          59.332363585489,
          326.0207106919203,
          62.96540921404464,
          164.79455014031177,
          77.63041698096495,
          64.8238785984839,
          99.26792910358796,
          151.22198592483602,
          136.27611690079323,
          134.95660148885142,
          253.75434035653564,
          163.09257513579996,
          132.8445415571824,
          77.98087043287845,
          69.72916244479045,
          180.48292876656595,
          154.33013446837572,
          96.31326229435152,
          140.84141987362642,
          98.67707354248584,
          94.94871794393094,
          152.09682536070662,
          112.77399565681641,
          155.8675679918166,
          69.28139851478652,
          197.97104054428726,
          251.99120947332966,
          59.80192863859503,
          79.23686619697516,
          94.27772796607178,
          166.8412025368416,
          96.56750593782833,
          55.53611372354365,
          72.84130257790059,
          100.66231422055755,
          64.20774887611147,
          150.83512950345516,
          135.4952779740988,
          115.7065172707212,
          57.97972270737175,
          104.18055831526166,
          51.381537336831265,
          287.9557808198946,
          155.2746134861517,
          108.02180518879337,
          78.19601843047451,
          52.78087984285888,
          190.7179023591517,
          101.2483562913121,
          143.10838684045686,
          124.60220393189813,
          75.77148132965746,
          108.31754589381606,
          66.72554013771051,
          80.93524776404996,
          107.45455828820792,
          42.71656069535746,
          41.69605935818045,
          55.60470161645355,
          47.965953101272746,
          51.32911582630614,
          83.04317490476745,
          35.825649089675466,
          45.99951945864243,
          67.50062571957528,
          71.68568521550142,
          116.61486226202787,
          49.322947766945944,
          48.252436869275435,
          51.084343408119466,
          102.34433445013943,
          53.8559969747101,
          83.75746179343608,
          166.03718548307768,
          90.66414955144614,
          59.876960060460114,
          100.12843870282357,
          62.2356477769991,
          51.22572449608003,
          57.27695760782811,
          39.41350811137089,
          37.25044876014722,
          53.91257801014133,
          72.62120947743155,
          67.65834811223034,
          98.97345254687343,
          177.46348595010383,
          203.1879009491579,
          281.8547201943834,
          96.44315475273152,
          102.76806454521399,
          67.19240719411594,
          157.8038144867954,
          98.50900819267252,
          74.39846363105988,
          281.6689133083095,
          271.10271303209777,
          205.40356359542722,
          124.8306932664496,
          77.19494035127813,
          82.43191682485244,
          191.78340133087906,
          227.3272169172443,
          447.92933313651696,
          201.64050799508965,
          41.98307568605654,
          38.48784705263689,
          41.97524568481475,
          37.04049292769882,
          34.99871904034345,
          46.00747869179642,
          35.48684597739703,
          36.832681169263736,
          46.16684327122066,
          63.96534539250012,
          36.16576741402412,
          42.33537491165382,
          41.26458026726548,
          37.45546262906381,
          33.192694609063814,
          38.604118796142004,
          34.44966567444176,
          38.95934917583672,
          39.24078629075157,
          40.738775123811116,
          88.97072435503623,
          75.70989302208349,
          90.68598818649642,
          59.479537473330694,
          118.52690216242073,
          73.26395438622265,
          89.940186242544,
          103.62622381571292,
          64.98022919657667,
          69.93365322354143,
          60.1667259460023,
          109.5194104314022,
          129.48715881991023,
          54.49772453009223,
          75.70989302208349,
          86.20924696891488,
          92.74878362520415,
          35.147985443859945,
          27.2075851013711,
          58.03566691048796,
          46.927310413002786,
          51.77817671684753,
          21.880785511875843,
          51.931027278265475,
          33.760607704325736,
          100.05907661569904,
          92.64065760769483,
          65.40077450491496,
          64.88096568129235,
          69.22645154198189,
          51.090551270361175,
          141.78647982841727,
          236.63097314876507,
          1007.6729160194831,
          116.605298409604,
          763.6158359225117,
          57.866853806233244,
          179.22204297698102,
          110.16122686147483,
          56.20378338312753,
          169.24909330819122,
          290.01837437914,
          72.63439938670321,
          159.45093760084023,
          80.27371419394376,
          155.3910423219994,
          410.38680267484375,
          223.61194423860556,
          43.99114793221665,
          147.35089138668587,
          125.38293082378472,
          209.31558270652846,
          69.30336100029734,
          72.53982812772774,
          79.86829821617023,
          87.53662075239949,
          145.24152324799982,
          136.55470541921758,
          75.91997095624835,
          7228.0880660418425,
          31.669766014377004,
          173.7054717343404,
          95.32724078918257,
          115.10336200370898,
          164.08828426664445,
          54.17460869260127,
          56.90304688767806,
          106.21386671974773,
          90.205255261012,
          76.5091886652051,
          96.66878972926796,
          72.85984323001716,
          83.19087908621127,
          119.78134019577331,
          76.39577871699942,
          138.864619473445,
          61.17393407977527,
          125.97651044478465,
          58.1615440114432,
          47.80614493355033,
          50.78593066279727,
          210.6000696795462,
          96.28179423557489,
          118.12632898971052,
          88.15277653813608,
          63.63418384071457,
          99.06994282626266,
          77.92922881770045,
          82.1201980409237,
          72.22637334642226,
          236.23397241935027,
          173.27867807761476,
          74.07487604896305,
          62.16765008904161,
          189.55707321751333,
          224.69242721354385,
          222.6889466488507,
          78.8804093946622,
          75.82672274376867,
          150.3663848743501,
          100.75173303849758,
          51.69553717376838,
          34.75432025043294,
          92.99130489667425,
          100.12954107735426,
          68.89919890612403,
          57.5705889074336,
          183.1377373306065,
          44.45701452914613,
          72.6724677227617,
          107.55738428507112,
          178.8896977950074,
          50.44289280044903,
          275.439246364711,
          202.83536271704605,
          163.41397742575526,
          64.97708344802858,
          78.6472165284567,
          377.52805961934894,
          73.68931743423299,
          110.29368337027645,
          67.42790911790789,
          67.98067671718121,
          117.74836916631867,
          86.09242287726174,
          82.53907331857746,
          62.31268325956712,
          267.4754060564883,
          31.144816565850757,
          62.02507153309224,
          163.14864808540275,
          82.4709737267732,
          62.855063919776725,
          81.27584805680749,
          126.31141647074942,
          161.38325360662748,
          181.48028840465463,
          67.8119092734142,
          61.31747289180073,
          66.258472390967,
          39.86039477082832,
          39.50052295838142,
          117.67142314392228,
          124.23618533752361,
          167.64642224298748,
          85.85630764924045,
          73.87843855039095,
          208.07335108083265,
          90.53646139743466,
          128.21222000464826,
          547.6966964405527,
          58.898380542457694,
          114.12504526992011,
          66.10507115400677,
          81.98402158608255,
          88.13854048618407,
          48.98918141764237,
          63.22616941572592,
          38.92041781540456,
          89.70906322636444,
          48.055191822973754,
          163.97309822229255,
          170.8129675615104,
          90.83072617133993,
          66.82129754534466,
          114.14606118647578,
          71.24019729454292,
          114.69610221281873,
          33.982071806745644,
          66.84459703766171,
          84.76133145984649,
          110.49945586308237,
          142.18058009867212,
          58.84118863421759,
          562.5130354924585,
          89.67364441889521,
          49.56842677431265,
          47.38339207534063,
          315.0479948707123,
          156.2030041718697,
          93.74852597677443,
          138.7260417433157,
          70.25367803967448,
          83.45667543577405,
          198.81731334204147,
          59.476246250859404,
          290.7530220028108,
          45.83487998571998,
          103.94361548856651,
          44.03444337244273,
          65.51977968243366,
          57.4236500113559,
          104.9983633150417,
          49.35092352090106,
          706.90053494035,
          84.4798039055336,
          50.494870706951176,
          51.40145562191297,
          236.99532318768536,
          42.054266105100396,
          102.10746093300156,
          54.90912816547598,
          46.16307401612619,
          180.18966093854976,
          72.73625654295768,
          140.24255955744934,
          339.52162383170753,
          50.862243278666355,
          43.835134495837046,
          75.31443992547187,
          83.78348654569604,
          60.94608439697406,
          40.70618865598886,
          40.19179472095408,
          43.18726447059974,
          86.67658668716433,
          50.52571733465396,
          41.29627863169892,
          281.52397054770864,
          123.01394559711585,
          134.38445907222766,
          48.41825501495227,
          63.706781661340145,
          76.18408510797127,
          156.21322543939476,
          338.0526598990467,
          134.59943157658313,
          85.336892124246,
          143.7739421950347,
          211.99072465308922,
          220.77445038475327,
          86.77530693397087,
          48.06371981899565,
          61.32580891665407,
          74.70675512180668,
          110.15668987198336,
          78.0305327892786,
          418.36344271591497,
          66.99371331156402,
          69.45851798133496,
          125.07766749140961,
          299.67508257122836,
          145.76661513234205,
          119.7089651873404,
          352.4125618335126,
          194.24374826020903,
          63.552496277184815,
          161.874287158683,
          210.37485824864618,
          100.84853863139307,
          260.43047756273126,
          72.86452157394562,
          212.4377765560186,
          129.06462430828475,
          156.18818591660838,
          154.26107963077519,
          239.3474900542529,
          174.45351696485125,
          160.72705856490504,
          77.28199926310506,
          54.95216241795063,
          87.36644210768014,
          194.73625838564257,
          197.2475704096086,
          366.1549258386476,
          49.273185774641874,
          213.6550483366389,
          401.2630499197792,
          418.55600361833274,
          225.39368339583442,
          185.17767457874106,
          60.51126651088545,
          36.56177827105487,
          100.19385821415679,
          95.7181554763985,
          122.09308454270592,
          481.26034442968506,
          72.21597468447555,
          154.93365055626998,
          180.3054808743998,
          124.06855000275033,
          214.90602975718477,
          80.4450038432329,
          76.32131641920357,
          96.34979658337924,
          61.125795680584076,
          137.87290572115532,
          103.73892861661247,
          60.6013252294334,
          42.99193904258597,
          47.73952276899456,
          57.565535647009526,
          41.6102178996474,
          65.49261491938063,
          58.30141690566463,
          46.18891518254398,
          38.17380277342669,
          34.83257144973559,
          60.652388259109074,
          104.99342233255817,
          62.736658616165215,
          44.31593920883395,
          172.93564062498902,
          64.58750057091856,
          53.9087424410316,
          41.18772421159051,
          66.84164145630422,
          117.21522423120672,
          66.09970299500188,
          38.54279902041177,
          78.43251425023593,
          42.747509720095685,
          43.863479500968246,
          57.75708074830603,
          207.4274281264432,
          57.26897850295684,
          52.391863650829144,
          53.91504501143864,
          76.37453562137804,
          65.96655112209297,
          86.85987970068405,
          62.277230745658414,
          74.53875838632267,
          54.82677947440409,
          81.85355616833147,
          178.0177241237298,
          57.72006458117799,
          51.42194792882304,
          43.83900348102924,
          52.873149603728116,
          118.48364932536228,
          55.10182875649063,
          172.5122169764468,
          26.50791771895431,
          119.32247131988544,
          62.843016214738256,
          131.9862507051676,
          38.676693678588926,
          74.1780578689434,
          83.17978629735703,
          49.95584438811706,
          60.384529574623855,
          71.85084602768151,
          97.58516971520052,
          1057.7114867226653,
          468.01723328745703,
          53.14478041778438,
          61.082230359967696,
          80.06706427755753,
          118.77283672079253,
          103.59215147462041,
          478.92972430177554,
          219.15833752573786,
          326.36497907855784,
          274.2384812123232,
          185.69274051894837,
          32.36116638833749,
          197.69822373921133,
          240.28275727691926,
          286.7856829740535,
          328.4546282489925,
          294.0537174010963,
          501.44893782445786,
          204.9284293816048,
          82.42261823483811,
          55.786653173148764,
          172.2777123987846,
          139.89212738881963,
          25.36759023736395,
          42.41169933546127,
          246.60464731973815,
          631.094763961768,
          78.51336967041979,
          154.79574577232944,
          42.8947841692342,
          60.88057417178632,
          121.70648060189836,
          50.863546383921815,
          43.66476285099341,
          301.53782945212674,
          71.35660649093927,
          74.81400640579078,
          88.6091219100914,
          92.21578072350857,
          101.00221616477953,
          43.4216135015009,
          235.326091389976,
          42.37291423581238,
          121.95640315070044,
          55.7153613000455,
          43.51810352722957,
          57.71866334805155,
          191.61235055357713,
          97.19989838428504,
          97.23458027072515,
          469.59726732098716,
          56.01171909818902,
          142.50127357600604,
          62.5508849842651,
          88.9461615468385,
          105.63579537151759,
          106.70935816215884,
          103.666015936404,
          233.30294702944153,
          67.16575570075409,
          108.46389055938752,
          69.41595778120038,
          54.40251583331383,
          146.7839054862761,
          100.36310498389244,
          160.7671978140455,
          141.75975255491997,
          81.20666486427538,
          159.98599883880485,
          81.70702193518983,
          118.36336773901448,
          153.3472770926358,
          76.17084974187196,
          117.59310006195388,
          156.61143015217144,
          218.06284510806307,
          65.65196088486388,
          86.70576746778124,
          157.4023053035082,
          81.52441896269532,
          90.38134652338012,
          164.8513319518453,
          67.18869890059406,
          54.5507142475351,
          57.13428774477323,
          100.00741498926965,
          46.9622603724022,
          120.78035458382485,
          192.8223627490361,
          73.05643637434002,
          97.83717628657928,
          45.467412914499235,
          265.71251532970257,
          113.46819973891608,
          110.20659475316762,
          46.07130877021764,
          89.17280389109338,
          72.82821411670345,
          107.41093697971442,
          74.86247222877752,
          83.81628481097997,
          48.54645866611337,
          62.38276173141983,
          35.588845185422876,
          78.98824651535698,
          98.39308480054196,
          51.08038204397667,
          40.642670738733884,
          51.42119789513508,
          75.62135263348983,
          120.59898483106119,
          55.792714184551535,
          85.78717719978735,
          78.10778701621369,
          52.10603107059544,
          94.61709746278477,
          97.31935580735674,
          86.67627866243758,
          117.34209537191836,
          70.97891356568039,
          70.81334365548145,
          53.543338387073014,
          56.88482759156597,
          47.51402156320268,
          42.54711707164751,
          118.1976147395142,
          105.28426123290497,
          135.6521133516364,
          78.6888910108533,
          83.7011256419897,
          169.77932254143812,
          228.641104198236,
          72.44322478715716,
          85.81421258621121,
          384.3284237419116,
          42.25760693804705,
          130.28561212081277,
          278.80901211529937,
          225.48505211107,
          370.85684325489376,
          247.3469800951705,
          37.03399504307925,
          185.2876641449181,
          51.37672883629616,
          40.21096185796564,
          44.572437044075485,
          34.969783824109285,
          38.61474670220213,
          35.18234670524177,
          52.66419673574789,
          34.9623493510438,
          35.767925769385265,
          29.56952124644249,
          31.582751253013168,
          51.903036359624636,
          42.70876186085434,
          41.6373175028597,
          34.976112339256595,
          33.06146095449084,
          32.00760146421405,
          25.64992423792188,
          38.304165256680335,
          34.51389447667068,
          33.74756587000261,
          35.21351850724888,
          91.61321701497837,
          150.82712948074638,
          81.70681386021192,
          305.2840517530574,
          110.31168169619342,
          175.96440605529273,
          357.69490363206546,
          256.2418027763897,
          88.02412098317322,
          72.43727664886207,
          87.07193140030182,
          203.83420361136444,
          77.8569363875662,
          238.13594896160333,
          160.36520904597333,
          101.80218648158127,
          264.8660651295566,
          100.86394267425104,
          68.33874837295227,
          80.18202567468911,
          59.02664371322308,
          58.40649752218556,
          77.36464731835842,
          211.69471307209625,
          80.90103829452812,
          175.2731861555143,
          164.5847739617517,
          130.03340571747458,
          36.00128122296638,
          282.30135343643957,
          51.20276242143697,
          86.25808738405382,
          253.85949244727598,
          54.81823009980652,
          180.59170121153062,
          153.5997355014694,
          211.73988745156427,
          58.524628678264435,
          39.282026368882256,
          38.54038991497754,
          46.171878470616136,
          52.44974616464371,
          38.54090919891415,
          55.25515461871986,
          33.09033108580512,
          26.743741772097017,
          59.903780270683,
          69.02375371213574,
          52.73355625343319,
          56.17135502723896,
          575.6374662082648,
          47.28200391125732,
          97.57696040893453,
          289.1042631630995,
          68.0410092993655,
          174.03391517319926,
          409.67900963640733,
          143.60687306678486,
          334.43809072825394,
          125.20859527230097,
          65.4307696023309,
          57.38189898920922,
          29.399374771909738,
          107.09441250979854,
          111.60663785763815,
          64.86709054333744,
          38.080243600916845,
          47.268189093134126,
          99.88047965867416,
          38.32384813137325,
          40.29473128426323,
          50.870320641261685,
          83.74076927282782,
          76.38054084611873,
          85.10772047419319,
          207.67884966312775,
          66.82739038806531,
          36.478205833576695,
          51.62028087349837,
          43.29356910539988,
          53.79657682618138,
          65.54159918325304,
          100.45809495277251,
          358.5049629671119,
          104.98509362810174,
          51.46142783766194,
          71.56874610286826,
          121.34177552016766,
          128.63443941341367,
          152.46611588901496,
          317.720639080108,
          149.786080140907,
          75.35287047486223,
          30.167254895399225,
          50.88318266220409,
          97.79743969246493,
          90.56491821281517,
          92.9204592925875,
          117.52321943385704,
          70.0492038981858,
          154.80228052039132,
          91.36169769987731,
          97.27251279674441,
          108.68109859415586,
          44.70779554365597,
          180.75953092231464,
          231.93573074854118,
          211.81290108707552,
          168.73932399374473,
          134.907466725981,
          92.95374903928541,
          40.62256267603236,
          85.40162453537225,
          162.75973748959186,
          128.2343776382187,
          77.60170961489835,
          51.90635055172023,
          91.17852637463679,
          46.8258616668943,
          93.94979116484035,
          77.39263189902806,
          71.12836631083667,
          149.92494744745102,
          227.44410335918963,
          76.3542848701064,
          60.793497950888714,
          85.75963516580887,
          175.80892766479764,
          53.97521102094182,
          43.45866839142761,
          102.00831710946929,
          225.66483459939354,
          62.76982089595451,
          111.20065999969378,
          108.60214640542188,
          105.28211143256453,
          100.84549212934174,
          94.58745244768772,
          98.2798502819664,
          74.15741537904495,
          192.295926566616,
          39.18730948932702,
          56.04684056754428,
          87.45705578144195,
          126.6997387798591,
          54.042954189098026,
          84.46838784327461,
          45.48294889838541,
          120.7546505015686,
          60.85232615591893,
          83.4569330627559,
          39.67272625795201,
          46.80013966035092,
          109.71137384576056,
          164.76548167140464,
          39.00985101646574,
          93.65600293011134,
          288.4322270263927,
          134.36554840948892,
          149.21089655074155,
          135.6100937136661,
          67.46415838910724,
          33.02835504089616,
          169.1015197074021,
          106.02078771025774,
          169.8982572812206,
          29.76381209479026,
          131.3902006460719,
          82.11215850118138,
          104.10244343195109,
          175.59478719050497,
          119.9801181785144,
          84.65894208775907,
          49.83302445703134,
          56.64469855283038,
          72.99673693630064,
          93.60264770214111,
          105.00050267052995,
          71.78883524266868,
          180.47532963862716,
          148.99738025987688,
          67.94575578405747,
          38.542445031566785,
          56.804231872924596,
          51.79152217464063,
          60.79536757222462,
          79.2195374624994,
          43.3414721473835,
          59.72057863445184,
          100.20500884664898,
          75.48453324138791,
          122.27785720408531,
          53.559749605594675,
          316.8844304536028,
          137.1575953717218,
          342.11327488269217,
          88.02063377802483,
          80.61834335332551,
          61.302105590299035,
          49.840026483046316,
          136.28545027632575,
          185.10209592589393,
          192.49838371026016,
          112.30693559266996,
          69.319075001736,
          52.18867862031518,
          56.72824949870689,
          52.56460219579846,
          111.24313180436984,
          58.55310708898893,
          161.19163551723625,
          56.59250216283215,
          69.85439879220655,
          35.197890993701634,
          74.17849961354366,
          73.44715783065591,
          64.9107279129471,
          72.00693532803933,
          64.74872186270971,
          116.96513916578918,
          93.73363274370669,
          633.6255628846809,
          105.14016569493376,
          69.10564125469554,
          113.89624290551393,
          224.305527683081,
          77.9073019528516,
          78.77146122550388,
          151.81419428917803,
          80.71951577380446,
          60.2723677918189,
          52.10539836548155,
          35.25082374262615,
          56.53240101304188,
          71.98451631113556,
          123.3999850505257,
          82.09777943075332,
          70.25101435966276,
          42.86314222706103,
          61.17580325604152,
          69.49697869121097,
          110.41876697417236,
          61.89272753161329,
          65.13657322066337,
          46.69748404462555,
          77.97752860971698,
          43.185433349208026,
          52.30271090472043,
          52.83749956888047,
          52.28737748930624,
          74.16655426672607,
          85.82968671104902,
          74.04731801618009,
          90.04320322351572,
          45.117293249161925,
          46.46356074872647,
          432.0585295218521,
          234.2081359779654,
          169.23983277129454,
          157.01312754250017,
          56.12380244123022,
          187.54665776723095,
          127.39577053663746,
          33.919669834316295,
          198.92669476292485,
          87.71561714028189,
          54.28620621480293,
          103.41548159143804,
          314.4488848849775,
          63.248828968118715,
          164.85202523428165,
          150.00866423091645,
          89.93317389434425,
          102.74944356296106,
          101.51856643056526,
          61.889376061034284,
          120.34157887868864,
          89.44934313398542,
          103.48307553153019,
          84.5251171884394,
          34.17684795358478,
          63.594152083055036,
          56.17190589667467,
          130.97976850963045,
          51.98554795157638,
          87.48285636786818,
          212.0086472382994,
          38.64664538912608,
          176.19914193770325,
          93.38765776306505,
          242.13532765584716,
          61.67683937324884,
          49.12724727429009,
          63.77738537286127,
          82.49668794406588,
          42.2244891988262,
          64.58513607306958,
          302.88382678323273,
          157.98481604340378,
          67.63875489651468,
          101.49170384879967,
          89.64108285928245,
          78.57241032448016,
          68.85675168457101,
          181.32452958988347,
          65.08399413182585,
          207.44602832677708,
          88.94019373925768,
          91.97015218364885,
          54.81540756794249,
          112.99592425158319,
          67.22923875444322,
          183.11609077868093,
          204.4516660393298,
          58.51281234752987,
          65.25702175279976,
          125.17530061438097,
          206.299103290867,
          24.907914245078228,
          128.9348753545606,
          85.98617730407783,
          81.90149455533646,
          113.26024265303738,
          108.76566383541783,
          217.2905360939361,
          51.01056050592493,
          104.85723899685445,
          57.73193823716684,
          50.54176930201131,
          118.20659823214899,
          45.288636183652834,
          254.00807950482368,
          68.53033883773585,
          185.75899543553396,
          163.56189256875663,
          309.4994284826661,
          75.83961389549277,
          54.78956236374039,
          70.31025569185769,
          159.85500724399236,
          109.49993839327959,
          117.04299925009066,
          154.12201592990647,
          44.22038592017857,
          107.53585064448129,
          59.71628101329485,
          76.8073801597065,
          406.0904741999776,
          43.22208981566182,
          462.48168970170497,
          95.3091743638387,
          106.55784892892632,
          61.40754242280434,
          51.82082985954237,
          76.61132217903648,
          45.974345896953565,
          88.86286115280782,
          50.205262663543124,
          73.01954068026569,
          47.84601896099172,
          47.600786940780466,
          45.10288820600819,
          38.66770461078321,
          71.56233521233547,
          81.67082183379017,
          129.11218346765844,
          77.3296803615718,
          184.80200553466574,
          105.06060027685601,
          43.70959385685714,
          60.17394632928047,
          51.9642361552554,
          36.13680857936879,
          198.3279794207744,
          412.90028053476533,
          161.89741322140236,
          187.6172636035269,
          132.33030851677285,
          115.52628735800425,
          50.09293418580573,
          523.5780803223046,
          81.99404498999512,
          117.38933969674405,
          210.5524589892804,
          118.30060007941088,
          298.61201301344954,
          312.1597561871335,
          97.88609147180829,
          84.37908386066653,
          290.3708702550768,
          100.0964754996759,
          64.27978104022817,
          180.75359294275626,
          267.14066976053584,
          110.4930551963,
          91.95719595934966,
          254.0014889789535,
          126.04399067298843,
          115.296069581978,
          283.9592988637,
          334.80571896998543,
          129.61888802235944,
          92.4952965480728,
          56.611492189234184,
          50.7882125495458,
          123.18915195965403,
          167.51571434490347,
          253.01778121521258,
          93.54682258841589,
          96.72787667276579,
          306.3029281492618,
          140.35067220543775,
          68.41804694100058,
          51.404717188494445,
          27.682219461690302,
          80.01175688688512,
          104.30153407058532,
          158.7466418984706,
          171.1510190655965,
          110.55192435310829,
          183.352780957794,
          92.40185604917508,
          51.3715326864737,
          51.1345068148091,
          56.425595042774816,
          55.3165689680658,
          197.9919605066383,
          162.53274350018677,
          86.33944038526181,
          71.77731150363006,
          50.176828485934706,
          58.459327291859545,
          52.486055143559625,
          79.83314505327408,
          30.68673287555582,
          88.79257317702633,
          79.16249388702758,
          80.00859681178783,
          59.67040224498989,
          92.66906971610626,
          100.19943128860179,
          39.032554175808244,
          24.905830041342185,
          102.62302991874303,
          39.563711173009295,
          200.73828478411656,
          102.09432913251594,
          131.23221438289494,
          87.01150073958156,
          107.68122553134165,
          47.96704392085485,
          36.705631507876014,
          59.04237865468261,
          43.4332557663454,
          46.29433317532092,
          43.987729024950596,
          66.08361818241737,
          65.22286163125423,
          38.23311832467957,
          46.45288954661423,
          31.738339956165483,
          56.33287354762744,
          33.61679768487379,
          39.21555743827166,
          123.51886385964693,
          56.17888902321883,
          60.46246158554476,
          33.789600974844134,
          41.92790441142003,
          39.59554223367577,
          65.91233263233768,
          61.04633113614189,
          57.17560567111961,
          41.16495867988701,
          100.9410727713572,
          65.80617544838357,
          84.1799078780117,
          80.01847900835517,
          89.41394292990469,
          83.35083616881573,
          164.63082181926063,
          118.88329313319214,
          29.581245558392,
          117.54206216442125,
          56.64901151271734,
          69.60117403246157,
          77.70281752293532,
          38.6133679675683,
          77.02172643984655,
          71.76450284589203,
          35.81518110796476,
          175.7732557766958,
          42.499304171205424,
          623.6180095322835,
          465.10972521065537,
          72.49294433145324,
          92.45230749402563,
          100.63542878635967,
          162.66275285407508,
          44.22820997570561,
          186.67406174088444,
          68.47927614180702,
          139.4497816691295,
          189.91300559468317,
          556.3313059133349,
          201.9835035824812,
          105.3218704036276,
          161.54989212618375,
          178.05664563801426,
          43.97863468330334,
          90.77632964360616,
          280.109915862333,
          73.00143035159098,
          49.29140264201739,
          375.3759096419655,
          148.70055106188602,
          59.07783316677944,
          77.25775393575387,
          80.74980316389754,
          135.49336404483552,
          130.52856993905726,
          50.14257930318067,
          74.80202133827396,
          125.05649541047657,
          87.53770953242795,
          136.3327133268901,
          72.37561160314314,
          53.973804263241206,
          114.98512044484639,
          453.94925530950917,
          98.67263933166913,
          174.24272409277484,
          123.81271394487334,
          43.78164735781637,
          48.931058910049245,
          292.8241472408556,
          57.68041894496176,
          91.09424517766207,
          135.06039192197534,
          68.58686600900694,
          67.83568862380974,
          113.09206300990277,
          104.7034216129291,
          118.9045906630666,
          83.12703893639508,
          69.89582899915258,
          104.52575063518998,
          55.075732611814416,
          251.9111360145073,
          114.42780240870775,
          162.4675142091246,
          128.2561351133315,
          129.3672536533819,
          149.84729926258657,
          146.60449555067618,
          62.87351415180768,
          172.30514238341632,
          151.8507787927066,
          141.24829974334267,
          126.80560515395241,
          111.60937351051483,
          102.72388171720566,
          240.092873743171,
          207.38119857546718,
          147.33055304437,
          165.80773582464587,
          103.03961423269537,
          138.47857315891576,
          118.87537589684251,
          49.028141089728145,
          64.96881219784916,
          34.42360743363009,
          100.6915797230852,
          131.64127997227615,
          138.44874656565835,
          41.33711690853992,
          62.95104513986948,
          76.609270611479,
          41.25968154545483,
          43.18218113054865,
          52.761710860581026,
          40.316632191197186,
          49.93691742357681,
          49.46688959895783,
          37.44165504106982,
          41.510442154286196,
          31.953487395178925,
          36.78700106176855,
          35.01695660109966,
          51.634715593718056,
          41.01377917860728,
          38.92718192644951,
          39.643409202796875,
          44.35493601039481,
          40.55754484534853,
          48.87344177194824,
          61.326419052943265,
          64.17081826298983,
          58.726678161770295,
          35.534793612547595,
          100.6174210112338,
          59.007901433889586,
          58.18830098813955,
          92.40961180633593,
          65.9042905741928,
          53.87519991811372,
          76.33844460556907,
          536.8449645268203,
          296.59757688119646,
          52.76832733655728,
          222.21589221643654,
          90.7975997532669,
          42.67995973573328,
          116.79964146089027,
          60.51381924066233,
          181.77678406295857,
          99.23015917537299,
          94.12779181720359,
          183.96084651165168,
          118.24895779952993,
          84.27198071538115,
          198.45194515744345,
          139.72542110880627,
          212.0967556028947,
          161.60736936550734,
          53.553896356077274,
          121.54512220552476,
          67.85823978937826,
          185.23219216435047,
          45.734306276523036,
          110.28120535210724,
          90.38648765064963,
          82.8167074007446,
          130.41526777785987,
          79.12253601492466,
          109.16101438378828,
          187.36629173487407,
          40.56392995033712,
          85.6341722293969,
          196.73056692059038,
          43.870898041237766,
          51.06337524736667,
          45.30389814427531,
          40.99307353984226,
          31.152560184425262,
          26.742713513010465,
          20.88048152986038,
          42.96957116825358,
          47.83147922526966,
          61.23587970963089,
          64.89181082726466,
          103.57783631246153,
          104.11011713812015,
          125.33324354935432,
          148.7279285477812,
          190.1873403812545,
          347.9999651596042,
          124.17271916650792,
          199.5874852643111,
          171.69737505230367,
          229.31977366493527,
          47.56706133297057,
          33.17578760841454,
          81.09105001070954,
          40.9574302750577,
          45.63301665767247,
          868.5910372773159,
          152.6551329231407,
          61.8499267045137,
          179.20789120614734,
          37.729713298170395,
          42.328932814249065,
          52.65571066814064,
          38.43218339090459,
          35.03793644772978,
          39.56143996406604,
          40.953342439511,
          104.93996656492924,
          86.41934420094465,
          88.47340143410962,
          146.79548574884882,
          231.76853975018548,
          74.0396359926325,
          106.10283004763824,
          77.53933444772173,
          91.51855558653392,
          46.92057057943016,
          35.75609768719947,
          73.98757058642556,
          32.260983777593474,
          110.64294050531909,
          79.24515692920345,
          53.9234161018175,
          59.96020549615132,
          51.63652990608006,
          47.127879377974395,
          53.750717932149286,
          71.93281278691424,
          49.33557904892894,
          159.33515843556725,
          59.80251467585763,
          53.2093588945727,
          167.97664272416858,
          112.08391204172088,
          97.9236555529555,
          56.87896500522256,
          56.96257103909222,
          60.63616452191761,
          62.97503712574648,
          54.64517047460382,
          96.13728253493838,
          82.25025527061703,
          171.6986754887502,
          73.20200669278532,
          84.09743420939277,
          60.87230549873738,
          57.474209810305545,
          57.85019502616741,
          113.37253260275654,
          103.81962008688225,
          130.3433411339986,
          77.01059547327797,
          42.503748992064736,
          49.731512388730735,
          33.047082435147736,
          69.7422857875016,
          89.132930148289,
          22.423507458466933,
          156.49463505825506,
          48.4059011508131,
          948.1685076935644,
          457.80154522745977,
          50.92524746420482,
          60.8993153988566,
          60.17547855184872,
          259.4634647794184,
          191.7001993469322,
          142.5349201444816,
          797.9358530234741,
          124.09816211157782,
          138.4459402333127,
          191.21908035936806,
          137.9096794291523,
          94.99164846750429,
          199.601238702373,
          178.495950138056,
          159.16825273337824,
          72.85220569604866,
          219.32498138719535,
          79.87367397148356,
          115.6321861981883,
          345.72904025396707,
          179.09645514181747,
          77.57459696470214,
          80.2511728929177,
          159.25774090987153,
          121.0353323162693,
          162.27925401240893,
          51.39247834700707,
          44.231529780787326,
          233.2408083809837,
          98.41646231527753,
          99.15172121703473,
          57.863107311265374,
          92.6852229754526,
          201.46396258950563,
          70.92797195836447,
          69.73755217481386,
          60.32098637940732,
          109.66923375356185,
          74.89737377465435,
          58.607414168573754,
          46.578754519045674,
          37.85273117925514,
          51.03346092641368,
          51.446692027740454,
          66.31455496351968,
          55.308102199522395,
          110.39695212937538,
          94.64062141496571,
          228.2862413070656,
          52.05183150475302,
          79.2414421459924,
          118.35247781291815,
          103.40837502493838,
          62.85263202509516,
          49.81020490074167,
          42.41163508893401,
          102.69473968469357,
          37.62263540485892,
          60.690784223898085,
          74.25288623174269,
          108.67270781035161,
          102.04876987850339,
          43.13446782134909,
          73.09712506543931,
          60.451437446137476,
          20.236162926241008,
          65.04607390504393,
          120.03198020502985,
          183.6173787690235,
          63.952884977332445,
          137.13050244954462,
          135.15061967939587,
          177.50970424286234,
          363.9551758418986,
          393.0441643416297,
          57.241211908127966,
          154.7479271219267,
          288.3248377934344,
          105.984380251926,
          169.08841889448848,
          73.40263158240411,
          126.38072475113383,
          105.57548009492393,
          58.76623893307564,
          56.393276567035954,
          134.49822386424364,
          110.5781151402589,
          398.5849412848103,
          150.77891066356474,
          112.13758138153786,
          117.63555468612407,
          113.44007756252282,
          125.17351043034678,
          46.190017537406746,
          147.51635693960134,
          140.74837132894407,
          180.08549500695275,
          128.90653577222187,
          94.56425597793051,
          129.85617397238047,
          90.6382288546378,
          143.63878984606055,
          183.69832960461542,
          236.36270743189556,
          56.6835087915606,
          110.55463453554637,
          58.340509131401845,
          67.65282618367341,
          56.16843881565719,
          96.6111368652545,
          152.39949478742653,
          153.5933026073311,
          181.14461954983318,
          72.67887485525718,
          61.62217706380525,
          178.79099970873042,
          40.654342173739536,
          119.47706495552278,
          90.16056363024562,
          81.76470487191544,
          79.51796269214047,
          41.69193071429132,
          144.66830507164232,
          64.71551728021805,
          41.106725194881875,
          108.50408477475742,
          68.78988460263562,
          118.4422871303348,
          94.47519794566271,
          331.7337960044829,
          94.38563642053577,
          160.09575604396142,
          88.86580622095488,
          87.99971154505883,
          39.28857432394939,
          397.51968088137875,
          127.58014653403475,
          151.03395776412253,
          151.37478441930938,
          64.41856235513858,
          128.42451984774237,
          294.08807488443244,
          74.44167120661382,
          76.83849244452058,
          63.21785586394394,
          50.01455451404867,
          46.05327700679399,
          48.882188750261165,
          50.39904224576699,
          51.44252220838484,
          55.99604016312054,
          51.01667127952643,
          53.22888541789911,
          286.61774018825474,
          53.47751396331046,
          83.69867162215749,
          228.9481662420376,
          148.6666965369013,
          325.08601128924937,
          68.50395831280653,
          142.44940882366592,
          42.7378706496864,
          203.80804090120978,
          88.78082278698079,
          202.64932072765936,
          204.82762511388518,
          68.21734018791524,
          151.13147367159257,
          315.2399055346522,
          170.16024780556668,
          101.44050072228964,
          38.379493455384434,
          88.28986213376363,
          75.9923358590578,
          199.3093200816658,
          117.96111324602894,
          245.75631000428945,
          67.80732173058233,
          171.02961002810312,
          264.4085037258657,
          48.46022893891789,
          56.7645233418244,
          58.8422268085326,
          69.6657282935098,
          52.471456197639995,
          56.26978373702681,
          56.4334172073097,
          73.29005562985624,
          62.92739593863783,
          91.99485447357463,
          93.2580986698525,
          76.04499971345749,
          82.6711178200625,
          58.12087430221316,
          72.32964740734452,
          83.90828900481308,
          128.14258408042824,
          258.15141599322567,
          86.65425689416695,
          72.51473096681895,
          53.328508799392765,
          120.86776607035289,
          99.14266099904603,
          73.54124338940102,
          41.108575002547376,
          172.42268147996103,
          235.88757421948472,
          62.78853633906797,
          62.87529407270841,
          136.25197640577863,
          112.67928879575956,
          73.7515696331088,
          239.06973085130204,
          139.35455446634245,
          99.5456643674341,
          323.1598140169255,
          120.41101517598449,
          227.44331655845002,
          159.79601740282502,
          70.32663984571505,
          139.7774472880386,
          92.06997308409824,
          158.1675371838362,
          161.53769492964295,
          138.70817791906677,
          155.15001285957644,
          53.56744537864587,
          124.33650221139605,
          193.40091450810323,
          79.78736483863436,
          92.48540613389557,
          181.7004407095371,
          71.43513899740933,
          101.0813316791016,
          125.8923710892913,
          91.76814632301753,
          89.5936934153916,
          58.85742026526765,
          119.13601089212574,
          123.61280363897721,
          143.5878897528884,
          55.535286477547466,
          160.0561735287949,
          154.74539373329608,
          120.24040878546205,
          206.28609030784003,
          99.06937029819085,
          57.01441616542951,
          47.568270843174375,
          68.79031294354093,
          101.99163576861575,
          135.4223808481335,
          67.07532912063628,
          60.614132734255435,
          115.40613007301016,
          106.29190438286675,
          79.62095702673432,
          55.319279914487524,
          77.25261998339286,
          72.94762563917763,
          174.55113381913765,
          68.08249198434295,
          44.822428067293615,
          82.94674074537042,
          190.10269160249342,
          130.65868165945926,
          94.9572839290515,
          84.64881171098656,
          89.17419383545861,
          170.56425124927216,
          543.8787024197874,
          551.3653472064491,
          52.444365497965876,
          44.024463751905756,
          172.31554190848868,
          342.58058963625723,
          168.8467125678685,
          120.60653526854755,
          63.478532114815714,
          243.7812901234019,
          47.784584421289765,
          337.86054389680424,
          129.26985560024056,
          244.92267474669669,
          541.3576573630161,
          51.78570540428348,
          98.48328202541734,
          135.73342296549652,
          105.3105601331563,
          313.0028047898508,
          63.971093981691354,
          75.64527545747407,
          97.5314416781178,
          66.98377860254723,
          195.68442973817716,
          61.18040362025779,
          106.66685083685444,
          94.26010515917712,
          255.99831402685697,
          73.03409176323689,
          95.58307498798848,
          34.76204737468198,
          40.26537298454693,
          33.050606307577084,
          36.86065621793577,
          48.33514802562456,
          44.34633028682684,
          34.29707002614247,
          29.89698351297335,
          34.97339552358331,
          35.61103027928061,
          47.08880155482667,
          51.05136686649645,
          38.05842242190571,
          37.39396940057176,
          38.325891341319995,
          36.754605065711935,
          32.570530058433334,
          87.32093414123838,
          100.00540664710212,
          93.58886458869715,
          62.79991060135953,
          157.64919051811313,
          108.02330561770849,
          167.67350120949038,
          55.8799699346745,
          52.748733035198235,
          95.29501895159069,
          55.09312453735426,
          84.25062305496148,
          182.66965822201087,
          58.69127344967305,
          144.59581701069655,
          88.54686996134302,
          95.45166879718104,
          38.110813895142854,
          244.59975115494947,
          57.134006388663366,
          56.42600236910231,
          295.93506439502863,
          62.043124274423306,
          61.18091190992599,
          128.94702280540824,
          65.0884141000703,
          107.58269555101347,
          77.38960239299175,
          182.72865387376277,
          333.65716094782357,
          86.37320711387551,
          207.25554031852826,
          54.29172332392092,
          281.25371830502047,
          124.222597947183,
          102.49132216574955,
          70.81911325449008,
          56.81030150877703,
          363.18281049483033,
          70.00164247581496,
          89.81178675317426,
          79.89453651026552,
          82.20085958454378,
          75.18382990120188,
          58.78372065119229,
          61.23290336319154,
          74.06055537631991,
          62.67239488692792,
          221.09754931230054,
          138.79933784301812,
          90.0972460883245,
          61.9410919937738,
          84.66698753606207,
          551.64021035031,
          110.3611610124807,
          77.72799400055588,
          54.21954990198129,
          76.20526123922909,
          115.68007427093558,
          137.9103167318485,
          65.45636636860206,
          127.0298593929198,
          165.9405994548986,
          67.12897767946035,
          54.02025128328218,
          54.54670974411387,
          59.37163303313246,
          48.26244842010681,
          39.72581731502916,
          40.65565965828026,
          90.99188098051803,
          78.83887917388745,
          134.24930727021317,
          72.4701620167765,
          96.97738202205444,
          69.67804895538762,
          46.63969881088904,
          149.89201747326172,
          64.69110782080469,
          68.34474996100076,
          37.77131173275099,
          90.93841003558464,
          42.94354219940897,
          114.32033500752883,
          117.82088595269282,
          106.8719750904502,
          51.54405614076129,
          53.76922066618701,
          61.4538112265538,
          119.3474292956776,
          111.14642321787451,
          93.88990735877245,
          60.134524342327666,
          59.68585923617311,
          634.963260503801,
          248.1107916807535,
          97.95817740282155,
          50.15697990417743,
          331.2681546379368,
          150.21001861872026,
          107.56676867656483,
          75.68341807874285,
          357.5912153344945,
          66.77399472261104,
          48.502357865591016,
          60.39772752149658,
          111.96398268510073,
          281.9628439419744,
          162.8210940929753,
          75.37089009575799,
          220.35960501776128,
          184.96258181984305,
          60.86445096289485,
          82.36217840582746,
          88.13107438012703,
          97.25008813780909,
          58.00316299578455,
          97.07216991547241,
          63.55222433101727,
          319.3586388690016,
          29.648482089624302,
          161.39089468452292,
          67.55677763067317,
          67.26837389865304,
          119.61711846385494,
          95.27236644963176,
          98.35471266586559,
          243.96000261181126,
          154.7265832473663,
          120.75658124275472,
          262.6087270414124,
          126.81221089376953,
          58.55742076974828,
          70.95136190462365,
          36.387244501573996,
          181.3185022641076,
          132.16328386935777,
          86.07788496031407,
          68.46615900803329
         ],
         "xaxis": "x",
         "y": [
          -128.47674977106237,
          -771.3651953610926,
          -19.1158373316945,
          -12.79618774168398,
          -94.44090840152492,
          -197.2119910340762,
          -71.7314697927286,
          -108.63702367173084,
          -159.79210100548946,
          -112.26858119355313,
          -51.4905160616849,
          -75.69147355709212,
          -97.45781159676415,
          -154.91034683435737,
          -52.034605653388695,
          -179.12356997899383,
          -633.224327153834,
          -308.24169144237777,
          -51.28779605265319,
          -20.386076362949282,
          -105.58690164634785,
          -113.98224625162317,
          -216.71733632566585,
          -120.2196762418392,
          -81.40402183872405,
          -61.10978095467557,
          -15.881077428295708,
          -173.12667658695554,
          -69.21656515951227,
          -90.5790906041454,
          34.07698094081026,
          -185.41338348028904,
          -33.475289457526365,
          -261.96642613420374,
          -51.81186989234498,
          13.55641972405553,
          -13.85147652980195,
          -117.42757208549101,
          -39.79788250493711,
          -87.47367989337803,
          -83.7038499460293,
          -11.168320400200038,
          17.853154235768358,
          -49.57634597650098,
          -141.3320490649341,
          -149.61739296982987,
          -139.8313293822332,
          -55.65893503155391,
          -19.1728363187554,
          -359.50747890679304,
          -91.690446708883,
          -79.91857675948054,
          -46.38574738845048,
          -37.89801931431174,
          -79.8874444031255,
          -169.3868623606241,
          -97.50107820700676,
          -90.31273237753105,
          -199.0635991955113,
          -144.99043950565718,
          -22.47059607058793,
          54.48828175177171,
          -10.038908073765036,
          -155.90032561368574,
          -28.785697329595195,
          -5.845797631404572,
          80.49036916321676,
          -156.0954092589647,
          -19.958815192212505,
          3.3530326447786365,
          53.2585158827158,
          -82.32164829764787,
          -62.656371747825226,
          -84.17928869453226,
          -150.5420239596608,
          -21.030721362849114,
          -66.77546281280956,
          -50.61309706365509,
          -64.76720377673888,
          -60.49056263871327,
          0.3537260040103547,
          -41.39015939646673,
          -20.441504401389547,
          -72.25195623945868,
          -5.171919639827635,
          -151.99858465879186,
          -24.69643022522178,
          -181.48714615992913,
          -134.18015096629927,
          -166.604036888661,
          -32.05765197396944,
          -67.76543925782451,
          -16.631641035149798,
          -31.381213257562592,
          -358.510539475788,
          39.94501432763093,
          -46.50970850119721,
          -85.79234044385757,
          -39.22348025122903,
          -168.3499384158227,
          -11.098163238375406,
          -19.927097298086757,
          -19.714825528669515,
          -21.565096536198723,
          -31.568473862365508,
          -302.89982929401157,
          33.63866783505445,
          -178.3811437940009,
          -36.87017826535466,
          -87.56503382040968,
          -36.676439215476165,
          -113.4785122806187,
          -253.77275088118103,
          -1.1484488922653782,
          -3.852032047684631,
          -8.93201419875792,
          -87.85384534799185,
          -78.7184957431898,
          -22.870433794947026,
          -24.92340659724259,
          29.65678684471851,
          -43.33212857189921,
          -21.867767334770498,
          -150.61922078536193,
          -82.24964652477695,
          -145.11900887837606,
          -838.3570826701094,
          -3.619302713571681,
          -97.94041500812449,
          -3.986276222507591,
          -28.294878868572646,
          -60.30074895821908,
          -48.97538584196772,
          -41.00465217771315,
          -34.47836038411475,
          -76.13776019617181,
          -162.66408569390637,
          -229.9166435739164,
          -873.9747075412284,
          -973.8942785379795,
          -399.74489240269986,
          -47.83115758454949,
          81.4317368310958,
          -13.750815572600246,
          -44.244093446393165,
          -94.55336244578221,
          12.044753357447561,
          -153.94953521447897,
          -19.829326539492172,
          -224.24000015571315,
          -0.8847024157118,
          -11.225162388258909,
          -0.8538526608693076,
          -98.05914007631115,
          -31.75330991372202,
          -20.718661759549263,
          -18.078299952789145,
          -28.17864862904787,
          -8.289167122009076,
          -2.8887455787323546,
          -8.796751089696059,
          -130.78027528156346,
          -290.8784205987424,
          -27.438322484550827,
          -158.82041086718536,
          -775.8747731038122,
          -79.56209596031165,
          -318.5096236474394,
          -29.59732421173534,
          -399.6569918934906,
          -28.826037576292897,
          -83.14472260645631,
          -91.672829636366,
          -13.618433300281865,
          -548.3944499822488,
          -82.05053044806218,
          -160.10486111280315,
          -59.41375472785048,
          -44.00292182292458,
          -92.2153075715629,
          -81.2226193598521,
          -73.81748800673856,
          -258.58321647482995,
          -240.47048259545085,
          -58.77575606716665,
          -14.52605648821421,
          -165.75502476522234,
          -43.93498393794366,
          -22.97144612231616,
          -57.13014468034514,
          -189.9265480519928,
          -170.2556362658922,
          -73.4785319205881,
          -93.12164006742367,
          -80.90721429306123,
          -161.35385838697266,
          -40.715122770922385,
          -298.3309495545055,
          -52.852314282064,
          -90.64330505759537,
          -27.743720696445422,
          -33.70714007076984,
          -131.21318680145404,
          -663.5695745171379,
          -356.4616682639593,
          -155.97133828106462,
          -46.11431602180579,
          -122.66587486763314,
          -46.0862269548158,
          -62.79948622583376,
          -746.2574749533686,
          -37.05719641681843,
          -42.426217302448464,
          -40.488122956352356,
          -13.059377646397664,
          -30.18696808403578,
          -45.20387407859019,
          -15.842460947373826,
          -23.391731194106214,
          -74.74035009822776,
          -38.54685860874703,
          -318.08414599462776,
          -19.03461247228774,
          -53.38663594861528,
          -81.05128457702227,
          -90.84135144095728,
          -285.2461378893562,
          -104.18405147585213,
          -140.00837586324354,
          -28.672127708811416,
          -127.96157807438168,
          -492.85925158158466,
          -75.9887506199129,
          -44.293164656669525,
          -3.628481995574951,
          -16.794538728277935,
          4.575429119552652,
          -73.91879639963526,
          -30.9463405279269,
          -39.15605579140562,
          -22.9407591535927,
          -700.8451853078275,
          2.795292891467497,
          -45.10689661164142,
          -86.54854361434346,
          -65.53501158987675,
          -182.95270207980946,
          -136.11190129418486,
          -38.00038575339913,
          -163.33873203455352,
          -118.3314585310633,
          -130.5120800198834,
          -11.840006972569725,
          -26.94198228357513,
          -33.51775391113115,
          -216.346888344132,
          -195.27847314331544,
          -78.91689444448352,
          -290.51854921970437,
          -132.2378751860828,
          61.332638363120594,
          111.30863660483458,
          -142.1662134630821,
          -73.56612840638091,
          -55.16565370048535,
          -452.6272577408755,
          -226.20147833636446,
          -115.462855563858,
          -21.49812423945847,
          -28.483323523889904,
          -63.47942135391598,
          -187.578246436207,
          -217.60248951110788,
          -47.55552623496621,
          -46.24784388085287,
          -242.47583985388079,
          -478.6828043813991,
          0.6629316451289782,
          106.31303088790719,
          -473.74482786903786,
          -258.2031026815612,
          14.664740715008008,
          -150.37642173461427,
          -7.204807459028132,
          -19.877468862397173,
          -182.37586114817174,
          -74.08355831370307,
          -58.75413182095602,
          -65.92098625079781,
          -15.242754938498976,
          -354.81836257524117,
          -67.74688806230095,
          -81.68555674654114,
          -642.0215350682631,
          -52.241624068117765,
          -184.1634256195698,
          -39.44405282248529,
          -105.64259874468841,
          -77.40083118190962,
          -221.8921155856395,
          29.693988078214858,
          -296.75733285659004,
          -265.1584868084743,
          -6.50595404829312,
          -1.460568113480889,
          -11.234971019388759,
          129.75791403174878,
          -167.3888256653505,
          -108.3760165667604,
          -51.773966699668684,
          -11.191572568174813,
          -12.606136692945569,
          -35.172061500374426,
          -24.86701510119012,
          -20.098246036363967,
          -194.22214381896774,
          1.5923261117829668,
          -117.74180257664845,
          -12.343913793910062,
          -44.346859371321464,
          -161.26505964400818,
          -26.142986690899022,
          -139.71731506428657,
          -93.99892860448789,
          -16.35359457186233,
          -57.40054916005332,
          -34.22882287518662,
          -17.52407266582535,
          -373.874367095656,
          -69.92714817656828,
          -14.550130286145066,
          -59.118024069116984,
          -15.954651264014991,
          -37.73311102771698,
          -33.23896256644736,
          -10.867417540142185,
          -37.25651227343306,
          -45.922945619858446,
          -10.999052375830615,
          -3.2678848770042137,
          -20.631076652213522,
          -20.434755909484466,
          -69.88636216118852,
          -24.15528707975554,
          -30.501645312688566,
          -44.307019711156535,
          -96.59816464707511,
          -15.208457352199858,
          -59.43758888165933,
          -17.703853576935735,
          20.476952071611805,
          -55.40957212465972,
          -55.07222136033229,
          -33.59017228127929,
          -12.842532515329367,
          -58.74660127466632,
          -36.95403809147406,
          -21.273604924822095,
          -57.80147895760304,
          -28.994134787756614,
          -59.23780629235462,
          -1421.693385581983,
          -58.98955806917613,
          -324.5373200745669,
          -201.16435590531344,
          -8.49590717300699,
          22.5938695694135,
          0.11531808159405443,
          -114.11096759360225,
          -64.27644898756225,
          -90.54394578241167,
          -340.2766679465296,
          -508.8985332567974,
          -642.870067416653,
          -224.41030703672354,
          -39.94530560877793,
          -11.825746543124865,
          -313.64197733269197,
          -210.38348546537424,
          -184.62067373684837,
          -71.9571316851766,
          -430.420313366384,
          -515.9529717377718,
          -72.97723671390627,
          -25.85770531174896,
          -172.24732515838616,
          -191.6358543872326,
          -13.25341340605221,
          -30.888577808953997,
          -287.72123061642327,
          -803.7447204068075,
          -21.901101496606778,
          -100.53855020010909,
          -219.42861294635975,
          2.15644785826062,
          -205.29490741784215,
          -47.01556714058933,
          -126.51263588208055,
          72.6854917406553,
          -10.915219356549546,
          -89.13423861210772,
          -65.92351610745098,
          -72.50855463365362,
          -12.153451481275486,
          -70.27660071976112,
          -122.51186771112964,
          -521.5028053135552,
          -349.1983814727422,
          -232.72082204847007,
          -131.2470976705177,
          -22.023564070844003,
          -154.20530955015454,
          -83.49388586140789,
          -1147.5895019298155,
          -134.4175874062618,
          -145.36322827809732,
          -287.9814172192242,
          -13.929234655902224,
          -171.35832106097138,
          -107.07368216357062,
          -34.465005998977134,
          -55.66504877543822,
          -98.99082643483982,
          -30.917919744817063,
          -15.138994825986678,
          -120.98793822290068,
          -21.901306820223645,
          -27.660610853666398,
          -61.91318140391998,
          -71.66536155189814,
          -84.00758806842052,
          -171.92601992167326,
          -123.30254940203946,
          -66.90009419705154,
          -181.35556467300557,
          -75.01059320653101,
          -100.01737218060566,
          -155.31202640193993,
          -37.16300424244484,
          -6.2323493145359805,
          -26.43463102106425,
          -97.09214739979586,
          48.05830960836053,
          -258.84561457935155,
          -51.66424409758673,
          -91.72745728010358,
          -217.77424017101987,
          -48.23657303855788,
          -27.49007230739454,
          -94.17618917029469,
          -118.1114080222916,
          -43.811617401616736,
          -209.30146689262313,
          -115.2819716169897,
          -52.51856367612275,
          -118.29366552009705,
          -104.08704321951745,
          -302.40737825832707,
          -85.00446894149616,
          -59.481038435575385,
          -43.615991370106,
          -21.10994583658958,
          -168.98042015430013,
          -51.4905160616849,
          -111.02520829491147,
          -16.618795784365346,
          -78.29719869905972,
          -6.006397788817949,
          -6.813752130231414,
          -12.501564656527947,
          -77.04126811485351,
          -31.41736158571271,
          -10.420870023389625,
          -7.437007094510335,
          -65.23626800726015,
          -17.635634670355806,
          -18.168627091108974,
          -44.98951489146491,
          -105.61105360579297,
          -15.61955379259399,
          -27.42268966037831,
          -65.69254705145045,
          -33.75044330499454,
          -21.496681982164958,
          -36.487539308099464,
          -83.41872339089386,
          -10.046920788336578,
          -60.312593035866456,
          -95.62491611771513,
          -17.843608227261,
          -41.775697341250606,
          -28.07990582189204,
          -32.68842733667695,
          -16.84713089895581,
          -3.3694139312692606,
          -75.37459245975171,
          -389.9294484005931,
          34.45402032116745,
          -26.51271417709892,
          -21.20710153933163,
          14.80806255655179,
          -44.792834974245466,
          -3.963136310608501,
          -10.236645163048578,
          -36.86032705001252,
          -12.616456287008077,
          23.770037179997928,
          -103.79144350018355,
          -515.5768454052727,
          -17.509243097933506,
          -3.451395388464036,
          0.14440853277309884,
          -152.4830239230595,
          -59.61331714757867,
          -35.77840428989374,
          -254.9447617067171,
          -177.44995848159562,
          -145.57201311526225,
          -14.756391746524173,
          -24.49110860819993,
          -54.255452646237714,
          -17.089869189613818,
          -25.07328223398918,
          -11.03433892744065,
          -25.623023242507603,
          -40.70965105020102,
          -13.805330439918677,
          -21.596029912246138,
          -35.38162239980365,
          -71.68359684755747,
          -14.678761864831532,
          -16.008182435775325,
          -20.94247758118648,
          -18.97432412287032,
          -17.105363214990003,
          -18.249368513493998,
          -26.596524276542404,
          -47.32359103911956,
          -161.72028492153711,
          -31.54525157694637,
          -30.1624627883892,
          74.27436417880718,
          -26.322518345069753,
          -54.56600395968425,
          36.30537339436296,
          -50.10822747138647,
          -37.30937773743051,
          -26.155388450473453,
          23.045838454223585,
          -99.64160423209216,
          69.33493591321822,
          62.98084543478201,
          -110.8010454082819,
          -43.538330646359334,
          -35.14039825179695,
          -118.92256028557432,
          -75.98105194424512,
          -87.64002744418134,
          -130.10034826507996,
          -28.31816890481194,
          -73.16691182125264,
          -107.06319612504535,
          -57.77762468610745,
          -248.11819115096114,
          -23.88610182737058,
          -30.31683379657828,
          -32.99813510604855,
          -41.207482798427904,
          -35.053875966407674,
          -9.245441887445871,
          -23.427037803754843,
          -30.05064695107773,
          -85.37538084895249,
          -83.14080382966662,
          -4.107413053208461,
          -61.16618573704682,
          -48.406626640153505,
          -33.481557571098904,
          -4.412433340658133,
          -123.92723249256099,
          -284.94271099913993,
          -16.381100564955453,
          -124.24857426259533,
          -8.940506222250391,
          -243.2754335711134,
          -89.55016349498499,
          -87.9964695781957,
          -64.88850571534833,
          -106.7628953996054,
          -74.77398920932772,
          -70.35944183944889,
          -264.4247899639731,
          -56.822237796356745,
          -32.46178614223712,
          -125.31479388312584,
          -111.12631351654905,
          -151.6991500687834,
          -59.083579509534225,
          -110.65644079004588,
          -44.05026388855772,
          -58.60695150221273,
          -164.22690417972547,
          -102.10620882846598,
          -5.409758633952222,
          -137.19231986448438,
          -25.99784480139718,
          -198.08874047194547,
          -52.2427578820147,
          19.058819493590107,
          2.1541554263933307,
          -10.433780577582517,
          -155.20153334923486,
          -27.6132416242174,
          -46.40680937709815,
          -53.596964252327695,
          -94.98235534819939,
          -154.9089574609739,
          5.599595167700514,
          -58.40155514090483,
          -189.45863266503812,
          -50.007952967691,
          -251.94538682626677,
          -90.81405056226819,
          -31.989005378708143,
          -70.81569732185483,
          -50.07072545586155,
          -75.66027078190955,
          -245.65190734858874,
          -13.776813010260113,
          -172.58896277391062,
          -41.08487168693744,
          -0.664715656850575,
          9.891247119310407,
          -163.3004458244213,
          -51.881172888827535,
          -46.872863195602164,
          -6.003605457279818,
          8.579346984029158,
          22.715639914423107,
          -47.678553090650624,
          -80.30391732177293,
          -97.21207456676088,
          -94.9928958057893,
          -56.476789500312236,
          -64.19928369870382,
          -114.76902516667452,
          -4.4472865021000985,
          -54.38282359721668,
          -138.65548588908672,
          -80.26890782529644,
          -8.11764453373862,
          -34.60965309338782,
          -114.03985973051843,
          -99.15134375594377,
          -126.5603709736606,
          -16.65147798850186,
          -41.27394828988047,
          -271.9130088649131,
          -58.64403197062035,
          -8.340111595118074,
          -130.3730614009494,
          -159.91776954906766,
          -51.4905160616849,
          -19.79738055048358,
          -15.075015033727006,
          -110.98152563695106,
          -132.09700185602875,
          -93.51238187732041,
          -34.73328031300181,
          -340.54023286133145,
          -208.03106328456306,
          -2.2586953688010993,
          15.80722151261088,
          11.70076699808056,
          -108.07961503618243,
          -33.5991214106424,
          -87.52677122310052,
          -37.73900543284459,
          58.589664569789036,
          -19.89728857377274,
          -78.57037206382081,
          -53.71618005503518,
          -389.53251918453356,
          -871.9074891954149,
          10.102951811445507,
          -264.87702773475564,
          13.364118397642457,
          78.62146154611678,
          14.834523397716666,
          -47.00381837995447,
          -33.943427320403,
          -125.80426102844145,
          15.274086762793232,
          -5.652617469385646,
          19.487661259971347,
          -352.5261819522962,
          15.841264128204159,
          103.3429286336559,
          -11.741289568637313,
          -1.9785696210984867,
          -61.203361733592864,
          9.669340999268172,
          9.828461296717876,
          10.16292050323645,
          8.545109438168751,
          -109.72173611472937,
          -249.2804480727943,
          -73.70427958751233,
          -26.693963020385226,
          -74.64595438744777,
          -204.16747913878805,
          -237.6470345672754,
          -28.34587276068251,
          -201.21352857706825,
          -30.778356260291204,
          -14.912224835409013,
          -249.33335385202358,
          -31.52880068455361,
          -73.22692711076823,
          -32.271770124387956,
          -74.19196017144256,
          -224.07264937005777,
          -73.7208492685307,
          -335.36989126120466,
          -74.76240691940603,
          -75.1123784504421,
          -467.599831927299,
          -304.10413739845563,
          -77.36210997543694,
          -92.25480456879215,
          -1459.202290100611,
          -111.86968816705094,
          -50.25078412900461,
          -23.71177076251095,
          -55.31327753840956,
          -491.20270546729057,
          -40.57220071393786,
          -139.33924175555987,
          -70.61662701289126,
          -43.38424145307074,
          -40.192270684469705,
          -110.8070411330055,
          -41.54741056363991,
          -621.3388966276862,
          -669.0798020855935,
          -117.34235830858839,
          -34.52312231045025,
          -72.78511365741639,
          -112.63087588543992,
          -38.56859139720507,
          -10.199923043976426,
          -13.955071441732443,
          -51.47899308754052,
          -26.514978015223498,
          -17.192266312208893,
          -72.37411630229113,
          -31.682544939984957,
          -48.18365040263766,
          -78.66925611796846,
          -27.940884502278266,
          4.836117583045251,
          -279.70240021537495,
          -78.5121957660882,
          -96.0463225893979,
          -111.02582567365054,
          -46.44852200918427,
          -103.327448903967,
          -21.70066848408645,
          -24.813045861404525,
          10.364090311440506,
          -161.2812291862527,
          -88.9950543213777,
          -95.78608927833685,
          -61.72311877334439,
          -603.35281080416,
          -19.947668357809675,
          -478.06195091866107,
          -61.988033872756965,
          -109.98948185464539,
          -357.2144204550769,
          -158.96670912137617,
          -22.645536714889666,
          -297.16728393729585,
          -179.40757655939885,
          -19.293453731826403,
          -94.04386948454318,
          -3.1152027005042413,
          -47.5849879153108,
          -73.70686685118,
          -210.96619418534686,
          -152.3512061218745,
          5.414394074370051,
          3.5496429067410418,
          -191.815224198912,
          26.38303675301792,
          -84.97224373150274,
          -319.7784786517634,
          -237.31594061533582,
          -154.76875414240217,
          -27.4811462438677,
          -58.05850600123665,
          -32.65100908759645,
          -27.52028870000207,
          -160.97187988784395,
          -84.26624541991362,
          -225.7549491378408,
          -46.39602056235779,
          -325.46412215547934,
          -507.9920963091271,
          56.33357020345136,
          -0.30234817619995624,
          -188.08121207703175,
          11.863034524143274,
          -696.8408579568775,
          -151.58948623125286,
          -5.722741053048026,
          -135.2894144471652,
          -31.824466407363516,
          -196.91961523655425,
          -66.79838057187716,
          -83.22037825347785,
          -6.925443131885814,
          -11.512988387739753,
          -35.94285500065607,
          -51.18843265323466,
          -46.53233237348314,
          -87.4305631470981,
          -59.52398590597936,
          -225.65289013234934,
          -101.19851436569375,
          -192.51715181104848,
          -59.86447439569899,
          -38.58016472010003,
          38.896931249576994,
          -33.98506967646008,
          -132.37016788770413,
          -97.39187391512208,
          -11.444598489850332,
          -4.792568276556082,
          -15.04279034435936,
          -46.159860938551624,
          -11.038031189118762,
          -15.99748476199639,
          -242.49972577706978,
          -24.60604924545359,
          -24.84461977406361,
          -18.843488279550137,
          -29.954261047512162,
          -21.95907642304796,
          -28.247962710496097,
          -190.1313710682032,
          -44.34052444124499,
          -126.08837472779614,
          -86.7178167266027,
          -6.729191484237859,
          -23.698439887282447,
          -37.761786432033006,
          2.3147455431048485,
          -8.999431011508875,
          -411.97125653539797,
          -76.43375869208157,
          -54.135936220062874,
          -56.655201155533035,
          -3.2187037511312298,
          1.8458849092901488,
          -14.340784725182822,
          -18.215173851924035,
          -95.01260521198783,
          14.047169232690251,
          -14.117278222775653,
          -59.673324855032334,
          -63.090422506391675,
          8.839896615289021,
          -4.130872274018799,
          -12.643425879721448,
          -34.29454658353444,
          23.882834492962566,
          -50.860127550067844,
          11.924697672257082,
          28.459552391922415,
          14.883902193698319,
          -42.92468704629812,
          -10.366667484242328,
          4.0348891382676015,
          -36.93544779222226,
          19.731898154000888,
          2.2108492536884583,
          0.8751460340770478,
          -46.62854206119766,
          -8.983131873915426,
          -47.86563979820374,
          -76.70269390182224,
          -579.2298070877263,
          32.18607611887421,
          -227.490449755018,
          -19.984820862168583,
          31.958704986656727,
          -28.148936536632796,
          -40.34556469966892,
          -75.14953723320338,
          -114.06574869139175,
          -468.3475763768602,
          -544.800848569693,
          -252.5664091713241,
          -27.315724548074158,
          -68.06530362872434,
          -305.98671027785974,
          -300.35507507546004,
          -62.64408301513172,
          -344.1570119618517,
          -13.870397378726416,
          -553.2504560381411,
          -398.70801669647113,
          -87.62374729481232,
          -74.51039085715571,
          -31.251546293928335,
          -212.28610667496127,
          -203.3750211614111,
          -141.56812674797436,
          -122.19088796014148,
          -32.90853010168149,
          -60.876945780993545,
          21.283515369403915,
          -55.40880646940397,
          -42.79368363664945,
          -124.01805933631246,
          -271.71437611707654,
          -118.10811561691283,
          -150.43345037657275,
          -160.5338062865968,
          -78.84052882126375,
          -68.67140865600848,
          -224.55344598813218,
          -230.5491449383016,
          -340.1355061463197,
          -28.8870893450829,
          -58.4390141930387,
          -12.908392070128741,
          31.92521303046739,
          -98.01843185997892,
          -9.9774591671234,
          -452.94936821422846,
          -9.92726526841156,
          -201.80198511953512,
          -64.31585662921911,
          -60.05405410037434,
          -100.49140812654065,
          -113.42955055268587,
          -103.88384448882417,
          -151.88614509415538,
          41.54233057752381,
          -138.7830419669939,
          -151.72256303998827,
          -6.795980771445031,
          -26.98831965905007,
          -168.91029437269248,
          -177.80102049233346,
          -42.55407035046633,
          -114.8902278662155,
          -39.04083736270806,
          -25.499571969417715,
          -80.6278911354183,
          -19.602972308874143,
          28.28062035873728,
          5.26688208340579,
          -8.659018128481534,
          -250.5671887701889,
          -13.031317396669323,
          -20.65078973772154,
          -91.93195064200557,
          -154.09841311403062,
          -11.69094873011906,
          5.5062505462698255,
          -43.89929529279834,
          -18.901133083852812,
          -7.383839453743228,
          -136.61721756170093,
          -94.36014182725465,
          47.084020572026546,
          -3.087779667020989,
          -92.44552151235206,
          -9.98374262850676,
          -308.90662078336624,
          -122.59114195258337,
          -16.454319358734296,
          -7.447591254164351,
          2.3176499878666803,
          -175.8163126328135,
          -76.35863631191486,
          -31.238658400610873,
          -51.31578744237342,
          10.572326915718932,
          -63.69053606981255,
          -16.160900026594106,
          -13.665525187643553,
          -41.96581653866467,
          -29.045840228573432,
          -19.69877890736884,
          -18.255054171554768,
          -19.24832414662731,
          -42.28408387976866,
          -70.21860262017941,
          -12.38645592646413,
          -17.322151955695077,
          -47.8098789025004,
          -46.52011702263068,
          -149.2403465714302,
          -33.81955445493552,
          -18.657679117768467,
          -20.825096561020835,
          -14.307132019986625,
          -38.93232513689476,
          -51.261600853683845,
          -203.96818509107212,
          10.696513225530111,
          -41.747941917282205,
          -94.94477488624997,
          -41.1450424684983,
          -17.815144586526543,
          -10.376023493770099,
          -20.99457805692122,
          -4.48819836439845,
          -28.358056198110752,
          11.690710555000237,
          -41.3223249693651,
          -80.74723068476868,
          149.06214935240433,
          -178.63460348088662,
          -233.93022271490418,
          -42.88012216834794,
          -60.33666042062859,
          -2.7265141782820876,
          -124.07077687889489,
          33.420702275347665,
          -17.17761250139297,
          -368.7428478930739,
          -33.61655772322905,
          -278.9283336403522,
          -107.99168630407382,
          -44.0339960673026,
          -9.081090038436443,
          -196.68462862532493,
          -314.54702458974486,
          -196.96743174523874,
          -198.94709531244553,
          -3.289084968049174,
          -19.968754225746505,
          -15.563718936629641,
          -6.419516341163096,
          -6.1036441096228735,
          -33.98777610654194,
          -11.00114738683028,
          -18.677666184515754,
          -37.94685769289317,
          -69.62481257242113,
          -21.35733609768133,
          -19.0352770919407,
          -8.485630972676915,
          -12.462932723927974,
          -16.44520049680118,
          -9.652944023568502,
          -22.109927296588165,
          -16.418390298411108,
          -21.86488200407506,
          -16.33705766706143,
          -70.73790518523444,
          -51.4905160616849,
          -4.5296827877197785,
          25.008035677657652,
          -46.07458975220841,
          -21.103418750026357,
          -32.301413797836986,
          -84.5500478691923,
          -29.95650026058035,
          -16.152188275831385,
          -19.06774688798111,
          -60.562467978313194,
          -84.3974615150162,
          2.605503644822889,
          -51.4905160616849,
          -58.66699357521933,
          -42.49536749678472,
          -21.011261527404354,
          -11.843847717917196,
          -44.99636489122298,
          -17.936967229870767,
          -5.766648500869039,
          -20.711340842314026,
          -43.0821735606273,
          -29.96606570850875,
          -93.41032880106064,
          -103.6405455160417,
          -10.676555546751587,
          -42.21068278570635,
          -32.70586977513559,
          -22.313860030531146,
          -38.832026738102314,
          -205.1561024749873,
          -1180.0558202168738,
          -93.53947219713413,
          -725.1820477014629,
          -24.555534440337496,
          -205.61974403388197,
          -27.316671660077333,
          -12.681514285436968,
          -180.93686837029088,
          -303.85112700563,
          -53.665225322448244,
          -181.90117514836516,
          -70.5539434536044,
          -186.1436447959309,
          -547.0901031293198,
          -312.5473816571553,
          -22.03422481928746,
          -169.69721123315514,
          -38.76021403202256,
          -214.10743314205615,
          -72.34012603467676,
          -70.98494457211538,
          -66.90260874453642,
          -87.4517236408557,
          139.57704616006356,
          -134.63487022772642,
          -55.008646482712294,
          -196.78274069957297,
          -8.591304514738027,
          -168.10464977743936,
          -89.60265594263794,
          -99.53765881371113,
          -135.0583502583872,
          -33.790965266663726,
          -23.375454852524257,
          -86.70719064981279,
          -64.33719566691911,
          -55.306896158003035,
          -50.812923276111476,
          -43.91245312769446,
          -51.94220764373986,
          -150.73250905399442,
          -17.61486897759322,
          72.22532431455046,
          -7.12977323841416,
          -94.34185431065764,
          -26.10975654399889,
          -24.967472877727275,
          -34.195974917027,
          -70.2250910938271,
          -3.230341237088922,
          -2.065055777928876,
          -41.364079056727604,
          -38.3223954716251,
          -71.37242753485413,
          -91.55228746350039,
          21.319035431148663,
          -74.15234053608425,
          -313.8043293977895,
          -178.71201594720037,
          -59.43071852914437,
          -62.508990061749856,
          -52.20013394400914,
          -260.1089643758586,
          -304.47228740718657,
          -3.788758499964601,
          -69.56474667934995,
          -100.6767595227558,
          -114.59366516500518,
          -3.134823540356095,
          -18.01865533643282,
          -104.37456596881879,
          -119.33827494091409,
          -74.38241563479747,
          -35.03102141222728,
          -228.96604000228203,
          -29.418222092861125,
          -89.0604781855334,
          -102.77855008330386,
          -122.53027645180222,
          -46.33701764837188,
          -392.4797790856676,
          -246.82111519887553,
          6.953696565650404,
          -51.1299786300634,
          -94.60478367964294,
          -423.49698741740025,
          -37.71132460973766,
          -113.1869920431422,
          -12.750749803451718,
          -52.45987997777466,
          -8.7247167879501,
          -10.385871494894445,
          -53.422365402160196,
          -56.87374387899941,
          -350.0156799671509,
          -8.837907006864192,
          0.8214037734755095,
          -140.57886761498827,
          -74.39070083542646,
          -12.142111897942009,
          -37.35577092725973,
          -117.99690398002164,
          -199.4379694438222,
          -207.04037378060184,
          -55.410664730478146,
          -36.27167473978025,
          -67.22587095843086,
          -16.531779285908705,
          -43.33517980775453,
          -96.58139972072193,
          -111.44261360745595,
          164.8655596308949,
          2.300817678202762,
          22.8774053114548,
          11.511931608456308,
          -80.20718186095712,
          11.79127625386269,
          -234.34146359510015,
          -9.067941340365309,
          104.72451216169006,
          0.35737342994001153,
          -19.391221261887182,
          17.124927624313074,
          -12.27168434652566,
          -15.741278552026557,
          -5.837399441960336,
          -49.053778174548725,
          -1.1395044068001496,
          -106.4233746733906,
          -180.57759700455483,
          -69.20519872071526,
          -11.527372573742653,
          31.01360057945874,
          -71.08729379001835,
          -154.00915604778086,
          -15.34706863758252,
          -51.80001145545499,
          -115.26552346867518,
          -99.67107053296131,
          -197.67179544439952,
          -30.314070907354697,
          -915.9575165917015,
          -15.052133743197118,
          -32.76500834187114,
          -36.62426568073157,
          -408.99809337845653,
          -196.15904168733843,
          -82.01334955237263,
          -185.46890463526196,
          -81.7555226615721,
          -87.56456255323246,
          -256.80198893352576,
          -40.82097039904212,
          -323.9471347178281,
          -37.5371844772798,
          -115.1169193308818,
          -29.361337494445863,
          -47.70933868580898,
          -3.69663358122785,
          -141.17531903943905,
          -47.35541883700506,
          -490.9778859958344,
          -96.32429336658964,
          -37.089621206071946,
          -43.63235587040347,
          -304.0678308960462,
          -7.99423459813098,
          -131.3636532263385,
          -49.52943830838731,
          -35.52118805185651,
          -282.2728041621742,
          -27.34561815683135,
          -129.56799413518166,
          -433.6616659535498,
          -46.19521230796934,
          -31.642393855488205,
          -82.26242230616384,
          -17.320602010150765,
          -28.71533959834713,
          -40.43539462786602,
          -32.26156938740069,
          -26.96827714056564,
          -84.65545980673907,
          -45.67968533078212,
          -33.86235777800657,
          -445.38781929806186,
          -98.20993270732704,
          -149.74036481092327,
          -47.09588326031614,
          -12.313928582286131,
          -80.36251862658308,
          -231.81546096896196,
          -532.606847232302,
          -149.1028694185441,
          -79.63203139976511,
          -131.2748033276044,
          -325.6734207145969,
          -353.3680553739963,
          -70.20338626451502,
          -10.141390866064974,
          -42.99399208697645,
          14.309670164166064,
          -110.63652620876371,
          -73.54969467944896,
          -666.8563471126865,
          -48.08331621074564,
          -34.36868459816203,
          -170.50910795228378,
          -474.0610871663195,
          -73.22799592564508,
          -130.40065886062513,
          -496.2571304092604,
          -178.76227903696736,
          -28.400459096523498,
          -210.1524092120765,
          -96.77785324280609,
          -13.458017831107597,
          -376.4200172394645,
          -62.6903852368583,
          -317.1087606079724,
          40.11619060562293,
          -218.95040313361383,
          -188.08648187552427,
          -229.10249425693428,
          -170.84157199054812,
          -195.07898822926467,
          -34.904744510175775,
          -52.471783615874585,
          -37.47803483941442,
          -214.0224450770832,
          -165.02930517610534,
          -220.41330044988376,
          -39.013859967275835,
          -259.1006380058959,
          -397.5559946659855,
          246.57527258928144,
          -220.12030539295296,
          -188.84823884775653,
          -12.209491962352452,
          -32.921773293716655,
          -85.08203718784159,
          -7.125345879298052,
          -105.71387599686535,
          -698.8562556409462,
          -44.27688471170897,
          -114.24537427705245,
          -249.7838651487274,
          -4.406085722955922,
          -184.49874674551626,
          -73.32343109288414,
          -31.10464600497277,
          -14.56299186930866,
          -41.34734037516591,
          -132.03310203066667,
          -98.9097005524181,
          -65.37983994680792,
          -37.7545293268228,
          -47.39752691239843,
          -73.66312323837244,
          -40.36166576051701,
          -57.90062538213043,
          -18.041197494656117,
          -21.72809164326477,
          -27.801503856989587,
          -21.582364078567604,
          -52.56263191780153,
          -74.98829576900839,
          -43.627485264995165,
          -8.752828357563992,
          -227.84869443045207,
          -45.318932302157286,
          -48.22047401699733,
          -28.994974910297586,
          -32.26015995953587,
          -146.14399038779186,
          -69.91567510983738,
          -15.835617247584324,
          -21.213403211128664,
          -30.27335835341985,
          -38.411674394168344,
          -9.371790554454208,
          -247.55097499702916,
          -37.19941615677618,
          -43.83774168023679,
          -53.43980533232137,
          51.64571511514536,
          -25.140080424643394,
          11.82193251556599,
          -30.870963410337147,
          -46.58351756078485,
          -8.188913131411496,
          23.70125949297976,
          -42.05979530038084,
          -28.131794752781737,
          -16.24220102658279,
          0.37739195905144385,
          -12.144109636727322,
          -58.944034792881055,
          -20.149315957167424,
          -106.20076228253458,
          -6.609436109482946,
          -110.35126050503878,
          -11.926023389052894,
          16.442081819513533,
          -42.22083918297916,
          -8.960741421299744,
          -49.6810406204246,
          0.016569501714208457,
          -48.934191924260396,
          -52.823459110469855,
          -114.9550887656153,
          -1596.6269376545256,
          34.1340836789135,
          3.7127174836410006,
          16.45949987971298,
          16.968040153097846,
          -83.0336438830425,
          -100.34735576452142,
          -759.6847882817385,
          -324.85650623067147,
          -482.2309007785736,
          -387.1959193319605,
          -85.70490453703735,
          -5.709488586554539,
          145.32260678729955,
          -333.7784577581223,
          -296.93510358375477,
          -556.3056101937963,
          -432.9026218528621,
          -693.851025060957,
          -282.82362941130526,
          -75.53255073533222,
          -4.721318612132357,
          -166.03538386729963,
          -184.93116546951313,
          -12.473577074468935,
          -27.908155125884324,
          -297.14032051230765,
          -883.513619228503,
          -81.69482234053822,
          -196.6597975745883,
          -18.68441662161579,
          -8.817513066713822,
          -157.92639368375382,
          -15.259657499594745,
          -18.936145742585943,
          -161.12204819880225,
          -44.983366834655406,
          -37.2935707845398,
          -69.16976628712564,
          -65.34571682971182,
          -102.63355193138301,
          -27.68459969032564,
          -300.18558648288297,
          -39.712704425753714,
          -5.027263693851353,
          -21.090420524105078,
          -17.859102837912843,
          5.538738699605858,
          -243.09287649799526,
          -95.69043579074724,
          -131.18702845854332,
          -625.6853541414725,
          -5.437948076269564,
          -156.5622412677891,
          -62.075923298088426,
          -101.78986462829718,
          -2.8437189183598264,
          -97.37810876149004,
          -98.66396940447434,
          81.86271894806788,
          -51.33204273336462,
          -122.73094443916035,
          -29.715511664090585,
          -40.517834297291586,
          -39.768149574498636,
          -108.01304886611159,
          -172.6677643945864,
          -158.28439581343656,
          -48.56876077131228,
          -163.1731522357383,
          -62.90820037898794,
          -80.3669239692055,
          -82.42340058748103,
          -41.3777527262094,
          -9.454800547118793,
          -80.82111679407556,
          165.66880390097563,
          -17.844781835229455,
          -53.739744368731245,
          -181.5800145285071,
          -43.294553824283604,
          -102.13072521477304,
          -212.41010900712564,
          -31.787439625565483,
          -28.01887303554846,
          -52.71112359751495,
          -51.80443779635324,
          -15.000928053970341,
          -93.88134153369082,
          160.9339430760245,
          -37.789086996784995,
          -98.58328355134563,
          -11.629721963472285,
          -303.8417135524732,
          -16.883549697882046,
          -54.43350413294587,
          -6.8008045877931735,
          -47.36245542290112,
          -2.083437575177925,
          -84.0927331639378,
          -21.361757194948922,
          -47.51603690589216,
          -44.22402301246066,
          -71.4534813205573,
          -17.757659706258707,
          -43.51388197093124,
          -85.06596806255615,
          -37.284489570357614,
          -24.528159307964795,
          -26.71246619298295,
          -55.44854495013436,
          -92.6089493062674,
          -31.95487157173109,
          -12.572892036547032,
          -33.433565800012325,
          -57.03005722028631,
          -100.80172275053636,
          -8.076527408631577,
          -27.7502215509586,
          -118.49703758316554,
          -70.74532154318686,
          -63.17259279383079,
          -38.25754392628012,
          -54.02040540583103,
          -43.39877748696925,
          -26.3392150524371,
          95.46360894244084,
          -71.08128221241313,
          110.20387109887781,
          -26.443707572327995,
          -21.65944835527948,
          -129.9855744516692,
          -266.2490047087739,
          50.379992075215355,
          -19.3680810071383,
          -488.41716681277876,
          7.670559874886941,
          -50.820423683967135,
          33.63513610942732,
          -195.730285957835,
          -126.79644165339113,
          13.46113705216436,
          12.143831840676977,
          -212.45011312444285,
          -48.99607962724447,
          -0.2178535384011795,
          -25.032024930764813,
          -10.236585301880933,
          -32.30325763148117,
          -18.944720035027775,
          -40.32612425893986,
          -9.25436023260152,
          -18.9859474069989,
          -3.223092271510499,
          -30.473430096538188,
          -28.585637553657172,
          -27.17698255466614,
          -27.07785097912134,
          -10.285370911504444,
          -6.3037272352151525,
          -5.750570522648854,
          -0.007967140510274362,
          -28.393517464684784,
          -18.71673529693707,
          -27.495043984977517,
          -18.17937245726325,
          -22.734184123506864,
          -176.52698817596934,
          -23.534876192989614,
          115.62025487879541,
          -63.082824212250586,
          -16.55526942355951,
          -411.8518083436834,
          -43.234675170664275,
          -42.7557854216427,
          1.5069391669337904,
          -91.77151623116293,
          -281.21044751056536,
          -19.636499663935155,
          -203.16571384296216,
          -211.8238624602264,
          -53.83186677891669,
          -309.65140556815993,
          19.89314340534345,
          -4.457084595310292,
          -53.67999710021357,
          -19.17504090436001,
          -48.48099823666721,
          -33.09961340271556,
          -185.76500905282464,
          -97.74662518050525,
          -134.201021837317,
          -97.07598881138561,
          -63.91029372002376,
          -34.36218536423448,
          -302.78525852416385,
          -31.989210189771228,
          -97.98640130853954,
          -269.90038695497384,
          -50.264901769666395,
          -197.20842336836503,
          -51.69679844840644,
          -217.5214323803536,
          -48.79272507095745,
          -36.73234651510516,
          -32.04361342324198,
          -43.2617076460873,
          -36.661465592151814,
          -16.799113092457368,
          -54.20933101724413,
          -25.387874475858577,
          -23.77772386050951,
          -25.633399429758157,
          -64.74358344992908,
          -56.765932450107094,
          -27.144030022554965,
          -866.9562307438857,
          -23.313927683961033,
          -122.26130432720917,
          -151.88874170684042,
          -32.113781448219534,
          -243.6545675813535,
          -189.0523130435323,
          -143.82797751542995,
          -193.5331674736548,
          38.50022253652682,
          -16.545636669038203,
          -32.38184537937945,
          0.5843110866258812,
          -75.34687182448621,
          67.17471956250975,
          -37.89938588704046,
          -9.767984958285346,
          -19.132846625917608,
          -94.56659120322038,
          -6.372456095448989,
          -11.407911986859645,
          -12.431910650720255,
          -82.61143718031988,
          -82.53859372129929,
          -17.946412181294818,
          -254.19280680132812,
          -83.08298126822106,
          -20.48365513271533,
          -5.871682329027813,
          -28.255171041114657,
          -51.03137941127818,
          -51.92538121486871,
          52.05074366886629,
          -498.1864842482676,
          -117.26444112321985,
          -31.479887998977674,
          -75.6213356772592,
          -94.63779474101453,
          -101.59773102418012,
          -170.36815057316988,
          -485.37369354284453,
          -135.58214365803138,
          -78.39828822981531,
          -15.316286051904438,
          -34.52621789596165,
          -100.39023217669876,
          -95.49584410171163,
          -105.40049746038736,
          -111.72937134270389,
          -51.94314696524866,
          -10.200483246778447,
          -30.734421517637784,
          -73.66642201771978,
          -70.08592932022906,
          -27.901580144425548,
          135.95625378868036,
          -46.76675792859865,
          -180.52247355144135,
          -33.21889212528802,
          19.21003584371286,
          25.49141759215908,
          -3.933790781882223,
          -43.278053431672625,
          -156.33148433751228,
          -94.4297090543741,
          -44.3135812520699,
          -61.186177863259914,
          -90.90281121266645,
          -29.630821427352004,
          -82.05981567361084,
          -39.410983616121726,
          -25.97504666214661,
          -190.3755127763963,
          -292.5657834709134,
          -50.12484479758473,
          -17.583188595260694,
          -77.7935712717556,
          -192.35351764824873,
          -21.84625334691681,
          -26.480225843942627,
          34.41606082074989,
          -41.22490906804853,
          -34.61950201305171,
          -26.310181601430102,
          8.267526731704237,
          -45.30182225183732,
          -73.81647792210819,
          -107.5094656334449,
          51.17889591858079,
          19.62812618068358,
          -225.82278495419848,
          -15.23057083425892,
          -34.4927063091912,
          -101.93193511235953,
          -144.5703581930115,
          -26.072167654564794,
          -89.98822099364216,
          -5.657619509020407,
          -123.58431493797329,
          -33.31771828374963,
          -89.29199498797482,
          -7.2821577119951115,
          -30.121543978275106,
          -128.81698393467872,
          51.61523962132375,
          -7.352760469501149,
          -61.76373057766805,
          -383.25403464832743,
          -145.01141771924512,
          -163.80463027948016,
          -61.41653480146992,
          -4.440016058292073,
          -28.90943172615595,
          101.45054612316714,
          18.00799143391386,
          -195.20424760171238,
          -2.0162676955428864,
          -157.95079291137304,
          -77.4693881501654,
          -97.4296544786543,
          -195.28139809606105,
          14.462294497970177,
          -3.2789509123888223,
          -11.147072965563304,
          -44.63325723408113,
          -68.57990760762081,
          -75.60244435933512,
          -125.00848190384453,
          -63.854405965191816,
          -222.95064023606912,
          -189.86625255391527,
          -59.72604929780955,
          -3.7909334041827307,
          -51.69993710309164,
          -51.17582509086093,
          -41.916568900000186,
          -74.0892573892262,
          -11.473660971864938,
          -44.028798215068484,
          -94.45055025041324,
          -48.38720577815259,
          -62.97358348429235,
          -37.84324886762014,
          -404.3874914651621,
          -144.6795307428475,
          -352.5372257688548,
          -18.294499207797955,
          -24.299305457416807,
          -19.64182880048302,
          -12.865615907972334,
          123.17459170669275,
          94.08387205705293,
          81.75365743137229,
          1.0899661631998896,
          -9.298862157046628,
          -29.929470351893784,
          20.50368049307724,
          9.665745160852431,
          -76.65742082766693,
          -24.35502499800718,
          -83.91919056311208,
          -6.325123670846196,
          -11.150316978274176,
          -1.6579824248537918,
          -21.526777143948557,
          -11.283900692622154,
          2.8824630834929934,
          -8.993832906514967,
          2.2612995348288933,
          -51.30304132346188,
          -18.22205471805016,
          -325.5445325188823,
          19.68991553787869,
          3.107750761354737,
          -88.61246312883681,
          -13.523683564667124,
          2.6034569846957822,
          -21.92125835572898,
          -9.187765635218028,
          8.157874521396351,
          -6.370933135106938,
          -32.968338212599114,
          -24.5346939689249,
          -22.848169956422815,
          -4.218746133565006,
          -101.83703350323103,
          -5.850034778546714,
          -41.48275232575912,
          -56.04373847379906,
          -72.57765142609964,
          -49.37314975137719,
          -53.662429203612504,
          -37.44479377445294,
          -53.45230021793886,
          -34.419923277891286,
          -66.16248076493581,
          -29.518695542996927,
          -27.997864586539798,
          -40.570261270307455,
          -33.41826384683751,
          -19.69436185572502,
          -95.1598674166738,
          -45.76749403644656,
          -42.69501942749021,
          -35.36823102754296,
          -25.053084327403567,
          -651.3458190486052,
          -295.2728362638086,
          -186.1517458665873,
          -101.71566222527923,
          -54.56699054924964,
          -84.99746578597114,
          -69.05053732133355,
          -0.8295574633653047,
          76.61931675641688,
          -102.7553139704077,
          -51.58225399866575,
          -61.67749199136148,
          -436.4615166778321,
          -25.493619350517314,
          -54.69451439462384,
          -33.81618652883796,
          -118.21532997276213,
          -120.43147720728597,
          -78.04455979265182,
          -16.36173849189145,
          -135.00007850465272,
          -103.33047072506525,
          3.5447583356686607,
          -48.96766943319104,
          -17.842570440660513,
          -46.84507292664481,
          -35.08299017117282,
          -170.03720628711906,
          -34.43365354827142,
          -91.85724661911159,
          -312.6551957571599,
          -20.74836041103876,
          32.18606314439967,
          -101.11339927257437,
          -345.6162956336394,
          -59.214428820178775,
          -25.212518669622497,
          -58.10000791610305,
          -88.72455781589449,
          -29.714116318752346,
          -18.212540969592595,
          -389.41084253615526,
          -215.02954891822185,
          -68.03614944936082,
          -121.35062924096192,
          -84.75538061572593,
          -74.12239470261342,
          -20.245996274230826,
          -243.3851768377343,
          -55.46681938324029,
          96.08127129029583,
          -100.24725590723673,
          -52.91351126716087,
          -19.07068365236138,
          -136.0096586956645,
          -67.66109236034865,
          -24.262674450860345,
          -260.5348178375088,
          -23.38901990727787,
          -51.10361865536256,
          -114.74940795907588,
          -317.4277837978796,
          -14.109478569467122,
          80.92107673800234,
          -81.50772505027538,
          -78.88466364217699,
          -117.06690440421801,
          -110.34386469352283,
          -315.6460206607692,
          -38.34634806556588,
          -10.603499591380242,
          -62.427912124399725,
          -36.58516591338723,
          -48.502675547141976,
          -34.51094857443404,
          -415.77168416719246,
          -61.9732527391355,
          -273.90451009273056,
          -213.1087949644206,
          -487.09968166390195,
          -67.34516611575864,
          -25.15821757726733,
          -73.91650262808169,
          -220.0684941155722,
          -142.97490182985723,
          -121.96266858101527,
          -179.21304663577268,
          -24.638959384441655,
          -121.09290177774153,
          -46.66781630920064,
          -66.95595923522443,
          -602.8517734131185,
          -37.95601877801363,
          -738.6023389036367,
          -98.80471646429308,
          -90.10772953576186,
          -61.95202755978889,
          -44.098561900376694,
          -69.40378000747671,
          -37.02617484725226,
          -91.22994431590121,
          -22.711553385514534,
          -22.98915537279059,
          -37.858693991816565,
          -38.93995610934649,
          -28.69684328134749,
          -15.945194072730583,
          -45.03936591472481,
          -8.740988981958566,
          -114.02063486300672,
          -38.643508522479316,
          -73.11524884571841,
          -78.46420217304065,
          -21.54900786558016,
          -50.42311080431376,
          -37.82738232683651,
          -14.189246329171088,
          -206.16884775692972,
          -495.8302765445503,
          -179.97136432482887,
          -203.87593087355822,
          10.420441679535116,
          -138.24537035938528,
          -43.939310954987036,
          -692.9350943879074,
          -60.60883888139664,
          -41.695020341639776,
          -247.51762470788128,
          -126.8621672390961,
          -213.32284030745691,
          -439.4971363820556,
          -119.06762832521846,
          -11.780046723707386,
          158.98782421166297,
          -72.88910439017297,
          -18.493096599641582,
          96.57952251777644,
          -338.2759889894087,
          -46.87797738578158,
          -39.42820203834421,
          99.49510620909902,
          -106.99993258729654,
          -132.72310020569097,
          -358.3055983516197,
          -172.62429810812932,
          25.252794925917925,
          -86.5848736208213,
          -38.07128292438412,
          -5.352312004385709,
          -111.00476206015982,
          -166.157630023021,
          -365.3191043889187,
          -26.862397101647232,
          1.9738888126460665,
          -443.7199966204687,
          -161.6000050704621,
          -39.08148806765109,
          -8.035390658427538,
          -17.61797568280269,
          -64.89503759180934,
          -136.74069236420746,
          -61.58725585441579,
          -213.91993469285165,
          -22.58805694061853,
          -197.00784602994105,
          -89.59490447392841,
          -28.272309421335173,
          -26.342493662865735,
          -52.44408179584545,
          -14.39589788142544,
          -241.3036527146975,
          -145.19189132918004,
          -78.516134170617,
          -9.791178410486168,
          -13.967355862844535,
          -45.03002626103226,
          -11.091561652620591,
          -43.70560398310167,
          1.8453446450443636,
          -29.090925342187475,
          -7.688143121978996,
          -37.48329317254794,
          -24.39351865695275,
          -67.6345958510789,
          -102.41933748920016,
          -22.87030853242496,
          -10.508747609217846,
          -82.6833697981784,
          -14.051023481204368,
          -254.92291734968668,
          -129.96770054308618,
          -160.53030232569674,
          -78.93195646580119,
          -120.37544675440815,
          -21.69220196960684,
          -17.05281183072799,
          -47.38530338572204,
          -20.02930501530701,
          -27.308307445824596,
          -24.330924913271573,
          -43.39262111267976,
          -50.68072105373098,
          -23.268144456907393,
          -35.05056023550088,
          -11.301313232087107,
          -45.842499493616366,
          -14.919565498267296,
          -19.50957680741885,
          -134.54612597479013,
          -31.93290386396678,
          -50.47668002839982,
          -10.95149893753834,
          -8.683689608462807,
          -20.160343848032856,
          -47.737017455405116,
          -25.405557608683573,
          -31.169054012376357,
          -11.051849303266401,
          -101.72339021366615,
          -30.093085558678474,
          -25.58374190933968,
          -5.97361258146195,
          -14.002534227069148,
          -32.380278147014295,
          -131.76895961291666,
          19.81448940825325,
          -1.600188141722974,
          -123.35254593545494,
          -31.2073005647837,
          -51.91079490027815,
          -69.53745286146585,
          -5.758431150335127,
          -34.145940335691385,
          -77.45115917532752,
          -14.54980680939195,
          26.69223941108592,
          -0.6761285840186488,
          -962.151611261986,
          -105.2364670748969,
          -52.78474081389814,
          -93.23110363288181,
          -63.03896534251638,
          -68.71771249211054,
          -37.11693953071691,
          -281.4662588977111,
          -58.548333972285704,
          -30.59736819591373,
          -171.56426591075237,
          -783.7782137599295,
          -134.03869586973133,
          -28.95268695216032,
          65.31802463373973,
          -176.23636267053865,
          15.040660955901316,
          -123.43285750429509,
          -426.259318837923,
          -40.66932708969484,
          -35.18218571698165,
          -519.189139692439,
          -174.41600615619834,
          -37.71292634011568,
          -35.273038759621706,
          -62.548320236470225,
          -89.72327029321632,
          -164.40587826050788,
          -29.591157506939872,
          -77.11262243924504,
          -17.542095239501563,
          -56.39271207061461,
          -170.1490972644558,
          -55.699710938795704,
          -13.264800895437673,
          -132.40808261273787,
          -621.8235078870222,
          -96.92113129449892,
          11.302767473258712,
          -115.16271682234748,
          -26.444166437651308,
          -24.09467427307336,
          -208.50598231886437,
          -4.359254325612341,
          -62.90949642532285,
          -165.309889967927,
          -90.74482915455076,
          -55.67152825249734,
          -105.70368297281851,
          -104.71931801698469,
          -124.23273560344566,
          -82.01767344463833,
          -66.47452159387703,
          -130.32002519769895,
          -43.166522032591125,
          -323.0891317567422,
          -142.316510018805,
          -174.843523840086,
          -35.04998154904847,
          1.4645957772459326,
          -79.09580903789426,
          -30.76005034924205,
          -6.686929708358086,
          -99.59451729944273,
          -54.85752553992634,
          -14.52114624024594,
          19.39236028521978,
          -74.63117166595296,
          -22.947699613325568,
          -255.31932753051757,
          -211.7094980062975,
          -171.13840768952417,
          -40.75835313695481,
          -30.52432944990278,
          10.712997327214282,
          -111.40145188342699,
          -12.951229294633947,
          -44.48617932537839,
          -14.857190117030864,
          -83.53046787860065,
          -142.5681071286093,
          -115.47299610008587,
          -39.608873415459854,
          -53.40542936185448,
          -24.398674064200918,
          -23.67193721079296,
          -33.78067297681406,
          -57.0425355940729,
          -25.621345590565866,
          -35.44500836036819,
          -40.94704222788151,
          -27.075165297934205,
          -25.840766382372692,
          -14.889962468227367,
          -8.809010675512916,
          -13.014726625075877,
          -27.497462272584976,
          -16.981921876621676,
          -13.212122606049086,
          -22.15286225992703,
          -27.369937216152174,
          -20.16586519677866,
          -33.81654204768981,
          -29.12317534680225,
          -47.17316039203567,
          -40.75230626840395,
          -45.032091248580414,
          -132.71600975212914,
          -64.40080916461636,
          -49.55764969680088,
          -26.34851398081247,
          -39.159810627783074,
          -28.81559056267347,
          -52.21599385155776,
          -721.8296595629176,
          -141.79909675473994,
          -22.168463463187983,
          -340.41297174184035,
          -54.992970260597815,
          8.382197808988579,
          -85.21578152929035,
          -17.377064927709604,
          -197.10202429973168,
          -77.4337561622349,
          50.285973305359704,
          -221.00136776674407,
          -127.82581745913534,
          -94.66557923609184,
          -280.3041328830295,
          -47.84333025478092,
          -101.33920995105811,
          -98.80943077875348,
          -2.460428475805415,
          74.38137516593814,
          -51.30690751697697,
          -186.51774995422866,
          -12.668564064253871,
          -87.90684913826739,
          -44.1513225578784,
          -70.26439623716146,
          -39.458728280662385,
          -35.76002074283076,
          29.816308628980167,
          -71.10075548616004,
          -23.72329941593533,
          -89.02069850562518,
          221.79705523613302,
          -18.054595335398766,
          -0.42124680902217904,
          -17.20152264188215,
          -21.63376844157633,
          -6.185250671820608,
          -15.473937458934703,
          -17.245831437113736,
          -31.182713846920198,
          -27.260786399356626,
          -55.551280977195,
          -42.29074640244057,
          -89.63407826508768,
          -103.97846039942189,
          -150.12158301660966,
          48.3455463225788,
          -44.79135537680082,
          -249.21107255851803,
          -94.0605028909126,
          -298.07623668465396,
          -227.22632817181116,
          -126.41695074138863,
          -6.25216973575111,
          -7.190884501973322,
          -48.5921466474866,
          -6.985363767247819,
          -22.90224004632114,
          -1240.2800364855073,
          -118.20631488312857,
          -22.154297787241617,
          -135.31574880046335,
          -33.52083872375446,
          -35.2369312527013,
          -31.8991510309269,
          -24.962485181554857,
          -7.712918432040166,
          -10.342970199907725,
          -16.849617287781598,
          -69.57909366195199,
          -88.55695370023986,
          -50.3392001368854,
          -112.83960798325775,
          -260.58083581293783,
          -6.890529299563752,
          -73.02584010898612,
          -56.45281841676463,
          -93.39452100891624,
          -13.879958353547337,
          -19.14555950477974,
          -50.74905392117304,
          -8.749125914929582,
          -97.87440513664777,
          -48.52677706586973,
          -41.27057705837559,
          -48.52554366796998,
          -33.33945725302482,
          -22.61759906166745,
          -66.99017341715856,
          -14.784580328660795,
          -20.989183974000753,
          -202.98797831554913,
          -33.085946772578424,
          -39.761951214207585,
          -211.60828632588746,
          -133.1789242665683,
          -37.714591561045,
          -27.566377673677735,
          -32.69242120871424,
          -60.88597312931191,
          -34.70540015379678,
          -8.377500898475262,
          -23.432655917855243,
          19.665772321368124,
          -67.62533688371181,
          -28.399662723102992,
          2.3838071094832003,
          -19.071057051313304,
          -17.46035877491751,
          0.741371075168253,
          -66.6235736680781,
          11.374612371296905,
          -107.42111734086699,
          -74.6262511001438,
          -8.137242136829869,
          -42.531484461477135,
          -12.55151476780421,
          -15.618543864283502,
          -130.32750919699095,
          -18.088984669597153,
          -3.700919348074194,
          -40.6756604762554,
          -1466.2929742846609,
          -71.4929370326393,
          -14.290116157841055,
          -56.83450952357643,
          -31.150685394262595,
          -363.9397881540279,
          -91.47455599723511,
          -114.49681187951481,
          -1296.7993392772935,
          -40.23526427488147,
          -27.152030742971007,
          -250.30764945463324,
          -171.9766342468276,
          -107.45639174024207,
          -221.61411819195826,
          -180.06068564718328,
          -186.0218854791416,
          -64.93304188382348,
          -316.6386680400235,
          -82.93940362932733,
          -125.59100588170827,
          -475.4192989119848,
          -225.00228897803885,
          -59.5758431444107,
          -82.88305441596285,
          -182.99036235700254,
          -119.51776507396298,
          -209.85831810969188,
          -48.35654807349007,
          -23.80388634639599,
          -309.89336616672335,
          -103.95766757455408,
          -91.34138356865915,
          -53.7961803815124,
          -104.80493069643218,
          -283.23206109002433,
          -55.545671114495654,
          -46.03041799934277,
          -55.94997419601019,
          -75.15546499368725,
          -55.29651953856617,
          -45.49248110540467,
          -32.50655234271388,
          -17.549048625014,
          -25.459435686662403,
          -21.61426859304502,
          5.971025017012657,
          -21.209471270362805,
          -150.9367361631673,
          -55.83525422815043,
          -251.01238929576593,
          -29.811752698455862,
          2.4653462023906343,
          -95.84418377897374,
          -42.11867370631414,
          -59.57244648461415,
          -35.00551793885804,
          -27.85550160608938,
          -75.37793759633817,
          -20.0864431506577,
          -60.214804919447985,
          -47.33666620704861,
          -125.45253718956442,
          -102.39735348454232,
          8.58128738753259,
          44.472901175346706,
          14.136511551063485,
          -0.9066375715864616,
          -17.014160413696764,
          -50.81035566532748,
          -254.67525482757563,
          -63.01232260602574,
          -139.7543547237448,
          -134.94582669491336,
          -232.90461000769488,
          -170.87632856283096,
          -506.2636067673519,
          -43.2086574366972,
          -12.582029018753445,
          -247.45347703532346,
          -119.72172844511906,
          -215.07635513632462,
          -61.342892189535284,
          -123.15882662039255,
          -126.6436369499985,
          -40.64888871863343,
          -55.356329143503075,
          -151.36567237142367,
          -101.10220215917084,
          -564.9865114850678,
          -202.20340327542354,
          -126.11812116719258,
          -35.790929590344206,
          -3.65254408182048,
          -21.604204520376214,
          0.6699311477795931,
          -79.07933547621167,
          -21.172723941230885,
          129.7394125995387,
          -127.01560766474432,
          -46.60219521650673,
          -165.8788016813038,
          -45.12471154979988,
          -69.93087696310533,
          -210.62665851381368,
          -265.3362867182701,
          11.7849862118698,
          -88.67841937061887,
          -2.450405335329087,
          -28.83758443502085,
          16.00927737386813,
          -85.19758410182865,
          -127.37531939467375,
          -109.78546208124467,
          84.14697922159652,
          -17.43317813718261,
          -35.69306942712006,
          -201.47736462739402,
          -29.020826662953446,
          -93.05716143331378,
          -107.09371937843403,
          -101.87732365780445,
          -49.75007878006938,
          -28.97587207840034,
          -213.8452093081217,
          -60.21296199199544,
          -45.809375079392424,
          -52.824673952168,
          -9.69193304556373,
          -144.31163890466567,
          -70.97536848857621,
          -432.1247450371766,
          -65.35609966563106,
          -229.86473405515875,
          -94.45924550667961,
          -78.31553044266441,
          -12.775235919445961,
          -303.74054016376147,
          32.053823404377155,
          -155.81773289844216,
          -153.35514095172675,
          -10.244589682775057,
          21.97565937100046,
          -161.5306199768608,
          -70.73164493295596,
          -45.78930784741215,
          -31.3309363642012,
          -23.79506703152144,
          -30.162166858274816,
          -18.37327635705774,
          -37.20646873934094,
          -29.354907353350924,
          -32.395450119304826,
          -37.00031554043885,
          -40.76144528782601,
          -283.22561190970566,
          -60.97951803679485,
          -51.418270334788716,
          -278.94147035881394,
          -201.0626456327723,
          -368.0080011464029,
          -47.73907015717341,
          -178.23223178152088,
          -71.93480771833848,
          -308.00525597793626,
          -31.792251878415215,
          41.04352317973624,
          -282.2483670876637,
          -54.49809729168831,
          11.82337810544172,
          -430.2797498063606,
          59.306311562922815,
          -64.79376698632585,
          -36.123278893270836,
          -129.06220588036533,
          -55.21116380194977,
          -161.37508800538575,
          -153.9756039015957,
          -294.01048193183794,
          -80.13744751577809,
          -224.27379169576824,
          -175.76338217563412,
          -22.695668075963447,
          -29.69318285958274,
          -25.036183053412998,
          0.4243474973974628,
          -4.458612928764325,
          -24.116208741434924,
          -6.76327569988284,
          -24.6956265141855,
          -7.0571543088515725,
          -99.32336498717882,
          -14.70881498939356,
          -37.97686514847656,
          -65.24478152938148,
          -31.71137675491461,
          -59.02861896851535,
          -94.8507908801428,
          -82.05706568947623,
          -324.42301762972886,
          -18.498169457474262,
          -22.942108426582685,
          -42.9767230730435,
          -127.37449636645803,
          -29.609448007688812,
          -33.9203956261646,
          -14.417543743690743,
          -201.59777423627753,
          -326.381146412325,
          -43.739241982420694,
          -20.52522495550501,
          -79.86610870422466,
          -79.43498175475013,
          -75.12898560550832,
          -273.14067205968433,
          -61.29522426597181,
          -57.06952293508871,
          -420.0339973401227,
          -91.91179861246565,
          -260.7188423580012,
          -143.97288665860566,
          -61.80775850935333,
          52.27237057987843,
          -28.755267699306444,
          -176.8104562676184,
          -169.43332589414953,
          -167.66576539581507,
          -188.18193096359204,
          -13.377573312585682,
          -14.021648855977418,
          -216.66565655936375,
          -68.386146109646,
          -66.7393784168687,
          -169.8078342664765,
          -18.152926342209376,
          -59.424496213023204,
          -78.48960496614589,
          -30.89607004630065,
          -51.71851304238209,
          -31.779142613144224,
          -100.83327661491738,
          -90.8098860475296,
          -104.5622675495682,
          -26.02452226249251,
          -128.89516578219468,
          -89.67686786344355,
          -126.50600409175189,
          -236.64815428254872,
          -38.16267387606855,
          -26.112766041042242,
          12.254674863256021,
          -11.67382106419798,
          -94.79926199345832,
          -82.12393030844609,
          -36.86464573038594,
          -14.510766453685243,
          -85.47766992888457,
          -54.12792868215095,
          -38.9871726327644,
          -12.212660836667688,
          -46.93377641161427,
          -28.650389086863846,
          -204.68869541257598,
          -14.689500902094728,
          -31.86971051091389,
          7.06281253165163,
          -165.40800592128647,
          -58.85042659857227,
          -49.543440090094194,
          -98.60191696088503,
          10.946001636877753,
          -172.37477638695304,
          -511.49568292035565,
          -434.3399401501564,
          -20.09379197739723,
          5.154137630288119,
          -207.23839347963383,
          -380.10181531433216,
          -113.52314130617376,
          -8.034942401508602,
          19.122853611793587,
          -287.3334912764517,
          -18.66525910773216,
          -360.1131400028827,
          -76.11639733882943,
          -282.609787016781,
          -516.3134837918883,
          -19.91340456968122,
          -56.19230789887605,
          -135.06395299543837,
          -86.98280840812473,
          -403.49574475555943,
          -0.2862345298430782,
          -29.342228691732444,
          -70.8190546871648,
          -24.556245582023855,
          -215.63973407938698,
          -6.794732340771539,
          -73.51915735410839,
          -46.472863003823676,
          -296.7490452907882,
          -34.49197739156944,
          -48.84307421192868,
          -20.030498217177712,
          -36.081976526387955,
          -12.299979243076159,
          -17.396942533527987,
          -33.129411977296485,
          -32.4287111669108,
          -16.947895967470533,
          -12.585820213441096,
          -14.01786400967702,
          -17.190058618016096,
          -33.91759704958916,
          -36.38241778177809,
          -26.80910286346192,
          -17.876578498868874,
          -22.739491514769593,
          -17.238148593624615,
          -14.703743533153354,
          -91.69365500795584,
          -115.83518700478483,
          -94.36099247228097,
          -28.216076910935215,
          -148.83643790810729,
          -148.62220954257285,
          -230.98150372206013,
          -46.15333208133866,
          -52.118962243946115,
          -119.40611230619884,
          -44.93532847479526,
          -81.91004413096428,
          -218.42043537029758,
          -28.150186818942622,
          -195.2159146785292,
          -91.74133411032284,
          -90.51719345093392,
          -14.010948334565583,
          -351.6497021595564,
          -47.4581886847634,
          -50.021470955830445,
          -320.9070840879773,
          -32.50853882260919,
          -41.433574979708524,
          -139.72983807183175,
          -40.56099222587762,
          -120.75544233109406,
          -58.2104401118527,
          -230.61614186403108,
          -193.1847570612392,
          -17.209336403943254,
          -217.2387638712101,
          -12.551219359008563,
          -343.37497006457556,
          -41.56057570806041,
          -116.91176227756785,
          -44.14891291887231,
          7.905509898330273,
          -422.3019295495841,
          -9.611748510112847,
          5.188557549990222,
          -59.55022221401267,
          -49.02061680036411,
          -23.67970045450641,
          11.714270715418095,
          -1.4079043033508256,
          17.370210440696113,
          17.262148006173824,
          -66.867191532339,
          -19.38189543456008,
          -63.80662604777165,
          3.2272198743359297,
          14.214491036221844,
          -266.0480530037423,
          -14.862468956681326,
          31.189326377135593,
          -7.7047201988933125,
          -2.6058782505864713,
          114.42785319336022,
          107.28416425268539,
          -67.92899026675107,
          -145.8841138556628,
          -114.81332999925104,
          -27.57487601844106,
          -36.24351223286343,
          -42.06967529578926,
          -15.223049625940021,
          -30.11177001267375,
          -9.796834264467542,
          -14.297296725436034,
          -64.34274476436218,
          -34.42980949736572,
          -115.96991351352693,
          -20.754618334112315,
          22.45486317915646,
          -48.81837964084079,
          -33.5765858182301,
          -5.355918401223732,
          -69.47391881767909,
          -78.35932461063673,
          -27.718024241057726,
          -90.50263197075105,
          -21.381511126681318,
          -117.52968821843079,
          -103.64097614941747,
          -117.91651547560826,
          -33.63072380491677,
          -47.43067550914907,
          -40.57628794749955,
          -126.54197476245432,
          -108.76739184814797,
          -101.67458385559186,
          -39.659665022985735,
          -6.401110280331579,
          -898.3351329217546,
          -330.478399277951,
          -107.67466288870902,
          -40.4967411128913,
          -479.38209306073134,
          -213.49672619057267,
          -86.85426475952153,
          -24.73190005308038,
          -548.729773678556,
          -57.84245574563568,
          -26.730746521606477,
          -53.1601944105609,
          -134.1754532583519,
          -360.17223364736793,
          -240.67606311682283,
          -74.99138645291998,
          -338.2708182705868,
          -219.66433202005948,
          -58.3774296282306,
          -95.35290186641075,
          -43.261585306746014,
          -97.33232574395515,
          -34.86831001684254,
          -104.44692794195987,
          -28.645724156525837,
          -465.72830490232366,
          -19.851320802435154,
          -157.92341091638224,
          -7.50098344296282,
          -42.01669693250513,
          -93.89817938028077,
          -12.351383405759023,
          -30.135460923845812,
          -328.66013129282646,
          -199.3981743926851,
          -109.17613416878329,
          -369.3421523214324,
          -153.0904978463118,
          -48.121507278940314,
          -45.214864303390875,
          -37.70771885177885,
          -212.9331669842963,
          -129.39752065897108,
          -33.64441292986395,
          -65.97641342730653
         ],
         "yaxis": "y"
        }
       ],
       "layout": {
        "annotations": [
         {
          "showarrow": false,
          "text": "Mean Difference",
          "x": 1,
          "xanchor": "right",
          "xref": "x domain",
          "y": -94.58356405393234,
          "yanchor": "top",
          "yref": "y"
         },
         {
          "showarrow": false,
          "text": "Upper Limit of Agreement",
          "x": 1,
          "xanchor": "right",
          "xref": "x domain",
          "y": 187.6806717916058,
          "yanchor": "top",
          "yref": "y"
         },
         {
          "showarrow": false,
          "text": "Lower Limit of Agreement",
          "x": 1,
          "xanchor": "right",
          "xref": "x domain",
          "y": -376.84779989947043,
          "yanchor": "bottom",
          "yref": "y"
         }
        ],
        "height": 500,
        "legend": {
         "tracegroupgap": 0
        },
        "shapes": [
         {
          "line": {
           "color": "red",
           "dash": "dash"
          },
          "type": "line",
          "x0": 0,
          "x1": 1,
          "xref": "x domain",
          "y0": -94.58356405393234,
          "y1": -94.58356405393234,
          "yref": "y"
         },
         {
          "line": {
           "color": "green",
           "dash": "dash"
          },
          "type": "line",
          "x0": 0,
          "x1": 1,
          "xref": "x domain",
          "y0": 187.6806717916058,
          "y1": 187.6806717916058,
          "yref": "y"
         },
         {
          "line": {
           "color": "green",
           "dash": "dash"
          },
          "type": "line",
          "x0": 0,
          "x1": 1,
          "xref": "x domain",
          "y0": -376.84779989947043,
          "y1": -376.84779989947043,
          "yref": "y"
         }
        ],
        "showlegend": false,
        "template": {
         "data": {
          "bar": [
           {
            "error_x": {
             "color": "#2a3f5f"
            },
            "error_y": {
             "color": "#2a3f5f"
            },
            "marker": {
             "line": {
              "color": "#E5ECF6",
              "width": 0.5
             },
             "pattern": {
              "fillmode": "overlay",
              "size": 10,
              "solidity": 0.2
             }
            },
            "type": "bar"
           }
          ],
          "barpolar": [
           {
            "marker": {
             "line": {
              "color": "#E5ECF6",
              "width": 0.5
             },
             "pattern": {
              "fillmode": "overlay",
              "size": 10,
              "solidity": 0.2
             }
            },
            "type": "barpolar"
           }
          ],
          "carpet": [
           {
            "aaxis": {
             "endlinecolor": "#2a3f5f",
             "gridcolor": "white",
             "linecolor": "white",
             "minorgridcolor": "white",
             "startlinecolor": "#2a3f5f"
            },
            "baxis": {
             "endlinecolor": "#2a3f5f",
             "gridcolor": "white",
             "linecolor": "white",
             "minorgridcolor": "white",
             "startlinecolor": "#2a3f5f"
            },
            "type": "carpet"
           }
          ],
          "choropleth": [
           {
            "colorbar": {
             "outlinewidth": 0,
             "ticks": ""
            },
            "type": "choropleth"
           }
          ],
          "contour": [
           {
            "colorbar": {
             "outlinewidth": 0,
             "ticks": ""
            },
            "colorscale": [
             [
              0,
              "#0d0887"
             ],
             [
              0.1111111111111111,
              "#46039f"
             ],
             [
              0.2222222222222222,
              "#7201a8"
             ],
             [
              0.3333333333333333,
              "#9c179e"
             ],
             [
              0.4444444444444444,
              "#bd3786"
             ],
             [
              0.5555555555555556,
              "#d8576b"
             ],
             [
              0.6666666666666666,
              "#ed7953"
             ],
             [
              0.7777777777777778,
              "#fb9f3a"
             ],
             [
              0.8888888888888888,
              "#fdca26"
             ],
             [
              1,
              "#f0f921"
             ]
            ],
            "type": "contour"
           }
          ],
          "contourcarpet": [
           {
            "colorbar": {
             "outlinewidth": 0,
             "ticks": ""
            },
            "type": "contourcarpet"
           }
          ],
          "heatmap": [
           {
            "colorbar": {
             "outlinewidth": 0,
             "ticks": ""
            },
            "colorscale": [
             [
              0,
              "#0d0887"
             ],
             [
              0.1111111111111111,
              "#46039f"
             ],
             [
              0.2222222222222222,
              "#7201a8"
             ],
             [
              0.3333333333333333,
              "#9c179e"
             ],
             [
              0.4444444444444444,
              "#bd3786"
             ],
             [
              0.5555555555555556,
              "#d8576b"
             ],
             [
              0.6666666666666666,
              "#ed7953"
             ],
             [
              0.7777777777777778,
              "#fb9f3a"
             ],
             [
              0.8888888888888888,
              "#fdca26"
             ],
             [
              1,
              "#f0f921"
             ]
            ],
            "type": "heatmap"
           }
          ],
          "heatmapgl": [
           {
            "colorbar": {
             "outlinewidth": 0,
             "ticks": ""
            },
            "colorscale": [
             [
              0,
              "#0d0887"
             ],
             [
              0.1111111111111111,
              "#46039f"
             ],
             [
              0.2222222222222222,
              "#7201a8"
             ],
             [
              0.3333333333333333,
              "#9c179e"
             ],
             [
              0.4444444444444444,
              "#bd3786"
             ],
             [
              0.5555555555555556,
              "#d8576b"
             ],
             [
              0.6666666666666666,
              "#ed7953"
             ],
             [
              0.7777777777777778,
              "#fb9f3a"
             ],
             [
              0.8888888888888888,
              "#fdca26"
             ],
             [
              1,
              "#f0f921"
             ]
            ],
            "type": "heatmapgl"
           }
          ],
          "histogram": [
           {
            "marker": {
             "pattern": {
              "fillmode": "overlay",
              "size": 10,
              "solidity": 0.2
             }
            },
            "type": "histogram"
           }
          ],
          "histogram2d": [
           {
            "colorbar": {
             "outlinewidth": 0,
             "ticks": ""
            },
            "colorscale": [
             [
              0,
              "#0d0887"
             ],
             [
              0.1111111111111111,
              "#46039f"
             ],
             [
              0.2222222222222222,
              "#7201a8"
             ],
             [
              0.3333333333333333,
              "#9c179e"
             ],
             [
              0.4444444444444444,
              "#bd3786"
             ],
             [
              0.5555555555555556,
              "#d8576b"
             ],
             [
              0.6666666666666666,
              "#ed7953"
             ],
             [
              0.7777777777777778,
              "#fb9f3a"
             ],
             [
              0.8888888888888888,
              "#fdca26"
             ],
             [
              1,
              "#f0f921"
             ]
            ],
            "type": "histogram2d"
           }
          ],
          "histogram2dcontour": [
           {
            "colorbar": {
             "outlinewidth": 0,
             "ticks": ""
            },
            "colorscale": [
             [
              0,
              "#0d0887"
             ],
             [
              0.1111111111111111,
              "#46039f"
             ],
             [
              0.2222222222222222,
              "#7201a8"
             ],
             [
              0.3333333333333333,
              "#9c179e"
             ],
             [
              0.4444444444444444,
              "#bd3786"
             ],
             [
              0.5555555555555556,
              "#d8576b"
             ],
             [
              0.6666666666666666,
              "#ed7953"
             ],
             [
              0.7777777777777778,
              "#fb9f3a"
             ],
             [
              0.8888888888888888,
              "#fdca26"
             ],
             [
              1,
              "#f0f921"
             ]
            ],
            "type": "histogram2dcontour"
           }
          ],
          "mesh3d": [
           {
            "colorbar": {
             "outlinewidth": 0,
             "ticks": ""
            },
            "type": "mesh3d"
           }
          ],
          "parcoords": [
           {
            "line": {
             "colorbar": {
              "outlinewidth": 0,
              "ticks": ""
             }
            },
            "type": "parcoords"
           }
          ],
          "pie": [
           {
            "automargin": true,
            "type": "pie"
           }
          ],
          "scatter": [
           {
            "fillpattern": {
             "fillmode": "overlay",
             "size": 10,
             "solidity": 0.2
            },
            "type": "scatter"
           }
          ],
          "scatter3d": [
           {
            "line": {
             "colorbar": {
              "outlinewidth": 0,
              "ticks": ""
             }
            },
            "marker": {
             "colorbar": {
              "outlinewidth": 0,
              "ticks": ""
             }
            },
            "type": "scatter3d"
           }
          ],
          "scattercarpet": [
           {
            "marker": {
             "colorbar": {
              "outlinewidth": 0,
              "ticks": ""
             }
            },
            "type": "scattercarpet"
           }
          ],
          "scattergeo": [
           {
            "marker": {
             "colorbar": {
              "outlinewidth": 0,
              "ticks": ""
             }
            },
            "type": "scattergeo"
           }
          ],
          "scattergl": [
           {
            "marker": {
             "colorbar": {
              "outlinewidth": 0,
              "ticks": ""
             }
            },
            "type": "scattergl"
           }
          ],
          "scattermapbox": [
           {
            "marker": {
             "colorbar": {
              "outlinewidth": 0,
              "ticks": ""
             }
            },
            "type": "scattermapbox"
           }
          ],
          "scatterpolar": [
           {
            "marker": {
             "colorbar": {
              "outlinewidth": 0,
              "ticks": ""
             }
            },
            "type": "scatterpolar"
           }
          ],
          "scatterpolargl": [
           {
            "marker": {
             "colorbar": {
              "outlinewidth": 0,
              "ticks": ""
             }
            },
            "type": "scatterpolargl"
           }
          ],
          "scatterternary": [
           {
            "marker": {
             "colorbar": {
              "outlinewidth": 0,
              "ticks": ""
             }
            },
            "type": "scatterternary"
           }
          ],
          "surface": [
           {
            "colorbar": {
             "outlinewidth": 0,
             "ticks": ""
            },
            "colorscale": [
             [
              0,
              "#0d0887"
             ],
             [
              0.1111111111111111,
              "#46039f"
             ],
             [
              0.2222222222222222,
              "#7201a8"
             ],
             [
              0.3333333333333333,
              "#9c179e"
             ],
             [
              0.4444444444444444,
              "#bd3786"
             ],
             [
              0.5555555555555556,
              "#d8576b"
             ],
             [
              0.6666666666666666,
              "#ed7953"
             ],
             [
              0.7777777777777778,
              "#fb9f3a"
             ],
             [
              0.8888888888888888,
              "#fdca26"
             ],
             [
              1,
              "#f0f921"
             ]
            ],
            "type": "surface"
           }
          ],
          "table": [
           {
            "cells": {
             "fill": {
              "color": "#EBF0F8"
             },
             "line": {
              "color": "white"
             }
            },
            "header": {
             "fill": {
              "color": "#C8D4E3"
             },
             "line": {
              "color": "white"
             }
            },
            "type": "table"
           }
          ]
         },
         "layout": {
          "annotationdefaults": {
           "arrowcolor": "#2a3f5f",
           "arrowhead": 0,
           "arrowwidth": 1
          },
          "autotypenumbers": "strict",
          "coloraxis": {
           "colorbar": {
            "outlinewidth": 0,
            "ticks": ""
           }
          },
          "colorscale": {
           "diverging": [
            [
             0,
             "#8e0152"
            ],
            [
             0.1,
             "#c51b7d"
            ],
            [
             0.2,
             "#de77ae"
            ],
            [
             0.3,
             "#f1b6da"
            ],
            [
             0.4,
             "#fde0ef"
            ],
            [
             0.5,
             "#f7f7f7"
            ],
            [
             0.6,
             "#e6f5d0"
            ],
            [
             0.7,
             "#b8e186"
            ],
            [
             0.8,
             "#7fbc41"
            ],
            [
             0.9,
             "#4d9221"
            ],
            [
             1,
             "#276419"
            ]
           ],
           "sequential": [
            [
             0,
             "#0d0887"
            ],
            [
             0.1111111111111111,
             "#46039f"
            ],
            [
             0.2222222222222222,
             "#7201a8"
            ],
            [
             0.3333333333333333,
             "#9c179e"
            ],
            [
             0.4444444444444444,
             "#bd3786"
            ],
            [
             0.5555555555555556,
             "#d8576b"
            ],
            [
             0.6666666666666666,
             "#ed7953"
            ],
            [
             0.7777777777777778,
             "#fb9f3a"
            ],
            [
             0.8888888888888888,
             "#fdca26"
            ],
            [
             1,
             "#f0f921"
            ]
           ],
           "sequentialminus": [
            [
             0,
             "#0d0887"
            ],
            [
             0.1111111111111111,
             "#46039f"
            ],
            [
             0.2222222222222222,
             "#7201a8"
            ],
            [
             0.3333333333333333,
             "#9c179e"
            ],
            [
             0.4444444444444444,
             "#bd3786"
            ],
            [
             0.5555555555555556,
             "#d8576b"
            ],
            [
             0.6666666666666666,
             "#ed7953"
            ],
            [
             0.7777777777777778,
             "#fb9f3a"
            ],
            [
             0.8888888888888888,
             "#fdca26"
            ],
            [
             1,
             "#f0f921"
            ]
           ]
          },
          "colorway": [
           "#636efa",
           "#EF553B",
           "#00cc96",
           "#ab63fa",
           "#FFA15A",
           "#19d3f3",
           "#FF6692",
           "#B6E880",
           "#FF97FF",
           "#FECB52"
          ],
          "font": {
           "color": "#2a3f5f"
          },
          "geo": {
           "bgcolor": "white",
           "lakecolor": "white",
           "landcolor": "#E5ECF6",
           "showlakes": true,
           "showland": true,
           "subunitcolor": "white"
          },
          "hoverlabel": {
           "align": "left"
          },
          "hovermode": "closest",
          "mapbox": {
           "style": "light"
          },
          "paper_bgcolor": "white",
          "plot_bgcolor": "#E5ECF6",
          "polar": {
           "angularaxis": {
            "gridcolor": "white",
            "linecolor": "white",
            "ticks": ""
           },
           "bgcolor": "#E5ECF6",
           "radialaxis": {
            "gridcolor": "white",
            "linecolor": "white",
            "ticks": ""
           }
          },
          "scene": {
           "xaxis": {
            "backgroundcolor": "#E5ECF6",
            "gridcolor": "white",
            "gridwidth": 2,
            "linecolor": "white",
            "showbackground": true,
            "ticks": "",
            "zerolinecolor": "white"
           },
           "yaxis": {
            "backgroundcolor": "#E5ECF6",
            "gridcolor": "white",
            "gridwidth": 2,
            "linecolor": "white",
            "showbackground": true,
            "ticks": "",
            "zerolinecolor": "white"
           },
           "zaxis": {
            "backgroundcolor": "#E5ECF6",
            "gridcolor": "white",
            "gridwidth": 2,
            "linecolor": "white",
            "showbackground": true,
            "ticks": "",
            "zerolinecolor": "white"
           }
          },
          "shapedefaults": {
           "line": {
            "color": "#2a3f5f"
           }
          },
          "ternary": {
           "aaxis": {
            "gridcolor": "white",
            "linecolor": "white",
            "ticks": ""
           },
           "baxis": {
            "gridcolor": "white",
            "linecolor": "white",
            "ticks": ""
           },
           "bgcolor": "#E5ECF6",
           "caxis": {
            "gridcolor": "white",
            "linecolor": "white",
            "ticks": ""
           }
          },
          "title": {
           "x": 0.05
          },
          "xaxis": {
           "automargin": true,
           "gridcolor": "white",
           "linecolor": "white",
           "ticks": "",
           "title": {
            "standoff": 15
           },
           "zerolinecolor": "white",
           "zerolinewidth": 2
          },
          "yaxis": {
           "automargin": true,
           "gridcolor": "white",
           "linecolor": "white",
           "ticks": "",
           "title": {
            "standoff": 15
           },
           "zerolinecolor": "white",
           "zerolinewidth": 2
          }
         }
        },
        "title": {
         "text": "Bland-Altman Plot"
        },
        "width": 800,
        "xaxis": {
         "anchor": "y",
         "domain": [
          0,
          1
         ],
         "title": {
          "text": "Mean of Methods"
         }
        },
        "yaxis": {
         "anchor": "x",
         "domain": [
          0,
          1
         ],
         "title": {
          "text": "Difference (Method1 - Method2)"
         }
        }
       }
      }
     },
     "metadata": {},
     "output_type": "display_data"
    }
   ],
   "source": [
    "import plotly.express as px\n",
    "\n",
    "def bland_altman_plot(data, method1, method2, title=\"Bland-Altman Plot\"):\n",
    "    \"\"\"\n",
    "    Create a Bland-Altman plot using Plotly.\n",
    "\n",
    "    Parameters:\n",
    "    - data: DataFrame containing the measurements for method1 and method2.\n",
    "    - method1: Name of the first measurement method.\n",
    "    - method2: Name of the second measurement method.\n",
    "    - title: Title of the plot.\n",
    "\n",
    "    Returns:\n",
    "    - fig: Plotly figure.\n",
    "    \"\"\"\n",
    "    mean_diff = (data[method1] + data[method2]) / 2\n",
    "    diff = data[method1] - data[method2]\n",
    "\n",
    "    fig = px.scatter(x=mean_diff, y=diff, labels={'x': 'Mean of Methods', 'y': 'Difference (Method1 - Method2)'},\n",
    "                     title=title, hover_data=[data.index], width=800, height=500)\n",
    "\n",
    "    fig.update_layout(showlegend=False)\n",
    "    fig.add_hline(y=diff.mean(), line_dash=\"dash\", line_color=\"red\", annotation_text=\"Mean Difference\",\n",
    "                  annotation_position=\"bottom right\")\n",
    "\n",
    "    upper_limit = diff.mean() + 1.96 * diff.std()\n",
    "    lower_limit = diff.mean() - 1.96 * diff.std()\n",
    "\n",
    "    fig.add_hline(y=upper_limit, line_dash=\"dash\", line_color=\"green\", annotation_text=\"Upper Limit of Agreement\",\n",
    "                  annotation_position=\"bottom right\")\n",
    "    fig.add_hline(y=lower_limit, line_dash=\"dash\", line_color=\"green\", annotation_text=\"Lower Limit of Agreement\",\n",
    "                  annotation_position=\"top right\")\n",
    "\n",
    "    fig.update_traces(marker=dict(size=8))\n",
    "\n",
    "    return fig\n",
    "\n",
    "bland_altman_fig = bland_altman_plot(wqi, 'WQI', 'EWQI', title=\"Bland-Altman Plot\")\n",
    "bland_altman_fig.show()"
   ]
  },
  {
   "cell_type": "code",
   "execution_count": 22,
   "metadata": {},
   "outputs": [
    {
     "data": {
      "text/html": [
       "<div>\n",
       "<style scoped>\n",
       "    .dataframe tbody tr th:only-of-type {\n",
       "        vertical-align: middle;\n",
       "    }\n",
       "\n",
       "    .dataframe tbody tr th {\n",
       "        vertical-align: top;\n",
       "    }\n",
       "\n",
       "    .dataframe thead th {\n",
       "        text-align: right;\n",
       "    }\n",
       "</style>\n",
       "<table border=\"1\" class=\"dataframe\">\n",
       "  <thead>\n",
       "    <tr style=\"text-align: right;\">\n",
       "      <th></th>\n",
       "      <th>WQI</th>\n",
       "      <th>WQI_CLASSIF</th>\n",
       "      <th>EWQI</th>\n",
       "      <th>EWQI_CLASSIF</th>\n",
       "    </tr>\n",
       "  </thead>\n",
       "  <tbody>\n",
       "    <tr>\n",
       "      <th>0</th>\n",
       "      <td>179.179174</td>\n",
       "      <td>Unsuitable</td>\n",
       "      <td>307.655924</td>\n",
       "      <td>Unsuitable</td>\n",
       "    </tr>\n",
       "    <tr>\n",
       "      <th>1</th>\n",
       "      <td>503.168402</td>\n",
       "      <td>Unsuitable</td>\n",
       "      <td>1274.533598</td>\n",
       "      <td>Unsuitable</td>\n",
       "    </tr>\n",
       "    <tr>\n",
       "      <th>2</th>\n",
       "      <td>39.979871</td>\n",
       "      <td>Good</td>\n",
       "      <td>59.095708</td>\n",
       "      <td>Poor</td>\n",
       "    </tr>\n",
       "    <tr>\n",
       "      <th>3</th>\n",
       "      <td>623.628660</td>\n",
       "      <td>Unsuitable</td>\n",
       "      <td>636.424848</td>\n",
       "      <td>Unsuitable</td>\n",
       "    </tr>\n",
       "    <tr>\n",
       "      <th>4</th>\n",
       "      <td>57.007405</td>\n",
       "      <td>Poor</td>\n",
       "      <td>151.448314</td>\n",
       "      <td>Unsuitable</td>\n",
       "    </tr>\n",
       "    <tr>\n",
       "      <th>...</th>\n",
       "      <td>...</td>\n",
       "      <td>...</td>\n",
       "      <td>...</td>\n",
       "      <td>...</td>\n",
       "    </tr>\n",
       "    <tr>\n",
       "      <th>2759</th>\n",
       "      <td>17.533385</td>\n",
       "      <td>Excellent</td>\n",
       "      <td>55.241104</td>\n",
       "      <td>Poor</td>\n",
       "    </tr>\n",
       "    <tr>\n",
       "      <th>2760</th>\n",
       "      <td>74.851919</td>\n",
       "      <td>Poor</td>\n",
       "      <td>287.785086</td>\n",
       "      <td>Unsuitable</td>\n",
       "    </tr>\n",
       "    <tr>\n",
       "      <th>2761</th>\n",
       "      <td>67.464524</td>\n",
       "      <td>Poor</td>\n",
       "      <td>196.862044</td>\n",
       "      <td>Unsuitable</td>\n",
       "    </tr>\n",
       "    <tr>\n",
       "      <th>2762</th>\n",
       "      <td>69.255678</td>\n",
       "      <td>Poor</td>\n",
       "      <td>102.900091</td>\n",
       "      <td>Unsuitable</td>\n",
       "    </tr>\n",
       "    <tr>\n",
       "      <th>2763</th>\n",
       "      <td>35.477952</td>\n",
       "      <td>Good</td>\n",
       "      <td>101.454366</td>\n",
       "      <td>Unsuitable</td>\n",
       "    </tr>\n",
       "  </tbody>\n",
       "</table>\n",
       "<p>2764 rows × 4 columns</p>\n",
       "</div>"
      ],
      "text/plain": [
       "             WQI WQI_CLASSIF         EWQI EWQI_CLASSIF\n",
       "0     179.179174  Unsuitable   307.655924   Unsuitable\n",
       "1     503.168402  Unsuitable  1274.533598   Unsuitable\n",
       "2      39.979871        Good    59.095708         Poor\n",
       "3     623.628660  Unsuitable   636.424848   Unsuitable\n",
       "4      57.007405        Poor   151.448314   Unsuitable\n",
       "...          ...         ...          ...          ...\n",
       "2759   17.533385   Excellent    55.241104         Poor\n",
       "2760   74.851919        Poor   287.785086   Unsuitable\n",
       "2761   67.464524        Poor   196.862044   Unsuitable\n",
       "2762   69.255678        Poor   102.900091   Unsuitable\n",
       "2763   35.477952        Good   101.454366   Unsuitable\n",
       "\n",
       "[2764 rows x 4 columns]"
      ]
     },
     "execution_count": 22,
     "metadata": {},
     "output_type": "execute_result"
    }
   ],
   "source": [
    "wqi"
   ]
  },
  {
   "cell_type": "markdown",
   "metadata": {},
   "source": []
  },
  {
   "cell_type": "code",
   "execution_count": 23,
   "metadata": {},
   "outputs": [
    {
     "data": {
      "text/plain": [
       "<Axes: >"
      ]
     },
     "execution_count": 23,
     "metadata": {},
     "output_type": "execute_result"
    },
    {
     "data": {
      "image/png": "[encoded data removed]",
      "text/plain": [
       "<Figure size 640x480 with 2 Axes>"
      ]
     },
     "metadata": {},
     "output_type": "display_data"
    }
   ],
   "source": [
    "sns.heatmap(wqi[['WQI','EWQI']].corr(), annot=True)"
   ]
  },
  {
   "cell_type": "code",
   "execution_count": null,
   "metadata": {},
   "outputs": [],
   "source": []
  },
  {
   "cell_type": "code",
   "execution_count": null,
   "metadata": {},
   "outputs": [],
   "source": []
  },
  {
   "cell_type": "code",
   "execution_count": null,
   "metadata": {},
   "outputs": [],
   "source": []
  },
  {
   "cell_type": "code",
   "execution_count": null,
   "metadata": {},
   "outputs": [],
   "source": []
  }
 ],
 "metadata": {
  "kernelspec": {
   "display_name": "Python 3",
   "language": "python",
   "name": "python3"
  },
  "language_info": {
   "codemirror_mode": {
    "name": "ipython",
    "version": 3
   },
   "file_extension": ".py",
   "mimetype": "text/x-python",
   "name": "python",
   "nbconvert_exporter": "python",
   "pygments_lexer": "ipython3",
   "version": "3.11.2"
  }
 },
 "nbformat": 4,
 "nbformat_minor": 2
}
